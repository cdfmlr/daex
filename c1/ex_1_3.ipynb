{
 "cells": [
  {
   "cell_type": "markdown",
   "id": "medieval-denial",
   "metadata": {},
   "source": [
    "## 习题 1.3\n",
    "\n",
    "数据："
   ]
  },
  {
   "cell_type": "code",
   "execution_count": 1,
   "id": "fitted-romance",
   "metadata": {},
   "outputs": [
    {
     "data": {
      "text/html": [
       "<table class=\"dataframe\">\n",
       "<caption>A data.frame: 22 × 4</caption>\n",
       "<thead>\n",
       "\t<tr><th scope=col>Year</th><th scope=col>Nationwide</th><th scope=col>Rural</th><th scope=col>Urban</th></tr>\n",
       "\t<tr><th scope=col>&lt;int&gt;</th><th scope=col>&lt;int&gt;</th><th scope=col>&lt;int&gt;</th><th scope=col>&lt;int&gt;</th></tr>\n",
       "</thead>\n",
       "<tbody>\n",
       "\t<tr><td>1978</td><td> 184</td><td> 138</td><td> 405</td></tr>\n",
       "\t<tr><td>1979</td><td> 207</td><td> 158</td><td> 434</td></tr>\n",
       "\t<tr><td>1980</td><td> 236</td><td> 178</td><td> 496</td></tr>\n",
       "\t<tr><td>1981</td><td> 262</td><td> 199</td><td> 562</td></tr>\n",
       "\t<tr><td>1982</td><td> 284</td><td> 221</td><td> 576</td></tr>\n",
       "\t<tr><td>1983</td><td> 311</td><td> 246</td><td> 603</td></tr>\n",
       "\t<tr><td>1984</td><td> 354</td><td> 283</td><td> 662</td></tr>\n",
       "\t<tr><td>1985</td><td> 437</td><td> 347</td><td> 802</td></tr>\n",
       "\t<tr><td>1986</td><td> 485</td><td> 376</td><td> 920</td></tr>\n",
       "\t<tr><td>1987</td><td> 550</td><td> 417</td><td>1089</td></tr>\n",
       "\t<tr><td>1988</td><td> 693</td><td> 508</td><td>1431</td></tr>\n",
       "\t<tr><td>1989</td><td> 762</td><td> 553</td><td>1568</td></tr>\n",
       "\t<tr><td>1990</td><td> 803</td><td> 571</td><td>1686</td></tr>\n",
       "\t<tr><td>1991</td><td> 896</td><td> 621</td><td>1925</td></tr>\n",
       "\t<tr><td>1992</td><td>1070</td><td> 718</td><td>2356</td></tr>\n",
       "\t<tr><td>1993</td><td>1331</td><td> 855</td><td>3027</td></tr>\n",
       "\t<tr><td>1994</td><td>1746</td><td>1118</td><td>3891</td></tr>\n",
       "\t<tr><td>1995</td><td>2336</td><td>1434</td><td>4874</td></tr>\n",
       "\t<tr><td>1996</td><td>2641</td><td>1768</td><td>5430</td></tr>\n",
       "\t<tr><td>1997</td><td>2834</td><td>1876</td><td>5796</td></tr>\n",
       "\t<tr><td>1998</td><td>2972</td><td>1895</td><td>6217</td></tr>\n",
       "\t<tr><td>1999</td><td>3180</td><td>1973</td><td>6651</td></tr>\n",
       "</tbody>\n",
       "</table>\n"
      ],
      "text/latex": [
       "A data.frame: 22 × 4\n",
       "\\begin{tabular}{llll}\n",
       " Year & Nationwide & Rural & Urban\\\\\n",
       " <int> & <int> & <int> & <int>\\\\\n",
       "\\hline\n",
       "\t 1978 &  184 &  138 &  405\\\\\n",
       "\t 1979 &  207 &  158 &  434\\\\\n",
       "\t 1980 &  236 &  178 &  496\\\\\n",
       "\t 1981 &  262 &  199 &  562\\\\\n",
       "\t 1982 &  284 &  221 &  576\\\\\n",
       "\t 1983 &  311 &  246 &  603\\\\\n",
       "\t 1984 &  354 &  283 &  662\\\\\n",
       "\t 1985 &  437 &  347 &  802\\\\\n",
       "\t 1986 &  485 &  376 &  920\\\\\n",
       "\t 1987 &  550 &  417 & 1089\\\\\n",
       "\t 1988 &  693 &  508 & 1431\\\\\n",
       "\t 1989 &  762 &  553 & 1568\\\\\n",
       "\t 1990 &  803 &  571 & 1686\\\\\n",
       "\t 1991 &  896 &  621 & 1925\\\\\n",
       "\t 1992 & 1070 &  718 & 2356\\\\\n",
       "\t 1993 & 1331 &  855 & 3027\\\\\n",
       "\t 1994 & 1746 & 1118 & 3891\\\\\n",
       "\t 1995 & 2336 & 1434 & 4874\\\\\n",
       "\t 1996 & 2641 & 1768 & 5430\\\\\n",
       "\t 1997 & 2834 & 1876 & 5796\\\\\n",
       "\t 1998 & 2972 & 1895 & 6217\\\\\n",
       "\t 1999 & 3180 & 1973 & 6651\\\\\n",
       "\\end{tabular}\n"
      ],
      "text/markdown": [
       "\n",
       "A data.frame: 22 × 4\n",
       "\n",
       "| Year &lt;int&gt; | Nationwide &lt;int&gt; | Rural &lt;int&gt; | Urban &lt;int&gt; |\n",
       "|---|---|---|---|\n",
       "| 1978 |  184 |  138 |  405 |\n",
       "| 1979 |  207 |  158 |  434 |\n",
       "| 1980 |  236 |  178 |  496 |\n",
       "| 1981 |  262 |  199 |  562 |\n",
       "| 1982 |  284 |  221 |  576 |\n",
       "| 1983 |  311 |  246 |  603 |\n",
       "| 1984 |  354 |  283 |  662 |\n",
       "| 1985 |  437 |  347 |  802 |\n",
       "| 1986 |  485 |  376 |  920 |\n",
       "| 1987 |  550 |  417 | 1089 |\n",
       "| 1988 |  693 |  508 | 1431 |\n",
       "| 1989 |  762 |  553 | 1568 |\n",
       "| 1990 |  803 |  571 | 1686 |\n",
       "| 1991 |  896 |  621 | 1925 |\n",
       "| 1992 | 1070 |  718 | 2356 |\n",
       "| 1993 | 1331 |  855 | 3027 |\n",
       "| 1994 | 1746 | 1118 | 3891 |\n",
       "| 1995 | 2336 | 1434 | 4874 |\n",
       "| 1996 | 2641 | 1768 | 5430 |\n",
       "| 1997 | 2834 | 1876 | 5796 |\n",
       "| 1998 | 2972 | 1895 | 6217 |\n",
       "| 1999 | 3180 | 1973 | 6651 |\n",
       "\n"
      ],
      "text/plain": [
       "   Year Nationwide Rural Urban\n",
       "1  1978  184        138   405 \n",
       "2  1979  207        158   434 \n",
       "3  1980  236        178   496 \n",
       "4  1981  262        199   562 \n",
       "5  1982  284        221   576 \n",
       "6  1983  311        246   603 \n",
       "7  1984  354        283   662 \n",
       "8  1985  437        347   802 \n",
       "9  1986  485        376   920 \n",
       "10 1987  550        417  1089 \n",
       "11 1988  693        508  1431 \n",
       "12 1989  762        553  1568 \n",
       "13 1990  803        571  1686 \n",
       "14 1991  896        621  1925 \n",
       "15 1992 1070        718  2356 \n",
       "16 1993 1331        855  3027 \n",
       "17 1994 1746       1118  3891 \n",
       "18 1995 2336       1434  4874 \n",
       "19 1996 2641       1768  5430 \n",
       "20 1997 2834       1876  5796 \n",
       "21 1998 2972       1895  6217 \n",
       "22 1999 3180       1973  6651 "
      ]
     },
     "metadata": {},
     "output_type": "display_data"
    }
   ],
   "source": [
    "data <- read.table(\"./ex_1_3.txt\", header=TRUE)\n",
    "data"
   ]
  },
  {
   "cell_type": "code",
   "execution_count": 2,
   "id": "premier-appearance",
   "metadata": {},
   "outputs": [
    {
     "data": {
      "text/plain": [
       "      Year        Nationwide         Rural            Urban       \n",
       " Min.   :1978   Min.   : 184.0   Min.   : 138.0   Min.   : 405.0  \n",
       " 1st Qu.:1983   1st Qu.: 321.8   1st Qu.: 255.2   1st Qu.: 617.8  \n",
       " Median :1988   Median : 727.5   Median : 530.5   Median :1499.5  \n",
       " Mean   :1988   Mean   :1117.0   Mean   : 747.9   Mean   :2336.4  \n",
       " 3rd Qu.:1994   3rd Qu.:1642.2   3rd Qu.:1052.2   3rd Qu.:3675.0  \n",
       " Max.   :1999   Max.   :3180.0   Max.   :1973.0   Max.   :6651.0  "
      ]
     },
     "metadata": {},
     "output_type": "display_data"
    }
   ],
   "source": [
    "summary(data)"
   ]
  },
  {
   "cell_type": "code",
   "execution_count": 3,
   "id": "desirable-recipient",
   "metadata": {},
   "outputs": [],
   "source": [
    "attach(data)"
   ]
  },
  {
   "cell_type": "markdown",
   "id": "likely-monday",
   "metadata": {},
   "source": [
    "方便直接使用 Year, Nationwide, Rural, Urban 这几个变量。"
   ]
  },
  {
   "cell_type": "markdown",
   "id": "excited-plastic",
   "metadata": {},
   "source": [
    "#### (1)\n",
    "\n",
    "**均值**："
   ]
  },
  {
   "cell_type": "code",
   "execution_count": 4,
   "id": "responsible-nothing",
   "metadata": {},
   "outputs": [
    {
     "data": {
      "text/html": [
       "<style>\n",
       ".list-inline {list-style: none; margin:0; padding: 0}\n",
       ".list-inline>li {display: inline-block}\n",
       ".list-inline>li:not(:last-child)::after {content: \"\\00b7\"; padding: 0 .5ex}\n",
       "</style>\n",
       "<ol class=list-inline><li>1117</li><li>747.863636363636</li><li>2336.40909090909</li></ol>\n"
      ],
      "text/latex": [
       "\\begin{enumerate*}\n",
       "\\item 1117\n",
       "\\item 747.863636363636\n",
       "\\item 2336.40909090909\n",
       "\\end{enumerate*}\n"
      ],
      "text/markdown": [
       "1. 1117\n",
       "2. 747.863636363636\n",
       "3. 2336.40909090909\n",
       "\n",
       "\n"
      ],
      "text/plain": [
       "[1] 1117.0000  747.8636 2336.4091"
      ]
     },
     "metadata": {},
     "output_type": "display_data"
    }
   ],
   "source": [
    "c(mean(Nationwide), mean(Rural), mean(Urban))"
   ]
  },
  {
   "cell_type": "markdown",
   "id": "collaborative-scholar",
   "metadata": {},
   "source": [
    "或者，R 提供有一个更方便的函数 `colMeans`，可以直接计算 data frame 各列均值 (`data[-1]` 排除了第一列 Year)："
   ]
  },
  {
   "cell_type": "code",
   "execution_count": 5,
   "id": "liked-orbit",
   "metadata": {},
   "outputs": [
    {
     "data": {
      "text/html": [
       "<style>\n",
       ".dl-inline {width: auto; margin:0; padding: 0}\n",
       ".dl-inline>dt, .dl-inline>dd {float: none; width: auto; display: inline-block}\n",
       ".dl-inline>dt::after {content: \":\\0020\"; padding-right: .5ex}\n",
       ".dl-inline>dt:not(:first-of-type) {padding-left: .5ex}\n",
       "</style><dl class=dl-inline><dt>Nationwide</dt><dd>1117</dd><dt>Rural</dt><dd>747.863636363636</dd><dt>Urban</dt><dd>2336.40909090909</dd></dl>\n"
      ],
      "text/latex": [
       "\\begin{description*}\n",
       "\\item[Nationwide] 1117\n",
       "\\item[Rural] 747.863636363636\n",
       "\\item[Urban] 2336.40909090909\n",
       "\\end{description*}\n"
      ],
      "text/markdown": [
       "Nationwide\n",
       ":   1117Rural\n",
       ":   747.863636363636Urban\n",
       ":   2336.40909090909\n",
       "\n"
      ],
      "text/plain": [
       "Nationwide      Rural      Urban \n",
       " 1117.0000   747.8636  2336.4091 "
      ]
     },
     "metadata": {},
     "output_type": "display_data"
    }
   ],
   "source": [
    "colMeans(data[-1])"
   ]
  },
  {
   "cell_type": "markdown",
   "id": "legal-export",
   "metadata": {},
   "source": [
    "colMeans 函数等价于如下 apply:"
   ]
  },
  {
   "cell_type": "code",
   "execution_count": 6,
   "id": "suited-bosnia",
   "metadata": {},
   "outputs": [
    {
     "data": {
      "text/html": [
       "<style>\n",
       ".dl-inline {width: auto; margin:0; padding: 0}\n",
       ".dl-inline>dt, .dl-inline>dd {float: none; width: auto; display: inline-block}\n",
       ".dl-inline>dt::after {content: \":\\0020\"; padding-right: .5ex}\n",
       ".dl-inline>dt:not(:first-of-type) {padding-left: .5ex}\n",
       "</style><dl class=dl-inline><dt>Nationwide</dt><dd>1117</dd><dt>Rural</dt><dd>747.863636363636</dd><dt>Urban</dt><dd>2336.40909090909</dd></dl>\n"
      ],
      "text/latex": [
       "\\begin{description*}\n",
       "\\item[Nationwide] 1117\n",
       "\\item[Rural] 747.863636363636\n",
       "\\item[Urban] 2336.40909090909\n",
       "\\end{description*}\n"
      ],
      "text/markdown": [
       "Nationwide\n",
       ":   1117Rural\n",
       ":   747.863636363636Urban\n",
       ":   2336.40909090909\n",
       "\n"
      ],
      "text/plain": [
       "Nationwide      Rural      Urban \n",
       " 1117.0000   747.8636  2336.4091 "
      ]
     },
     "metadata": {},
     "output_type": "display_data"
    }
   ],
   "source": [
    "apply(data[-1], MARGIN=2, FUN=mean)"
   ]
  },
  {
   "cell_type": "markdown",
   "id": "diverse-medicaid",
   "metadata": {},
   "source": [
    "注：`MARGIN = 2` 就是取列。"
   ]
  },
  {
   "cell_type": "markdown",
   "id": "streaming-safety",
   "metadata": {},
   "source": [
    "**方差**："
   ]
  },
  {
   "cell_type": "code",
   "execution_count": 7,
   "id": "exposed-barrel",
   "metadata": {},
   "outputs": [
    {
     "data": {
      "text/html": [
       "<style>\n",
       ".dl-inline {width: auto; margin:0; padding: 0}\n",
       ".dl-inline>dt, .dl-inline>dd {float: none; width: auto; display: inline-block}\n",
       ".dl-inline>dt::after {content: \":\\0020\"; padding-right: .5ex}\n",
       ".dl-inline>dt:not(:first-of-type) {padding-left: .5ex}\n",
       "</style><dl class=dl-inline><dt>Nationwide</dt><dd>1031680.28571429</dd><dt>Rural</dt><dd>399673.837662338</dd><dt>Urban</dt><dd>4536136.44372294</dd></dl>\n"
      ],
      "text/latex": [
       "\\begin{description*}\n",
       "\\item[Nationwide] 1031680.28571429\n",
       "\\item[Rural] 399673.837662338\n",
       "\\item[Urban] 4536136.44372294\n",
       "\\end{description*}\n"
      ],
      "text/markdown": [
       "Nationwide\n",
       ":   1031680.28571429Rural\n",
       ":   399673.837662338Urban\n",
       ":   4536136.44372294\n",
       "\n"
      ],
      "text/plain": [
       "Nationwide      Rural      Urban \n",
       " 1031680.3   399673.8  4536136.4 "
      ]
     },
     "metadata": {},
     "output_type": "display_data"
    }
   ],
   "source": [
    "apply(data[-1], 2, var)"
   ]
  },
  {
   "cell_type": "markdown",
   "id": "aging-collar",
   "metadata": {},
   "source": [
    "**标准差**："
   ]
  },
  {
   "cell_type": "code",
   "execution_count": 8,
   "id": "orange-gamma",
   "metadata": {},
   "outputs": [
    {
     "data": {
      "text/html": [
       "<style>\n",
       ".dl-inline {width: auto; margin:0; padding: 0}\n",
       ".dl-inline>dt, .dl-inline>dd {float: none; width: auto; display: inline-block}\n",
       ".dl-inline>dt::after {content: \":\\0020\"; padding-right: .5ex}\n",
       ".dl-inline>dt:not(:first-of-type) {padding-left: .5ex}\n",
       "</style><dl class=dl-inline><dt>Nationwide</dt><dd>1015.71663652531</dd><dt>Rural</dt><dd>632.197625479832</dd><dt>Urban</dt><dd>2129.82075389525</dd></dl>\n"
      ],
      "text/latex": [
       "\\begin{description*}\n",
       "\\item[Nationwide] 1015.71663652531\n",
       "\\item[Rural] 632.197625479832\n",
       "\\item[Urban] 2129.82075389525\n",
       "\\end{description*}\n"
      ],
      "text/markdown": [
       "Nationwide\n",
       ":   1015.71663652531Rural\n",
       ":   632.197625479832Urban\n",
       ":   2129.82075389525\n",
       "\n"
      ],
      "text/plain": [
       "Nationwide      Rural      Urban \n",
       " 1015.7166   632.1976  2129.8208 "
      ]
     },
     "metadata": {},
     "output_type": "display_data"
    }
   ],
   "source": [
    "apply(data[-1], 2, sd)"
   ]
  },
  {
   "cell_type": "markdown",
   "id": "adverse-police",
   "metadata": {},
   "source": [
    "**变异系数**："
   ]
  },
  {
   "cell_type": "code",
   "execution_count": 9,
   "id": "champion-hungarian",
   "metadata": {},
   "outputs": [
    {
     "data": {
      "text/html": [
       "<style>\n",
       ".dl-inline {width: auto; margin:0; padding: 0}\n",
       ".dl-inline>dt, .dl-inline>dd {float: none; width: auto; display: inline-block}\n",
       ".dl-inline>dt::after {content: \":\\0020\"; padding-right: .5ex}\n",
       ".dl-inline>dt:not(:first-of-type) {padding-left: .5ex}\n",
       "</style><dl class=dl-inline><dt>Nationwide</dt><dd>0.90932554747118</dd><dt>Rural</dt><dd>0.845338100076357</dd><dt>Urban</dt><dd>0.91157869663422</dd></dl>\n"
      ],
      "text/latex": [
       "\\begin{description*}\n",
       "\\item[Nationwide] 0.90932554747118\n",
       "\\item[Rural] 0.845338100076357\n",
       "\\item[Urban] 0.91157869663422\n",
       "\\end{description*}\n"
      ],
      "text/markdown": [
       "Nationwide\n",
       ":   0.90932554747118Rural\n",
       ":   0.845338100076357Urban\n",
       ":   0.91157869663422\n",
       "\n"
      ],
      "text/plain": [
       "Nationwide      Rural      Urban \n",
       " 0.9093255  0.8453381  0.9115787 "
      ]
     },
     "metadata": {},
     "output_type": "display_data"
    }
   ],
   "source": [
    "cv <- function(x) sd(x)/mean(x)\n",
    "\n",
    "apply(data[-1], 2, cv)"
   ]
  },
  {
   "cell_type": "markdown",
   "id": "deadly-victor",
   "metadata": {},
   "source": [
    "**偏度**（skewness）："
   ]
  },
  {
   "cell_type": "markdown",
   "id": "affecting-mississippi",
   "metadata": {},
   "source": [
    "可以调用一个库完成计算："
   ]
  },
  {
   "cell_type": "code",
   "execution_count": 10,
   "id": "stopped-egyptian",
   "metadata": {},
   "outputs": [],
   "source": [
    "# install.packages(\"psych\")\n",
    "library(psych)"
   ]
  },
  {
   "cell_type": "code",
   "execution_count": 11,
   "id": "previous-bradford",
   "metadata": {},
   "outputs": [
    {
     "data": {
      "text/html": [
       "<style>\n",
       ".dl-inline {width: auto; margin:0; padding: 0}\n",
       ".dl-inline>dt, .dl-inline>dd {float: none; width: auto; display: inline-block}\n",
       ".dl-inline>dt::after {content: \":\\0020\"; padding-right: .5ex}\n",
       ".dl-inline>dt:not(:first-of-type) {padding-left: .5ex}\n",
       "</style><dl class=dl-inline><dt>Nationwide</dt><dd>1.02484718945818</dd><dt>Rural</dt><dd>1.01256119786818</dd><dt>Urban</dt><dd>0.970464107448573</dd></dl>\n"
      ],
      "text/latex": [
       "\\begin{description*}\n",
       "\\item[Nationwide] 1.02484718945818\n",
       "\\item[Rural] 1.01256119786818\n",
       "\\item[Urban] 0.970464107448573\n",
       "\\end{description*}\n"
      ],
      "text/markdown": [
       "Nationwide\n",
       ":   1.02484718945818Rural\n",
       ":   1.01256119786818Urban\n",
       ":   0.970464107448573\n",
       "\n"
      ],
      "text/plain": [
       "Nationwide      Rural      Urban \n",
       " 1.0248472  1.0125612  0.9704641 "
      ]
     },
     "metadata": {},
     "output_type": "display_data"
    }
   ],
   "source": [
    "# g1 <- function(x) skew(x, type=2)  # g1、g2 是用 type=2: seehelp(skew)\n",
    "\n",
    "# or 按照书上（P6）的手写这个函数\n",
    "g1 <- function(x) {\n",
    "    n <- length(x)\n",
    "    \n",
    "    A <- n / ((n-1) * (n-2))\n",
    "    B <- 1 / sd(x)^3\n",
    "    S <- sum((x - mean(x))^3)\n",
    "    \n",
    "    A * B * S\n",
    "}\n",
    "\n",
    "apply(data[-1], 2, g1)"
   ]
  },
  {
   "cell_type": "markdown",
   "id": "tracked-behavior",
   "metadata": {},
   "source": [
    "**峰度**："
   ]
  },
  {
   "cell_type": "code",
   "execution_count": 12,
   "id": "turkish-entrance",
   "metadata": {},
   "outputs": [
    {
     "data": {
      "text/html": [
       "<style>\n",
       ".dl-inline {width: auto; margin:0; padding: 0}\n",
       ".dl-inline>dt, .dl-inline>dd {float: none; width: auto; display: inline-block}\n",
       ".dl-inline>dt::after {content: \":\\0020\"; padding-right: .5ex}\n",
       ".dl-inline>dt:not(:first-of-type) {padding-left: .5ex}\n",
       "</style><dl class=dl-inline><dt>Nationwide</dt><dd>-0.457241207817378</dd><dt>Rural</dt><dd>-0.451444093083178</dd><dt>Urban</dt><dd>-0.573162098915409</dd></dl>\n"
      ],
      "text/latex": [
       "\\begin{description*}\n",
       "\\item[Nationwide] -0.457241207817378\n",
       "\\item[Rural] -0.451444093083178\n",
       "\\item[Urban] -0.573162098915409\n",
       "\\end{description*}\n"
      ],
      "text/markdown": [
       "Nationwide\n",
       ":   -0.457241207817378Rural\n",
       ":   -0.451444093083178Urban\n",
       ":   -0.573162098915409\n",
       "\n"
      ],
      "text/plain": [
       "Nationwide      Rural      Urban \n",
       "-0.4572412 -0.4514441 -0.5731621 "
      ]
     },
     "metadata": {},
     "output_type": "display_data"
    }
   ],
   "source": [
    "# g2 <- function(x) kurtosi(x, type=2)  # help(kurtosi)\n",
    "\n",
    "g2 <- function(x) {\n",
    "    n <- length(x)\n",
    "    \n",
    "    A <- (n * (n+1)) / ((n-1) * (n-2) * (n-3))\n",
    "    B <- 1 / sd(x)^4\n",
    "    S <- sum((x - mean(x))^4)\n",
    "    C <- (3 * (n-1)^2) / ((n-2) * (n-3))\n",
    "    \n",
    "    A * B * S - C\n",
    "}\n",
    "\n",
    "apply(data[-1], 2, g2)"
   ]
  },
  {
   "cell_type": "markdown",
   "id": "architectural-literature",
   "metadata": {},
   "source": [
    "注：实际上，psych 包提供了一个 `describe` 函数，可以一次性得到各种常用值："
   ]
  },
  {
   "cell_type": "code",
   "execution_count": 13,
   "id": "optional-preview",
   "metadata": {},
   "outputs": [
    {
     "data": {
      "text/html": [
       "<table class=\"dataframe\">\n",
       "<caption>A psych: 3 × 13</caption>\n",
       "<thead>\n",
       "\t<tr><th></th><th scope=col>vars</th><th scope=col>n</th><th scope=col>mean</th><th scope=col>sd</th><th scope=col>median</th><th scope=col>trimmed</th><th scope=col>mad</th><th scope=col>min</th><th scope=col>max</th><th scope=col>range</th><th scope=col>skew</th><th scope=col>kurtosis</th><th scope=col>se</th></tr>\n",
       "\t<tr><th></th><th scope=col>&lt;int&gt;</th><th scope=col>&lt;dbl&gt;</th><th scope=col>&lt;dbl&gt;</th><th scope=col>&lt;dbl&gt;</th><th scope=col>&lt;dbl&gt;</th><th scope=col>&lt;dbl&gt;</th><th scope=col>&lt;dbl&gt;</th><th scope=col>&lt;dbl&gt;</th><th scope=col>&lt;dbl&gt;</th><th scope=col>&lt;dbl&gt;</th><th scope=col>&lt;dbl&gt;</th><th scope=col>&lt;dbl&gt;</th><th scope=col>&lt;dbl&gt;</th></tr>\n",
       "</thead>\n",
       "<tbody>\n",
       "\t<tr><th scope=row>Nationwide</th><td>1</td><td>22</td><td>1117.0000</td><td>1015.7166</td><td> 727.5</td><td>1001.7222</td><td> 673.8417</td><td>184</td><td>3180</td><td>2996</td><td>1.0248472</td><td>-0.4572412</td><td>216.5515</td></tr>\n",
       "\t<tr><th scope=row>Rural</th><td>2</td><td>22</td><td> 747.8636</td><td> 632.1976</td><td> 530.5</td><td> 682.7222</td><td> 469.9842</td><td>138</td><td>1973</td><td>1835</td><td>1.0125612</td><td>-0.4514441</td><td>134.7850</td></tr>\n",
       "\t<tr><th scope=row>Urban</th><td>3</td><td>22</td><td>2336.4091</td><td>2129.8208</td><td>1499.5</td><td>2094.1111</td><td>1379.5593</td><td>405</td><td>6651</td><td>6246</td><td>0.9704641</td><td>-0.5731621</td><td>454.0793</td></tr>\n",
       "</tbody>\n",
       "</table>\n"
      ],
      "text/latex": [
       "A psych: 3 × 13\n",
       "\\begin{tabular}{r|lllllllllllll}\n",
       "  & vars & n & mean & sd & median & trimmed & mad & min & max & range & skew & kurtosis & se\\\\\n",
       "  & <int> & <dbl> & <dbl> & <dbl> & <dbl> & <dbl> & <dbl> & <dbl> & <dbl> & <dbl> & <dbl> & <dbl> & <dbl>\\\\\n",
       "\\hline\n",
       "\tNationwide & 1 & 22 & 1117.0000 & 1015.7166 &  727.5 & 1001.7222 &  673.8417 & 184 & 3180 & 2996 & 1.0248472 & -0.4572412 & 216.5515\\\\\n",
       "\tRural & 2 & 22 &  747.8636 &  632.1976 &  530.5 &  682.7222 &  469.9842 & 138 & 1973 & 1835 & 1.0125612 & -0.4514441 & 134.7850\\\\\n",
       "\tUrban & 3 & 22 & 2336.4091 & 2129.8208 & 1499.5 & 2094.1111 & 1379.5593 & 405 & 6651 & 6246 & 0.9704641 & -0.5731621 & 454.0793\\\\\n",
       "\\end{tabular}\n"
      ],
      "text/markdown": [
       "\n",
       "A psych: 3 × 13\n",
       "\n",
       "| <!--/--> | vars &lt;int&gt; | n &lt;dbl&gt; | mean &lt;dbl&gt; | sd &lt;dbl&gt; | median &lt;dbl&gt; | trimmed &lt;dbl&gt; | mad &lt;dbl&gt; | min &lt;dbl&gt; | max &lt;dbl&gt; | range &lt;dbl&gt; | skew &lt;dbl&gt; | kurtosis &lt;dbl&gt; | se &lt;dbl&gt; |\n",
       "|---|---|---|---|---|---|---|---|---|---|---|---|---|---|\n",
       "| Nationwide | 1 | 22 | 1117.0000 | 1015.7166 |  727.5 | 1001.7222 |  673.8417 | 184 | 3180 | 2996 | 1.0248472 | -0.4572412 | 216.5515 |\n",
       "| Rural | 2 | 22 |  747.8636 |  632.1976 |  530.5 |  682.7222 |  469.9842 | 138 | 1973 | 1835 | 1.0125612 | -0.4514441 | 134.7850 |\n",
       "| Urban | 3 | 22 | 2336.4091 | 2129.8208 | 1499.5 | 2094.1111 | 1379.5593 | 405 | 6651 | 6246 | 0.9704641 | -0.5731621 | 454.0793 |\n",
       "\n"
      ],
      "text/plain": [
       "           vars n  mean      sd        median trimmed   mad       min max \n",
       "Nationwide 1    22 1117.0000 1015.7166  727.5 1001.7222  673.8417 184 3180\n",
       "Rural      2    22  747.8636  632.1976  530.5  682.7222  469.9842 138 1973\n",
       "Urban      3    22 2336.4091 2129.8208 1499.5 2094.1111 1379.5593 405 6651\n",
       "           range skew      kurtosis   se      \n",
       "Nationwide 2996  1.0248472 -0.4572412 216.5515\n",
       "Rural      1835  1.0125612 -0.4514441 134.7850\n",
       "Urban      6246  0.9704641 -0.5731621 454.0793"
      ]
     },
     "metadata": {},
     "output_type": "display_data"
    }
   ],
   "source": [
    "describe(data[-1], type=2)"
   ]
  },
  {
   "cell_type": "markdown",
   "id": "productive-narrow",
   "metadata": {},
   "source": [
    "#### (2)\n",
    "\n",
    "**中位数**："
   ]
  },
  {
   "cell_type": "code",
   "execution_count": 14,
   "id": "cathedral-concrete",
   "metadata": {},
   "outputs": [
    {
     "data": {
      "text/html": [
       "<style>\n",
       ".dl-inline {width: auto; margin:0; padding: 0}\n",
       ".dl-inline>dt, .dl-inline>dd {float: none; width: auto; display: inline-block}\n",
       ".dl-inline>dt::after {content: \":\\0020\"; padding-right: .5ex}\n",
       ".dl-inline>dt:not(:first-of-type) {padding-left: .5ex}\n",
       "</style><dl class=dl-inline><dt>Nationwide</dt><dd>727.5</dd><dt>Rural</dt><dd>530.5</dd><dt>Urban</dt><dd>1499.5</dd></dl>\n"
      ],
      "text/latex": [
       "\\begin{description*}\n",
       "\\item[Nationwide] 727.5\n",
       "\\item[Rural] 530.5\n",
       "\\item[Urban] 1499.5\n",
       "\\end{description*}\n"
      ],
      "text/markdown": [
       "Nationwide\n",
       ":   727.5Rural\n",
       ":   530.5Urban\n",
       ":   1499.5\n",
       "\n"
      ],
      "text/plain": [
       "Nationwide      Rural      Urban \n",
       "     727.5      530.5     1499.5 "
      ]
     },
     "metadata": {},
     "output_type": "display_data"
    }
   ],
   "source": [
    "apply(data[-1], 2, median)"
   ]
  },
  {
   "cell_type": "markdown",
   "id": "meaningful-batch",
   "metadata": {},
   "source": [
    "**四分位距**："
   ]
  },
  {
   "cell_type": "code",
   "execution_count": 15,
   "id": "searching-success",
   "metadata": {},
   "outputs": [
    {
     "data": {
      "text/html": [
       "<table class=\"dataframe\">\n",
       "<caption>A matrix: 5 × 3 of type dbl</caption>\n",
       "<thead>\n",
       "\t<tr><th></th><th scope=col>Nationwide</th><th scope=col>Rural</th><th scope=col>Urban</th></tr>\n",
       "</thead>\n",
       "<tbody>\n",
       "\t<tr><th scope=row>0%</th><td> 184.00</td><td> 138.00</td><td> 405.00</td></tr>\n",
       "\t<tr><th scope=row>25%</th><td> 321.75</td><td> 255.25</td><td> 617.75</td></tr>\n",
       "\t<tr><th scope=row>50%</th><td> 727.50</td><td> 530.50</td><td>1499.50</td></tr>\n",
       "\t<tr><th scope=row>75%</th><td>1642.25</td><td>1052.25</td><td>3675.00</td></tr>\n",
       "\t<tr><th scope=row>100%</th><td>3180.00</td><td>1973.00</td><td>6651.00</td></tr>\n",
       "</tbody>\n",
       "</table>\n"
      ],
      "text/latex": [
       "A matrix: 5 × 3 of type dbl\n",
       "\\begin{tabular}{r|lll}\n",
       "  & Nationwide & Rural & Urban\\\\\n",
       "\\hline\n",
       "\t0\\% &  184.00 &  138.00 &  405.00\\\\\n",
       "\t25\\% &  321.75 &  255.25 &  617.75\\\\\n",
       "\t50\\% &  727.50 &  530.50 & 1499.50\\\\\n",
       "\t75\\% & 1642.25 & 1052.25 & 3675.00\\\\\n",
       "\t100\\% & 3180.00 & 1973.00 & 6651.00\\\\\n",
       "\\end{tabular}\n"
      ],
      "text/markdown": [
       "\n",
       "A matrix: 5 × 3 of type dbl\n",
       "\n",
       "| <!--/--> | Nationwide | Rural | Urban |\n",
       "|---|---|---|---|\n",
       "| 0% |  184.00 |  138.00 |  405.00 |\n",
       "| 25% |  321.75 |  255.25 |  617.75 |\n",
       "| 50% |  727.50 |  530.50 | 1499.50 |\n",
       "| 75% | 1642.25 | 1052.25 | 3675.00 |\n",
       "| 100% | 3180.00 | 1973.00 | 6651.00 |\n",
       "\n"
      ],
      "text/plain": [
       "     Nationwide Rural   Urban  \n",
       "0%    184.00     138.00  405.00\n",
       "25%   321.75     255.25  617.75\n",
       "50%   727.50     530.50 1499.50\n",
       "75%  1642.25    1052.25 3675.00\n",
       "100% 3180.00    1973.00 6651.00"
      ]
     },
     "metadata": {},
     "output_type": "display_data"
    }
   ],
   "source": [
    "apply(data[-1], 2, quantile)"
   ]
  },
  {
   "cell_type": "markdown",
   "id": "recreational-retreat",
   "metadata": {},
   "source": [
    "五数："
   ]
  },
  {
   "cell_type": "code",
   "execution_count": 16,
   "id": "yellow-immigration",
   "metadata": {},
   "outputs": [
    {
     "data": {
      "text/html": [
       "<table class=\"dataframe\">\n",
       "<caption>A matrix: 5 × 3 of type dbl</caption>\n",
       "<thead>\n",
       "\t<tr><th scope=col>Nationwide</th><th scope=col>Rural</th><th scope=col>Urban</th></tr>\n",
       "</thead>\n",
       "<tbody>\n",
       "\t<tr><td> 184.0</td><td> 138.0</td><td> 405.0</td></tr>\n",
       "\t<tr><td> 311.0</td><td> 246.0</td><td> 603.0</td></tr>\n",
       "\t<tr><td> 727.5</td><td> 530.5</td><td>1499.5</td></tr>\n",
       "\t<tr><td>1746.0</td><td>1118.0</td><td>3891.0</td></tr>\n",
       "\t<tr><td>3180.0</td><td>1973.0</td><td>6651.0</td></tr>\n",
       "</tbody>\n",
       "</table>\n"
      ],
      "text/latex": [
       "A matrix: 5 × 3 of type dbl\n",
       "\\begin{tabular}{lll}\n",
       " Nationwide & Rural & Urban\\\\\n",
       "\\hline\n",
       "\t  184.0 &  138.0 &  405.0\\\\\n",
       "\t  311.0 &  246.0 &  603.0\\\\\n",
       "\t  727.5 &  530.5 & 1499.5\\\\\n",
       "\t 1746.0 & 1118.0 & 3891.0\\\\\n",
       "\t 3180.0 & 1973.0 & 6651.0\\\\\n",
       "\\end{tabular}\n"
      ],
      "text/markdown": [
       "\n",
       "A matrix: 5 × 3 of type dbl\n",
       "\n",
       "| Nationwide | Rural | Urban |\n",
       "|---|---|---|\n",
       "|  184.0 |  138.0 |  405.0 |\n",
       "|  311.0 |  246.0 |  603.0 |\n",
       "|  727.5 |  530.5 | 1499.5 |\n",
       "| 1746.0 | 1118.0 | 3891.0 |\n",
       "| 3180.0 | 1973.0 | 6651.0 |\n",
       "\n"
      ],
      "text/plain": [
       "     Nationwide Rural  Urban \n",
       "[1,]  184.0      138.0  405.0\n",
       "[2,]  311.0      246.0  603.0\n",
       "[3,]  727.5      530.5 1499.5\n",
       "[4,] 1746.0     1118.0 3891.0\n",
       "[5,] 3180.0     1973.0 6651.0"
      ]
     },
     "metadata": {},
     "output_type": "display_data"
    }
   ],
   "source": [
    "fn <- apply(data[-1], 2, fivenum)\n",
    "fn"
   ]
  },
  {
   "cell_type": "markdown",
   "id": "divine-david",
   "metadata": {},
   "source": [
    "四分位极差："
   ]
  },
  {
   "cell_type": "code",
   "execution_count": 17,
   "id": "killing-chaos",
   "metadata": {},
   "outputs": [
    {
     "data": {
      "text/html": [
       "<style>\n",
       ".dl-inline {width: auto; margin:0; padding: 0}\n",
       ".dl-inline>dt, .dl-inline>dd {float: none; width: auto; display: inline-block}\n",
       ".dl-inline>dt::after {content: \":\\0020\"; padding-right: .5ex}\n",
       ".dl-inline>dt:not(:first-of-type) {padding-left: .5ex}\n",
       "</style><dl class=dl-inline><dt>Nationwide</dt><dd>1435</dd><dt>Rural</dt><dd>872</dd><dt>Urban</dt><dd>3288</dd></dl>\n"
      ],
      "text/latex": [
       "\\begin{description*}\n",
       "\\item[Nationwide] 1435\n",
       "\\item[Rural] 872\n",
       "\\item[Urban] 3288\n",
       "\\end{description*}\n"
      ],
      "text/markdown": [
       "Nationwide\n",
       ":   1435Rural\n",
       ":   872Urban\n",
       ":   3288\n",
       "\n"
      ],
      "text/plain": [
       "Nationwide      Rural      Urban \n",
       "      1435        872       3288 "
      ]
     },
     "metadata": {},
     "output_type": "display_data"
    }
   ],
   "source": [
    "R1 <- function(Q3, Q1) Q3 - Q1\n",
    "\n",
    "R1(Q3=fn[4,], Q1=fn[2,])"
   ]
  },
  {
   "cell_type": "markdown",
   "id": "finnish-korean",
   "metadata": {},
   "source": [
    "三均值："
   ]
  },
  {
   "cell_type": "code",
   "execution_count": 18,
   "id": "addressed-allergy",
   "metadata": {},
   "outputs": [
    {
     "data": {
      "text/html": [
       "<style>\n",
       ".dl-inline {width: auto; margin:0; padding: 0}\n",
       ".dl-inline>dt, .dl-inline>dd {float: none; width: auto; display: inline-block}\n",
       ".dl-inline>dt::after {content: \":\\0020\"; padding-right: .5ex}\n",
       ".dl-inline>dt:not(:first-of-type) {padding-left: .5ex}\n",
       "</style><dl class=dl-inline><dt>Nationwide</dt><dd>878</dd><dt>Rural</dt><dd>606.25</dd><dt>Urban</dt><dd>1873.25</dd></dl>\n"
      ],
      "text/latex": [
       "\\begin{description*}\n",
       "\\item[Nationwide] 878\n",
       "\\item[Rural] 606.25\n",
       "\\item[Urban] 1873.25\n",
       "\\end{description*}\n"
      ],
      "text/markdown": [
       "Nationwide\n",
       ":   878Rural\n",
       ":   606.25Urban\n",
       ":   1873.25\n",
       "\n"
      ],
      "text/plain": [
       "Nationwide      Rural      Urban \n",
       "    878.00     606.25    1873.25 "
      ]
     },
     "metadata": {},
     "output_type": "display_data"
    }
   ],
   "source": [
    "M3 <- function(Q1, M, Q3) Q1/4 + M/2 + Q3/4\n",
    "\n",
    "M3(Q1=fn[2,], M=fn[3,], Q3=fn[4,])"
   ]
  },
  {
   "cell_type": "markdown",
   "id": "dramatic-court",
   "metadata": {},
   "source": [
    "#### （3）直方图"
   ]
  },
  {
   "cell_type": "code",
   "execution_count": 19,
   "id": "humanitarian-concrete",
   "metadata": {},
   "outputs": [],
   "source": [
    "histogram <- function(x, xname=\"x\") {\n",
    "    hist(x, prob=TRUE, main=paste(\"Histogram of\" , xname))\n",
    "    lines(density(x))\n",
    "    rug(x) # show the actual data points\n",
    "}"
   ]
  },
  {
   "cell_type": "code",
   "execution_count": 20,
   "id": "rural-electron",
   "metadata": {},
   "outputs": [
    {
     "data": {
      "image/png": "[encoded data removed]",
      "text/plain": [
       "Plot with title “Histogram of Nationwide”"
      ]
     },
     "metadata": {
      "image/png": {
       "height": 420,
       "width": 420
      }
     },
     "output_type": "display_data"
    },
    {
     "data": {
      "image/png": "[encoded data removed]",
      "text/plain": [
       "Plot with title “Histogram of Rural”"
      ]
     },
     "metadata": {
      "image/png": {
       "height": 420,
       "width": 420
      }
     },
     "output_type": "display_data"
    },
    {
     "data": {
      "image/png": "[encoded data removed]",
      "text/plain": [
       "Plot with title “Histogram of Urban”"
      ]
     },
     "metadata": {
      "image/png": {
       "height": 420,
       "width": 420
      }
     },
     "output_type": "display_data"
    }
   ],
   "source": [
    "# layout(matrix(c(1,2,3), nr=1, byrow=T))\n",
    "histogram(Nationwide, xname=\"Nationwide\")\n",
    "histogram(Rural, xname=\"Rural\")\n",
    "histogram(Urban, xname=\"Urban\")"
   ]
  },
  {
   "cell_type": "markdown",
   "id": "ordinary-ozone",
   "metadata": {},
   "source": [
    "#### （4）茎叶图"
   ]
  },
  {
   "cell_type": "code",
   "execution_count": 21,
   "id": "cosmetic-parish",
   "metadata": {},
   "outputs": [
    {
     "name": "stdout",
     "output_type": "stream",
     "text": [
      "\n",
      "  The decimal point is 3 digit(s) to the right of the |\n",
      "\n",
      "  0 | 22233344567889\n",
      "  1 | 137\n",
      "  2 | 368\n",
      "  3 | 02\n",
      "\n"
     ]
    }
   ],
   "source": [
    "stem(Nationwide)"
   ]
  },
  {
   "cell_type": "code",
   "execution_count": 22,
   "id": "consolidated-accent",
   "metadata": {},
   "outputs": [
    {
     "name": "stdout",
     "output_type": "stream",
     "text": [
      "\n",
      "  The decimal point is 3 digit(s) to the right of the |\n",
      "\n",
      "  0 | 1222223344\n",
      "  0 | 566679\n",
      "  1 | 14\n",
      "  1 | 899\n",
      "  2 | 0\n",
      "\n"
     ]
    }
   ],
   "source": [
    "stem(Rural)"
   ]
  },
  {
   "cell_type": "code",
   "execution_count": 23,
   "id": "round-serve",
   "metadata": {},
   "outputs": [
    {
     "name": "stdout",
     "output_type": "stream",
     "text": [
      "\n",
      "  The decimal point is 3 digit(s) to the right of the |\n",
      "\n",
      "  0 | 44566678914679\n",
      "  2 | 409\n",
      "  4 | 948\n",
      "  6 | 27\n",
      "\n"
     ]
    }
   ],
   "source": [
    "stem(Urban)"
   ]
  },
  {
   "cell_type": "markdown",
   "id": "physical-optics",
   "metadata": {},
   "source": [
    "#### (5). 异常值"
   ]
  },
  {
   "cell_type": "code",
   "execution_count": 24,
   "id": "hindu-queen",
   "metadata": {},
   "outputs": [],
   "source": [
    "abnormal <- function(x) {\n",
    "    fn <- fivenum(x);\n",
    "    Q1 <- fn[2];  Q3 <- fn[4];\n",
    "    \n",
    "    R1 <- Q3 - Q1\n",
    "    \n",
    "    QD <- Q1 - 1.5 * R1\n",
    "    QU <- Q3 + 1.5 * R1\n",
    "    \n",
    "    x[(x < QD) | (x > QU)]\n",
    "}"
   ]
  },
  {
   "cell_type": "code",
   "execution_count": 25,
   "id": "advisory-marker",
   "metadata": {},
   "outputs": [
    {
     "data": {
      "text/html": [],
      "text/latex": [],
      "text/markdown": [],
      "text/plain": [
       "integer(0)"
      ]
     },
     "metadata": {},
     "output_type": "display_data"
    }
   ],
   "source": [
    "apply(data[-1], 2, abnormal)"
   ]
  },
  {
   "cell_type": "markdown",
   "id": "owned-ensemble",
   "metadata": {},
   "source": [
    "结果为空：没有异常值。"
   ]
  },
  {
   "cell_type": "code",
   "execution_count": 26,
   "id": "generous-johns",
   "metadata": {},
   "outputs": [],
   "source": [
    "detach(data)"
   ]
  }
 ],
 "metadata": {
  "kernelspec": {
   "display_name": "R",
   "language": "R",
   "name": "ir"
  },
  "language_info": {
   "codemirror_mode": "r",
   "file_extension": ".r",
   "mimetype": "text/x-r-source",
   "name": "R",
   "pygments_lexer": "r",
   "version": "4.0.4"
  }
 },
 "nbformat": 4,
 "nbformat_minor": 5
}
