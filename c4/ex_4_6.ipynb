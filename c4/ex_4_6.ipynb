{
 "cells": [
  {
   "cell_type": "markdown",
   "id": "qualified-government",
   "metadata": {},
   "source": [
    "# 习题 4.6\n",
    "\n",
    "![习题 4.6](https://tva1.sinaimg.cn/large/008i3skNly1gra4yo6us3j31n40bgah5.jpg)"
   ]
  },
  {
   "cell_type": "code",
   "execution_count": 1,
   "id": "comfortable-contemporary",
   "metadata": {},
   "outputs": [
    {
     "data": {
      "text/html": [
       "<table class=\"dataframe\">\n",
       "<caption>A data.frame: 49 × 7</caption>\n",
       "<thead>\n",
       "\t<tr><th scope=col>X</th><th scope=col>x1</th><th scope=col>x2</th><th scope=col>x3</th><th scope=col>y1</th><th scope=col>y2</th><th scope=col>y3</th></tr>\n",
       "\t<tr><th scope=col>&lt;int&gt;</th><th scope=col>&lt;int&gt;</th><th scope=col>&lt;int&gt;</th><th scope=col>&lt;int&gt;</th><th scope=col>&lt;int&gt;</th><th scope=col>&lt;int&gt;</th><th scope=col>&lt;int&gt;</th></tr>\n",
       "</thead>\n",
       "<tbody>\n",
       "\t<tr><td> 1</td><td> 60</td><td> 69</td><td> 62</td><td> 97</td><td> 69</td><td> 98</td></tr>\n",
       "\t<tr><td> 2</td><td> 56</td><td> 53</td><td> 84</td><td>103</td><td> 78</td><td>107</td></tr>\n",
       "\t<tr><td> 3</td><td> 80</td><td> 69</td><td> 76</td><td> 66</td><td> 99</td><td>130</td></tr>\n",
       "\t<tr><td> 4</td><td> 55</td><td> 80</td><td> 90</td><td> 80</td><td> 85</td><td>114</td></tr>\n",
       "\t<tr><td> 5</td><td> 62</td><td> 75</td><td> 68</td><td>116</td><td>130</td><td> 91</td></tr>\n",
       "\t<tr><td> 6</td><td> 74</td><td> 64</td><td> 70</td><td>109</td><td>101</td><td>103</td></tr>\n",
       "\t<tr><td> 7</td><td> 64</td><td> 71</td><td> 66</td><td> 77</td><td>102</td><td>130</td></tr>\n",
       "\t<tr><td> 8</td><td> 73</td><td> 70</td><td> 64</td><td>115</td><td>110</td><td>109</td></tr>\n",
       "\t<tr><td> 9</td><td> 68</td><td> 67</td><td> 75</td><td> 76</td><td> 85</td><td>119</td></tr>\n",
       "\t<tr><td>10</td><td> 69</td><td> 82</td><td> 74</td><td> 72</td><td>133</td><td>127</td></tr>\n",
       "\t<tr><td>11</td><td> 60</td><td> 67</td><td> 61</td><td>130</td><td>134</td><td>121</td></tr>\n",
       "\t<tr><td>12</td><td> 70</td><td> 74</td><td> 78</td><td>150</td><td>158</td><td>100</td></tr>\n",
       "\t<tr><td>13</td><td> 66</td><td> 74</td><td> 78</td><td>150</td><td>131</td><td>142</td></tr>\n",
       "\t<tr><td>14</td><td> 83</td><td> 70</td><td> 74</td><td> 99</td><td> 98</td><td>105</td></tr>\n",
       "\t<tr><td>15</td><td> 68</td><td> 66</td><td> 90</td><td>119</td><td> 85</td><td>109</td></tr>\n",
       "\t<tr><td>16</td><td> 78</td><td> 63</td><td> 75</td><td>164</td><td> 98</td><td>138</td></tr>\n",
       "\t<tr><td>17</td><td>103</td><td> 77</td><td> 77</td><td>160</td><td>117</td><td>121</td></tr>\n",
       "\t<tr><td>18</td><td> 77</td><td> 68</td><td> 74</td><td>144</td><td> 71</td><td>153</td></tr>\n",
       "\t<tr><td>19</td><td> 66</td><td> 77</td><td> 68</td><td> 77</td><td> 82</td><td> 89</td></tr>\n",
       "\t<tr><td>20</td><td> 70</td><td> 70</td><td> 72</td><td>114</td><td> 93</td><td>122</td></tr>\n",
       "\t<tr><td>21</td><td> 75</td><td> 65</td><td> 71</td><td> 77</td><td> 70</td><td>109</td></tr>\n",
       "\t<tr><td>22</td><td> 91</td><td> 74</td><td> 93</td><td>118</td><td>115</td><td>150</td></tr>\n",
       "\t<tr><td>23</td><td> 66</td><td> 75</td><td> 73</td><td>170</td><td>147</td><td>121</td></tr>\n",
       "\t<tr><td>24</td><td> 75</td><td> 82</td><td> 76</td><td>153</td><td>132</td><td>115</td></tr>\n",
       "\t<tr><td>25</td><td> 74</td><td> 71</td><td> 66</td><td>143</td><td>105</td><td>100</td></tr>\n",
       "\t<tr><td>26</td><td> 76</td><td> 70</td><td> 64</td><td>114</td><td>113</td><td>129</td></tr>\n",
       "\t<tr><td>27</td><td> 74</td><td> 90</td><td> 86</td><td> 73</td><td>106</td><td>116</td></tr>\n",
       "\t<tr><td>28</td><td> 74</td><td> 77</td><td> 80</td><td>116</td><td> 81</td><td> 77</td></tr>\n",
       "\t<tr><td>29</td><td> 67</td><td> 71</td><td> 69</td><td> 63</td><td> 87</td><td> 70</td></tr>\n",
       "\t<tr><td>30</td><td> 78</td><td> 75</td><td> 80</td><td>105</td><td>132</td><td> 80</td></tr>\n",
       "\t<tr><td>31</td><td> 64</td><td> 66</td><td> 71</td><td> 83</td><td> 94</td><td>133</td></tr>\n",
       "\t<tr><td>32</td><td> 71</td><td> 80</td><td> 76</td><td> 81</td><td> 87</td><td> 86</td></tr>\n",
       "\t<tr><td>33</td><td> 63</td><td> 75</td><td> 73</td><td>120</td><td> 89</td><td> 59</td></tr>\n",
       "\t<tr><td>34</td><td> 90</td><td>103</td><td> 74</td><td>107</td><td>109</td><td>101</td></tr>\n",
       "\t<tr><td>35</td><td> 60</td><td> 76</td><td> 61</td><td> 99</td><td>111</td><td> 98</td></tr>\n",
       "\t<tr><td>36</td><td> 48</td><td> 77</td><td> 75</td><td>113</td><td>124</td><td> 97</td></tr>\n",
       "\t<tr><td>37</td><td> 66</td><td> 93</td><td> 97</td><td>136</td><td>112</td><td>122</td></tr>\n",
       "\t<tr><td>38</td><td> 74</td><td> 70</td><td> 76</td><td>109</td><td> 88</td><td>105</td></tr>\n",
       "\t<tr><td>39</td><td> 60</td><td> 74</td><td> 71</td><td> 72</td><td> 90</td><td> 71</td></tr>\n",
       "\t<tr><td>40</td><td> 63</td><td> 75</td><td> 66</td><td>130</td><td>101</td><td> 90</td></tr>\n",
       "\t<tr><td>41</td><td> 66</td><td> 80</td><td> 86</td><td>130</td><td>117</td><td>144</td></tr>\n",
       "\t<tr><td>42</td><td> 77</td><td> 67</td><td> 74</td><td> 83</td><td> 92</td><td>107</td></tr>\n",
       "\t<tr><td>43</td><td> 70</td><td> 67</td><td>100</td><td>150</td><td>142</td><td>146</td></tr>\n",
       "\t<tr><td>44</td><td> 73</td><td> 76</td><td> 81</td><td>119</td><td>120</td><td>119</td></tr>\n",
       "\t<tr><td>45</td><td> 78</td><td> 90</td><td> 77</td><td>122</td><td>155</td><td>149</td></tr>\n",
       "\t<tr><td>46</td><td> 73</td><td> 68</td><td> 80</td><td>102</td><td> 90</td><td>122</td></tr>\n",
       "\t<tr><td>47</td><td> 72</td><td> 83</td><td> 68</td><td>104</td><td> 69</td><td> 96</td></tr>\n",
       "\t<tr><td>48</td><td> 65</td><td> 60</td><td> 70</td><td>119</td><td> 94</td><td> 89</td></tr>\n",
       "\t<tr><td>49</td><td> 52</td><td> 70</td><td> 76</td><td> 92</td><td> 94</td><td>100</td></tr>\n",
       "</tbody>\n",
       "</table>\n"
      ],
      "text/latex": [
       "A data.frame: 49 × 7\n",
       "\\begin{tabular}{lllllll}\n",
       " X & x1 & x2 & x3 & y1 & y2 & y3\\\\\n",
       " <int> & <int> & <int> & <int> & <int> & <int> & <int>\\\\\n",
       "\\hline\n",
       "\t  1 &  60 &  69 &  62 &  97 &  69 &  98\\\\\n",
       "\t  2 &  56 &  53 &  84 & 103 &  78 & 107\\\\\n",
       "\t  3 &  80 &  69 &  76 &  66 &  99 & 130\\\\\n",
       "\t  4 &  55 &  80 &  90 &  80 &  85 & 114\\\\\n",
       "\t  5 &  62 &  75 &  68 & 116 & 130 &  91\\\\\n",
       "\t  6 &  74 &  64 &  70 & 109 & 101 & 103\\\\\n",
       "\t  7 &  64 &  71 &  66 &  77 & 102 & 130\\\\\n",
       "\t  8 &  73 &  70 &  64 & 115 & 110 & 109\\\\\n",
       "\t  9 &  68 &  67 &  75 &  76 &  85 & 119\\\\\n",
       "\t 10 &  69 &  82 &  74 &  72 & 133 & 127\\\\\n",
       "\t 11 &  60 &  67 &  61 & 130 & 134 & 121\\\\\n",
       "\t 12 &  70 &  74 &  78 & 150 & 158 & 100\\\\\n",
       "\t 13 &  66 &  74 &  78 & 150 & 131 & 142\\\\\n",
       "\t 14 &  83 &  70 &  74 &  99 &  98 & 105\\\\\n",
       "\t 15 &  68 &  66 &  90 & 119 &  85 & 109\\\\\n",
       "\t 16 &  78 &  63 &  75 & 164 &  98 & 138\\\\\n",
       "\t 17 & 103 &  77 &  77 & 160 & 117 & 121\\\\\n",
       "\t 18 &  77 &  68 &  74 & 144 &  71 & 153\\\\\n",
       "\t 19 &  66 &  77 &  68 &  77 &  82 &  89\\\\\n",
       "\t 20 &  70 &  70 &  72 & 114 &  93 & 122\\\\\n",
       "\t 21 &  75 &  65 &  71 &  77 &  70 & 109\\\\\n",
       "\t 22 &  91 &  74 &  93 & 118 & 115 & 150\\\\\n",
       "\t 23 &  66 &  75 &  73 & 170 & 147 & 121\\\\\n",
       "\t 24 &  75 &  82 &  76 & 153 & 132 & 115\\\\\n",
       "\t 25 &  74 &  71 &  66 & 143 & 105 & 100\\\\\n",
       "\t 26 &  76 &  70 &  64 & 114 & 113 & 129\\\\\n",
       "\t 27 &  74 &  90 &  86 &  73 & 106 & 116\\\\\n",
       "\t 28 &  74 &  77 &  80 & 116 &  81 &  77\\\\\n",
       "\t 29 &  67 &  71 &  69 &  63 &  87 &  70\\\\\n",
       "\t 30 &  78 &  75 &  80 & 105 & 132 &  80\\\\\n",
       "\t 31 &  64 &  66 &  71 &  83 &  94 & 133\\\\\n",
       "\t 32 &  71 &  80 &  76 &  81 &  87 &  86\\\\\n",
       "\t 33 &  63 &  75 &  73 & 120 &  89 &  59\\\\\n",
       "\t 34 &  90 & 103 &  74 & 107 & 109 & 101\\\\\n",
       "\t 35 &  60 &  76 &  61 &  99 & 111 &  98\\\\\n",
       "\t 36 &  48 &  77 &  75 & 113 & 124 &  97\\\\\n",
       "\t 37 &  66 &  93 &  97 & 136 & 112 & 122\\\\\n",
       "\t 38 &  74 &  70 &  76 & 109 &  88 & 105\\\\\n",
       "\t 39 &  60 &  74 &  71 &  72 &  90 &  71\\\\\n",
       "\t 40 &  63 &  75 &  66 & 130 & 101 &  90\\\\\n",
       "\t 41 &  66 &  80 &  86 & 130 & 117 & 144\\\\\n",
       "\t 42 &  77 &  67 &  74 &  83 &  92 & 107\\\\\n",
       "\t 43 &  70 &  67 & 100 & 150 & 142 & 146\\\\\n",
       "\t 44 &  73 &  76 &  81 & 119 & 120 & 119\\\\\n",
       "\t 45 &  78 &  90 &  77 & 122 & 155 & 149\\\\\n",
       "\t 46 &  73 &  68 &  80 & 102 &  90 & 122\\\\\n",
       "\t 47 &  72 &  83 &  68 & 104 &  69 &  96\\\\\n",
       "\t 48 &  65 &  60 &  70 & 119 &  94 &  89\\\\\n",
       "\t 49 &  52 &  70 &  76 &  92 &  94 & 100\\\\\n",
       "\\end{tabular}\n"
      ],
      "text/markdown": [
       "\n",
       "A data.frame: 49 × 7\n",
       "\n",
       "| X &lt;int&gt; | x1 &lt;int&gt; | x2 &lt;int&gt; | x3 &lt;int&gt; | y1 &lt;int&gt; | y2 &lt;int&gt; | y3 &lt;int&gt; |\n",
       "|---|---|---|---|---|---|---|\n",
       "|  1 |  60 |  69 |  62 |  97 |  69 |  98 |\n",
       "|  2 |  56 |  53 |  84 | 103 |  78 | 107 |\n",
       "|  3 |  80 |  69 |  76 |  66 |  99 | 130 |\n",
       "|  4 |  55 |  80 |  90 |  80 |  85 | 114 |\n",
       "|  5 |  62 |  75 |  68 | 116 | 130 |  91 |\n",
       "|  6 |  74 |  64 |  70 | 109 | 101 | 103 |\n",
       "|  7 |  64 |  71 |  66 |  77 | 102 | 130 |\n",
       "|  8 |  73 |  70 |  64 | 115 | 110 | 109 |\n",
       "|  9 |  68 |  67 |  75 |  76 |  85 | 119 |\n",
       "| 10 |  69 |  82 |  74 |  72 | 133 | 127 |\n",
       "| 11 |  60 |  67 |  61 | 130 | 134 | 121 |\n",
       "| 12 |  70 |  74 |  78 | 150 | 158 | 100 |\n",
       "| 13 |  66 |  74 |  78 | 150 | 131 | 142 |\n",
       "| 14 |  83 |  70 |  74 |  99 |  98 | 105 |\n",
       "| 15 |  68 |  66 |  90 | 119 |  85 | 109 |\n",
       "| 16 |  78 |  63 |  75 | 164 |  98 | 138 |\n",
       "| 17 | 103 |  77 |  77 | 160 | 117 | 121 |\n",
       "| 18 |  77 |  68 |  74 | 144 |  71 | 153 |\n",
       "| 19 |  66 |  77 |  68 |  77 |  82 |  89 |\n",
       "| 20 |  70 |  70 |  72 | 114 |  93 | 122 |\n",
       "| 21 |  75 |  65 |  71 |  77 |  70 | 109 |\n",
       "| 22 |  91 |  74 |  93 | 118 | 115 | 150 |\n",
       "| 23 |  66 |  75 |  73 | 170 | 147 | 121 |\n",
       "| 24 |  75 |  82 |  76 | 153 | 132 | 115 |\n",
       "| 25 |  74 |  71 |  66 | 143 | 105 | 100 |\n",
       "| 26 |  76 |  70 |  64 | 114 | 113 | 129 |\n",
       "| 27 |  74 |  90 |  86 |  73 | 106 | 116 |\n",
       "| 28 |  74 |  77 |  80 | 116 |  81 |  77 |\n",
       "| 29 |  67 |  71 |  69 |  63 |  87 |  70 |\n",
       "| 30 |  78 |  75 |  80 | 105 | 132 |  80 |\n",
       "| 31 |  64 |  66 |  71 |  83 |  94 | 133 |\n",
       "| 32 |  71 |  80 |  76 |  81 |  87 |  86 |\n",
       "| 33 |  63 |  75 |  73 | 120 |  89 |  59 |\n",
       "| 34 |  90 | 103 |  74 | 107 | 109 | 101 |\n",
       "| 35 |  60 |  76 |  61 |  99 | 111 |  98 |\n",
       "| 36 |  48 |  77 |  75 | 113 | 124 |  97 |\n",
       "| 37 |  66 |  93 |  97 | 136 | 112 | 122 |\n",
       "| 38 |  74 |  70 |  76 | 109 |  88 | 105 |\n",
       "| 39 |  60 |  74 |  71 |  72 |  90 |  71 |\n",
       "| 40 |  63 |  75 |  66 | 130 | 101 |  90 |\n",
       "| 41 |  66 |  80 |  86 | 130 | 117 | 144 |\n",
       "| 42 |  77 |  67 |  74 |  83 |  92 | 107 |\n",
       "| 43 |  70 |  67 | 100 | 150 | 142 | 146 |\n",
       "| 44 |  73 |  76 |  81 | 119 | 120 | 119 |\n",
       "| 45 |  78 |  90 |  77 | 122 | 155 | 149 |\n",
       "| 46 |  73 |  68 |  80 | 102 |  90 | 122 |\n",
       "| 47 |  72 |  83 |  68 | 104 |  69 |  96 |\n",
       "| 48 |  65 |  60 |  70 | 119 |  94 |  89 |\n",
       "| 49 |  52 |  70 |  76 |  92 |  94 | 100 |\n",
       "\n"
      ],
      "text/plain": [
       "   X  x1  x2  x3  y1  y2  y3 \n",
       "1   1  60  69  62  97  69  98\n",
       "2   2  56  53  84 103  78 107\n",
       "3   3  80  69  76  66  99 130\n",
       "4   4  55  80  90  80  85 114\n",
       "5   5  62  75  68 116 130  91\n",
       "6   6  74  64  70 109 101 103\n",
       "7   7  64  71  66  77 102 130\n",
       "8   8  73  70  64 115 110 109\n",
       "9   9  68  67  75  76  85 119\n",
       "10 10  69  82  74  72 133 127\n",
       "11 11  60  67  61 130 134 121\n",
       "12 12  70  74  78 150 158 100\n",
       "13 13  66  74  78 150 131 142\n",
       "14 14  83  70  74  99  98 105\n",
       "15 15  68  66  90 119  85 109\n",
       "16 16  78  63  75 164  98 138\n",
       "17 17 103  77  77 160 117 121\n",
       "18 18  77  68  74 144  71 153\n",
       "19 19  66  77  68  77  82  89\n",
       "20 20  70  70  72 114  93 122\n",
       "21 21  75  65  71  77  70 109\n",
       "22 22  91  74  93 118 115 150\n",
       "23 23  66  75  73 170 147 121\n",
       "24 24  75  82  76 153 132 115\n",
       "25 25  74  71  66 143 105 100\n",
       "26 26  76  70  64 114 113 129\n",
       "27 27  74  90  86  73 106 116\n",
       "28 28  74  77  80 116  81  77\n",
       "29 29  67  71  69  63  87  70\n",
       "30 30  78  75  80 105 132  80\n",
       "31 31  64  66  71  83  94 133\n",
       "32 32  71  80  76  81  87  86\n",
       "33 33  63  75  73 120  89  59\n",
       "34 34  90 103  74 107 109 101\n",
       "35 35  60  76  61  99 111  98\n",
       "36 36  48  77  75 113 124  97\n",
       "37 37  66  93  97 136 112 122\n",
       "38 38  74  70  76 109  88 105\n",
       "39 39  60  74  71  72  90  71\n",
       "40 40  63  75  66 130 101  90\n",
       "41 41  66  80  86 130 117 144\n",
       "42 42  77  67  74  83  92 107\n",
       "43 43  70  67 100 150 142 146\n",
       "44 44  73  76  81 119 120 119\n",
       "45 45  78  90  77 122 155 149\n",
       "46 46  73  68  80 102  90 122\n",
       "47 47  72  83  68 104  69  96\n",
       "48 48  65  60  70 119  94  89\n",
       "49 49  52  70  76  92  94 100"
      ]
     },
     "metadata": {},
     "output_type": "display_data"
    }
   ],
   "source": [
    "data <- read.csv(\"ex_4_6.csv\"); data"
   ]
  },
  {
   "cell_type": "markdown",
   "id": "metric-liberia",
   "metadata": {},
   "source": [
    "1. 样本协方差矩阵 $S$："
   ]
  },
  {
   "cell_type": "code",
   "execution_count": 2,
   "id": "junior-yesterday",
   "metadata": {},
   "outputs": [
    {
     "data": {
      "text/html": [
       "<table class=\"dataframe\">\n",
       "<caption>A matrix: 7 × 7 of type dbl</caption>\n",
       "<thead>\n",
       "\t<tr><th></th><th scope=col>X</th><th scope=col>x1</th><th scope=col>x2</th><th scope=col>x3</th><th scope=col>y1</th><th scope=col>y2</th><th scope=col>y3</th></tr>\n",
       "</thead>\n",
       "<tbody>\n",
       "\t<tr><th scope=row>X</th><td>204.166667</td><td>-2.770833</td><td>34.125000</td><td>19.08333</td><td> 25.479167</td><td> 13.14583</td><td>-43.145833</td></tr>\n",
       "\t<tr><th scope=row>x1</th><td> -2.770833</td><td>97.333333</td><td>17.809524</td><td>12.02976</td><td> 58.720238</td><td> 22.35119</td><td> 61.529762</td></tr>\n",
       "\t<tr><th scope=row>x2</th><td> 34.125000</td><td>17.809524</td><td>74.579932</td><td>14.21854</td><td>  3.326105</td><td> 61.62160</td><td> -3.855867</td></tr>\n",
       "\t<tr><th scope=row>x3</th><td> 19.083333</td><td>12.029762</td><td>14.218537</td><td>76.96939</td><td> 41.667517</td><td> 31.21854</td><td> 66.109269</td></tr>\n",
       "\t<tr><th scope=row>y1</th><td> 25.479167</td><td>58.720238</td><td> 3.326105</td><td>41.66752</td><td>779.153912</td><td>310.15944</td><td>192.423469</td></tr>\n",
       "\t<tr><th scope=row>y2</th><td> 13.145833</td><td>22.351190</td><td>61.621599</td><td>31.21854</td><td>310.159439</td><td>510.07993</td><td>156.185799</td></tr>\n",
       "\t<tr><th scope=row>y3</th><td>-43.145833</td><td>61.529762</td><td>-3.855867</td><td>66.10927</td><td>192.423469</td><td>156.18580</td><td>485.332483</td></tr>\n",
       "</tbody>\n",
       "</table>\n"
      ],
      "text/latex": [
       "A matrix: 7 × 7 of type dbl\n",
       "\\begin{tabular}{r|lllllll}\n",
       "  & X & x1 & x2 & x3 & y1 & y2 & y3\\\\\n",
       "\\hline\n",
       "\tX & 204.166667 & -2.770833 & 34.125000 & 19.08333 &  25.479167 &  13.14583 & -43.145833\\\\\n",
       "\tx1 &  -2.770833 & 97.333333 & 17.809524 & 12.02976 &  58.720238 &  22.35119 &  61.529762\\\\\n",
       "\tx2 &  34.125000 & 17.809524 & 74.579932 & 14.21854 &   3.326105 &  61.62160 &  -3.855867\\\\\n",
       "\tx3 &  19.083333 & 12.029762 & 14.218537 & 76.96939 &  41.667517 &  31.21854 &  66.109269\\\\\n",
       "\ty1 &  25.479167 & 58.720238 &  3.326105 & 41.66752 & 779.153912 & 310.15944 & 192.423469\\\\\n",
       "\ty2 &  13.145833 & 22.351190 & 61.621599 & 31.21854 & 310.159439 & 510.07993 & 156.185799\\\\\n",
       "\ty3 & -43.145833 & 61.529762 & -3.855867 & 66.10927 & 192.423469 & 156.18580 & 485.332483\\\\\n",
       "\\end{tabular}\n"
      ],
      "text/markdown": [
       "\n",
       "A matrix: 7 × 7 of type dbl\n",
       "\n",
       "| <!--/--> | X | x1 | x2 | x3 | y1 | y2 | y3 |\n",
       "|---|---|---|---|---|---|---|---|\n",
       "| X | 204.166667 | -2.770833 | 34.125000 | 19.08333 |  25.479167 |  13.14583 | -43.145833 |\n",
       "| x1 |  -2.770833 | 97.333333 | 17.809524 | 12.02976 |  58.720238 |  22.35119 |  61.529762 |\n",
       "| x2 |  34.125000 | 17.809524 | 74.579932 | 14.21854 |   3.326105 |  61.62160 |  -3.855867 |\n",
       "| x3 |  19.083333 | 12.029762 | 14.218537 | 76.96939 |  41.667517 |  31.21854 |  66.109269 |\n",
       "| y1 |  25.479167 | 58.720238 |  3.326105 | 41.66752 | 779.153912 | 310.15944 | 192.423469 |\n",
       "| y2 |  13.145833 | 22.351190 | 61.621599 | 31.21854 | 310.159439 | 510.07993 | 156.185799 |\n",
       "| y3 | -43.145833 | 61.529762 | -3.855867 | 66.10927 | 192.423469 | 156.18580 | 485.332483 |\n",
       "\n"
      ],
      "text/plain": [
       "   X          x1        x2        x3       y1         y2        y3        \n",
       "X  204.166667 -2.770833 34.125000 19.08333  25.479167  13.14583 -43.145833\n",
       "x1  -2.770833 97.333333 17.809524 12.02976  58.720238  22.35119  61.529762\n",
       "x2  34.125000 17.809524 74.579932 14.21854   3.326105  61.62160  -3.855867\n",
       "x3  19.083333 12.029762 14.218537 76.96939  41.667517  31.21854  66.109269\n",
       "y1  25.479167 58.720238  3.326105 41.66752 779.153912 310.15944 192.423469\n",
       "y2  13.145833 22.351190 61.621599 31.21854 310.159439 510.07993 156.185799\n",
       "y3 -43.145833 61.529762 -3.855867 66.10927 192.423469 156.18580 485.332483"
      ]
     },
     "metadata": {},
     "output_type": "display_data"
    }
   ],
   "source": [
    "S <- cov(data); S"
   ]
  },
  {
   "cell_type": "markdown",
   "id": "impressed-access",
   "metadata": {},
   "source": [
    "从协方差做 PCA："
   ]
  },
  {
   "cell_type": "code",
   "execution_count": 3,
   "id": "collected-multimedia",
   "metadata": {},
   "outputs": [
    {
     "data": {
      "text/plain": [
       "Importance of components:\n",
       "                           Comp.1     Comp.2     Comp.3      Comp.4     Comp.5\n",
       "Standard deviation     32.7895650 20.0304926 17.5586082 14.10578905 9.66751039\n",
       "Proportion of Variance  0.4927038  0.1838645  0.1412846  0.09118205 0.04282959\n",
       "Cumulative Proportion   0.4927038  0.6765683  0.8178528  0.90903489 0.95186448\n",
       "                           Comp.6     Comp.7\n",
       "Standard deviation     7.88415379 6.54822502\n",
       "Proportion of Variance 0.02848556 0.01964996\n",
       "Cumulative Proportion  0.98035004 1.00000000"
      ]
     },
     "metadata": {},
     "output_type": "display_data"
    }
   ],
   "source": [
    "pca.cov <- princomp(data, cor=FALSE)\n",
    "summary(pca.cov)"
   ]
  },
  {
   "cell_type": "code",
   "execution_count": 4,
   "id": "surprised-reach",
   "metadata": {},
   "outputs": [
    {
     "data": {
      "text/html": [
       "0.09096511"
      ],
      "text/latex": [
       "0.09096511"
      ],
      "text/markdown": [
       "0.09096511"
      ],
      "text/plain": [
       "[1] 0.09096511"
      ]
     },
     "metadata": {},
     "output_type": "display_data"
    }
   ],
   "source": [
    "# sum last three proportion\n",
    "0.04282959+0.02848556+0.01964996"
   ]
  },
  {
   "cell_type": "markdown",
   "id": "white-lexington",
   "metadata": {},
   "source": [
    "前四个主成分累积贡献率已占近 $90.90\\%$，第四主成分贡献率 $9.12\\%$，大于剩下三个成分的贡献率总和（$0.090965$）。\n",
    "所以认为前四个主成分已包含原始数据的大量信息，所以保留前四个主成分即可。"
   ]
  },
  {
   "cell_type": "code",
   "execution_count": 5,
   "id": "unavailable-thinking",
   "metadata": {},
   "outputs": [
    {
     "data": {
      "image/png": "[encoded data removed]",
      "text/plain": [
       "Plot with title “pca.cov”"
      ]
     },
     "metadata": {
      "image/png": {
       "height": 420,
       "width": 420
      }
     },
     "output_type": "display_data"
    }
   ],
   "source": [
    "plot(pca.cov, type=\"lines\")"
   ]
  },
  {
   "cell_type": "markdown",
   "id": "exterior-deputy",
   "metadata": {},
   "source": [
    "同时，前四个主成分所占方差较大，这也证明了上述结论。"
   ]
  },
  {
   "cell_type": "markdown",
   "id": "sorted-currency",
   "metadata": {},
   "source": [
    "2. 样本相关系数矩阵 $R$："
   ]
  },
  {
   "cell_type": "code",
   "execution_count": 6,
   "id": "suffering-happiness",
   "metadata": {},
   "outputs": [
    {
     "data": {
      "text/html": [
       "<table class=\"dataframe\">\n",
       "<caption>A matrix: 7 × 7 of type dbl</caption>\n",
       "<thead>\n",
       "\t<tr><th></th><th scope=col>X</th><th scope=col>x1</th><th scope=col>x2</th><th scope=col>x3</th><th scope=col>y1</th><th scope=col>y2</th><th scope=col>y3</th></tr>\n",
       "</thead>\n",
       "<tbody>\n",
       "\t<tr><th scope=row>X</th><td> 1.00000000</td><td>-0.01965564</td><td> 0.27654719</td><td>0.1522309</td><td>0.06388239</td><td>0.04073583</td><td>-0.13706506</td></tr>\n",
       "\t<tr><th scope=row>x1</th><td>-0.01965564</td><td> 1.00000000</td><td> 0.20903091</td><td>0.1389848</td><td>0.21322856</td><td>0.10031150</td><td> 0.28309667</td></tr>\n",
       "\t<tr><th scope=row>x2</th><td> 0.27654719</td><td> 0.20903091</td><td> 1.00000000</td><td>0.1876657</td><td>0.01379791</td><td>0.31593872</td><td>-0.02026709</td></tr>\n",
       "\t<tr><th scope=row>x3</th><td> 0.15223090</td><td> 0.13898477</td><td> 0.18766571</td><td>1.0000000</td><td>0.17014805</td><td>0.15755581</td><td> 0.34204532</td></tr>\n",
       "\t<tr><th scope=row>y1</th><td> 0.06388239</td><td> 0.21322856</td><td> 0.01379791</td><td>0.1701481</td><td>1.00000000</td><td>0.49198771</td><td> 0.31291525</td></tr>\n",
       "\t<tr><th scope=row>y2</th><td> 0.04073583</td><td> 0.10031150</td><td> 0.31593872</td><td>0.1575558</td><td>0.49198771</td><td>1.00000000</td><td> 0.31390826</td></tr>\n",
       "\t<tr><th scope=row>y3</th><td>-0.13706506</td><td> 0.28309667</td><td>-0.02026709</td><td>0.3420453</td><td>0.31291525</td><td>0.31390826</td><td> 1.00000000</td></tr>\n",
       "</tbody>\n",
       "</table>\n"
      ],
      "text/latex": [
       "A matrix: 7 × 7 of type dbl\n",
       "\\begin{tabular}{r|lllllll}\n",
       "  & X & x1 & x2 & x3 & y1 & y2 & y3\\\\\n",
       "\\hline\n",
       "\tX &  1.00000000 & -0.01965564 &  0.27654719 & 0.1522309 & 0.06388239 & 0.04073583 & -0.13706506\\\\\n",
       "\tx1 & -0.01965564 &  1.00000000 &  0.20903091 & 0.1389848 & 0.21322856 & 0.10031150 &  0.28309667\\\\\n",
       "\tx2 &  0.27654719 &  0.20903091 &  1.00000000 & 0.1876657 & 0.01379791 & 0.31593872 & -0.02026709\\\\\n",
       "\tx3 &  0.15223090 &  0.13898477 &  0.18766571 & 1.0000000 & 0.17014805 & 0.15755581 &  0.34204532\\\\\n",
       "\ty1 &  0.06388239 &  0.21322856 &  0.01379791 & 0.1701481 & 1.00000000 & 0.49198771 &  0.31291525\\\\\n",
       "\ty2 &  0.04073583 &  0.10031150 &  0.31593872 & 0.1575558 & 0.49198771 & 1.00000000 &  0.31390826\\\\\n",
       "\ty3 & -0.13706506 &  0.28309667 & -0.02026709 & 0.3420453 & 0.31291525 & 0.31390826 &  1.00000000\\\\\n",
       "\\end{tabular}\n"
      ],
      "text/markdown": [
       "\n",
       "A matrix: 7 × 7 of type dbl\n",
       "\n",
       "| <!--/--> | X | x1 | x2 | x3 | y1 | y2 | y3 |\n",
       "|---|---|---|---|---|---|---|---|\n",
       "| X |  1.00000000 | -0.01965564 |  0.27654719 | 0.1522309 | 0.06388239 | 0.04073583 | -0.13706506 |\n",
       "| x1 | -0.01965564 |  1.00000000 |  0.20903091 | 0.1389848 | 0.21322856 | 0.10031150 |  0.28309667 |\n",
       "| x2 |  0.27654719 |  0.20903091 |  1.00000000 | 0.1876657 | 0.01379791 | 0.31593872 | -0.02026709 |\n",
       "| x3 |  0.15223090 |  0.13898477 |  0.18766571 | 1.0000000 | 0.17014805 | 0.15755581 |  0.34204532 |\n",
       "| y1 |  0.06388239 |  0.21322856 |  0.01379791 | 0.1701481 | 1.00000000 | 0.49198771 |  0.31291525 |\n",
       "| y2 |  0.04073583 |  0.10031150 |  0.31593872 | 0.1575558 | 0.49198771 | 1.00000000 |  0.31390826 |\n",
       "| y3 | -0.13706506 |  0.28309667 | -0.02026709 | 0.3420453 | 0.31291525 | 0.31390826 |  1.00000000 |\n",
       "\n"
      ],
      "text/plain": [
       "   X           x1          x2          x3        y1         y2        \n",
       "X   1.00000000 -0.01965564  0.27654719 0.1522309 0.06388239 0.04073583\n",
       "x1 -0.01965564  1.00000000  0.20903091 0.1389848 0.21322856 0.10031150\n",
       "x2  0.27654719  0.20903091  1.00000000 0.1876657 0.01379791 0.31593872\n",
       "x3  0.15223090  0.13898477  0.18766571 1.0000000 0.17014805 0.15755581\n",
       "y1  0.06388239  0.21322856  0.01379791 0.1701481 1.00000000 0.49198771\n",
       "y2  0.04073583  0.10031150  0.31593872 0.1575558 0.49198771 1.00000000\n",
       "y3 -0.13706506  0.28309667 -0.02026709 0.3420453 0.31291525 0.31390826\n",
       "   y3         \n",
       "X  -0.13706506\n",
       "x1  0.28309667\n",
       "x2 -0.02026709\n",
       "x3  0.34204532\n",
       "y1  0.31291525\n",
       "y2  0.31390826\n",
       "y3  1.00000000"
      ]
     },
     "metadata": {},
     "output_type": "display_data"
    }
   ],
   "source": [
    "R <- cor(data); R"
   ]
  },
  {
   "cell_type": "markdown",
   "id": "institutional-assignment",
   "metadata": {},
   "source": [
    "从相关系数做 PCA："
   ]
  },
  {
   "cell_type": "code",
   "execution_count": 7,
   "id": "young-habitat",
   "metadata": {},
   "outputs": [
    {
     "data": {
      "text/plain": [
       "Importance of components:\n",
       "                          Comp.1    Comp.2    Comp.3    Comp.4    Comp.5\n",
       "Standard deviation     1.4604408 1.1576357 1.0001631 0.9550502 0.8717094\n",
       "Proportion of Variance 0.3046982 0.1914458 0.1429037 0.1303030 0.1085539\n",
       "Cumulative Proportion  0.3046982 0.4961440 0.6390477 0.7693507 0.8779046\n",
       "                           Comp.6     Comp.7\n",
       "Standard deviation     0.71874049 0.58144634\n",
       "Proportion of Variance 0.07379827 0.04829712\n",
       "Cumulative Proportion  0.95170288 1.00000000"
      ]
     },
     "metadata": {},
     "output_type": "display_data"
    }
   ],
   "source": [
    "pca.cor <- princomp(data, cor=TRUE)\n",
    "summary(pca.cor)"
   ]
  },
  {
   "cell_type": "code",
   "execution_count": 8,
   "id": "mathematical-valve",
   "metadata": {},
   "outputs": [
    {
     "data": {
      "text/html": [
       "0.12209539"
      ],
      "text/latex": [
       "0.12209539"
      ],
      "text/markdown": [
       "0.12209539"
      ],
      "text/plain": [
       "[1] 0.1220954"
      ]
     },
     "metadata": {},
     "output_type": "display_data"
    }
   ],
   "source": [
    "0.07379827+0.04829712"
   ]
  },
  {
   "cell_type": "markdown",
   "id": "explicit-rider",
   "metadata": {},
   "source": [
    "从以结果可看出前五个主成分累积贡献率已占 $87.79\\%$ 且第五个主成分的贡献率为 0.1085539 ，与剩下两个成分的总和（0.12209539）差不多，所以保留前五个主成分即可。\n",
    "\n",
    "从方差来看，也可以佐证之。"
   ]
  },
  {
   "cell_type": "code",
   "execution_count": 9,
   "id": "buried-price",
   "metadata": {},
   "outputs": [
    {
     "data": {
      "image/png": "[encoded data removed]",
      "text/plain": [
       "Plot with title “pca.cor”"
      ]
     },
     "metadata": {
      "image/png": {
       "height": 420,
       "width": 420
      }
     },
     "output_type": "display_data"
    }
   ],
   "source": [
    "plot(pca.cor, type=\"lines\")"
   ]
  },
  {
   "cell_type": "markdown",
   "id": "anonymous-tongue",
   "metadata": {},
   "source": [
    "相较之下，我认为使用基于样本协方差矩阵 $S$ 的主成分分析结果更好。\n",
    "基于 $S$ 的前 4 个主成分累积贡献就超过了 $90\\%$，\n",
    "而基于 $R$ 前 5 个主成分累积贡献才不到 $88\\%$，\n",
    "显然使用基于 $S$ 的分析更好。\n",
    "\n",
    "同时考虑到具体的问题，空腹和摄入食糖的测量数据等量纲，无需进行标准化，这种数据基于协方差矩阵 $S$ 的分析结果更为合理。"
   ]
  }
 ],
 "metadata": {
  "kernelspec": {
   "display_name": "R",
   "language": "R",
   "name": "ir"
  },
  "language_info": {
   "codemirror_mode": "r",
   "file_extension": ".r",
   "mimetype": "text/x-r-source",
   "name": "R",
   "pygments_lexer": "r",
   "version": "4.0.4"
  }
 },
 "nbformat": 4,
 "nbformat_minor": 5
}
