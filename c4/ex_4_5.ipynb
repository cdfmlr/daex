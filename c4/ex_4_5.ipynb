{
 "cells": [
  {
   "cell_type": "markdown",
   "id": "leading-fusion",
   "metadata": {},
   "source": [
    "# 习题 4.5\n",
    "\n",
    "![习题 4.5](https://tva1.sinaimg.cn/large/008i3skNly1gr9qnd43plj31a40hun3k.jpg)"
   ]
  },
  {
   "cell_type": "code",
   "execution_count": 1,
   "id": "straight-notice",
   "metadata": {},
   "outputs": [
    {
     "data": {
      "text/html": [
       "<table class=\"dataframe\">\n",
       "<caption>A data.frame: 30 × 8</caption>\n",
       "<thead>\n",
       "\t<tr><th></th><th scope=col>X1</th><th scope=col>X2</th><th scope=col>X3</th><th scope=col>X4</th><th scope=col>X5</th><th scope=col>X6</th><th scope=col>X7</th><th scope=col>X8</th></tr>\n",
       "\t<tr><th></th><th scope=col>&lt;dbl&gt;</th><th scope=col>&lt;dbl&gt;</th><th scope=col>&lt;dbl&gt;</th><th scope=col>&lt;dbl&gt;</th><th scope=col>&lt;dbl&gt;</th><th scope=col>&lt;dbl&gt;</th><th scope=col>&lt;dbl&gt;</th><th scope=col>&lt;dbl&gt;</th></tr>\n",
       "</thead>\n",
       "<tbody>\n",
       "\t<tr><th scope=row>山西</th><td> 8.35</td><td>23.53</td><td> 7.51</td><td> 8.62</td><td>17.42</td><td>10.00</td><td>1.04</td><td>11.21</td></tr>\n",
       "\t<tr><th scope=row>内蒙古</th><td> 9.25</td><td>23.75</td><td> 6.61</td><td> 9.19</td><td>17.77</td><td>10.48</td><td>1.72</td><td>10.51</td></tr>\n",
       "\t<tr><th scope=row>吉林</th><td> 8.19</td><td>30.50</td><td> 4.72</td><td> 9.78</td><td>16.28</td><td> 7.60</td><td>2.52</td><td>10.32</td></tr>\n",
       "\t<tr><th scope=row>黑龙江</th><td> 7.73</td><td>29.20</td><td> 5.42</td><td> 9.43</td><td>19.29</td><td> 8.49</td><td>2.52</td><td>10.00</td></tr>\n",
       "\t<tr><th scope=row>河南</th><td> 9.42</td><td>27.93</td><td> 8.20</td><td> 8.14</td><td>16.17</td><td> 9.42</td><td>1.55</td><td> 9.76</td></tr>\n",
       "\t<tr><th scope=row>甘肃</th><td> 9.16</td><td>27.98</td><td> 9.01</td><td> 9.32</td><td>15.99</td><td> 9.10</td><td>1.82</td><td>11.35</td></tr>\n",
       "\t<tr><th scope=row>青海</th><td>10.06</td><td>28.64</td><td>10.52</td><td>10.05</td><td>16.18</td><td> 8.39</td><td>1.96</td><td>10.81</td></tr>\n",
       "\t<tr><th scope=row>河北</th><td> 9.09</td><td>28.12</td><td> 7.40</td><td> 9.62</td><td>17.26</td><td>11.12</td><td>2.49</td><td>12.65</td></tr>\n",
       "\t<tr><th scope=row>陕西</th><td> 9.41</td><td>28.20</td><td> 5.77</td><td>10.80</td><td>16.36</td><td>11.56</td><td>1.53</td><td>12.17</td></tr>\n",
       "\t<tr><th scope=row>宁夏</th><td> 8.70</td><td>28.12</td><td> 7.21</td><td>10.53</td><td>19.45</td><td>13.30</td><td>1.66</td><td>11.96</td></tr>\n",
       "\t<tr><th scope=row>新疆</th><td> 6.93</td><td>29.85</td><td> 4.54</td><td> 9.49</td><td>16.62</td><td>10.65</td><td>1.88</td><td>13.61</td></tr>\n",
       "\t<tr><th scope=row>湖北</th><td> 8.67</td><td>36.05</td><td> 7.31</td><td> 7.75</td><td>16.67</td><td>11.68</td><td>2.38</td><td>12.88</td></tr>\n",
       "\t<tr><th scope=row>云南</th><td> 9.98</td><td>37.69</td><td> 7.01</td><td> 8.94</td><td>16.15</td><td>11.08</td><td>0.83</td><td>11.67</td></tr>\n",
       "\t<tr><th scope=row>湖南</th><td> 6.77</td><td>38.69</td><td> 6.01</td><td> 8.82</td><td>14.79</td><td>11.44</td><td>1.74</td><td>13.23</td></tr>\n",
       "\t<tr><th scope=row>安徽</th><td> 8.14</td><td>37.75</td><td> 9.61</td><td> 8.49</td><td>13.15</td><td> 9.76</td><td>1.28</td><td>11.28</td></tr>\n",
       "\t<tr><th scope=row>贵州</th><td> 7.67</td><td>35.71</td><td> 8.04</td><td> 8.31</td><td>15.13</td><td> 7.76</td><td>1.41</td><td>13.25</td></tr>\n",
       "\t<tr><th scope=row>辽宁</th><td> 7.90</td><td>39.77</td><td> 8.49</td><td>12.94</td><td>19.27</td><td>11.05</td><td>2.04</td><td>13.29</td></tr>\n",
       "\t<tr><th scope=row>四川</th><td> 7.18</td><td>40.91</td><td> 7.32</td><td> 8.94</td><td>17.60</td><td>12.75</td><td>1.14</td><td>14.80</td></tr>\n",
       "\t<tr><th scope=row>山东</th><td> 8.82</td><td>33.70</td><td> 7.59</td><td>10.98</td><td>18.82</td><td>14.73</td><td>1.78</td><td>10.10</td></tr>\n",
       "\t<tr><th scope=row>江西</th><td> 6.25</td><td>35.02</td><td> 4.72</td><td> 6.28</td><td>10.03</td><td> 7.15</td><td>1.93</td><td>10.39</td></tr>\n",
       "\t<tr><th scope=row>福建</th><td>10.60</td><td>52.41</td><td> 7.70</td><td> 9.98</td><td>12.53</td><td>11.70</td><td>2.31</td><td>14.69</td></tr>\n",
       "\t<tr><th scope=row>广西</th><td> 7.27</td><td>52.65</td><td> 3.84</td><td> 9.16</td><td>13.03</td><td>15.26</td><td>1.98</td><td>14.57</td></tr>\n",
       "\t<tr><th scope=row>海南</th><td>13.45</td><td>55.85</td><td> 5.50</td><td> 7.45</td><td> 9.55</td><td> 9.52</td><td>2.21</td><td>16.30</td></tr>\n",
       "\t<tr><th scope=row>天津</th><td>10.85</td><td>44.68</td><td> 7.32</td><td>14.51</td><td>17.13</td><td>12.08</td><td>1.26</td><td>11.57</td></tr>\n",
       "\t<tr><th scope=row>江苏</th><td> 7.21</td><td>45.79</td><td> 7.66</td><td>10.36</td><td>16.56</td><td>12.86</td><td>2.25</td><td>11.69</td></tr>\n",
       "\t<tr><th scope=row>浙江</th><td> 7.68</td><td>50.37</td><td>11.35</td><td>13.30</td><td>19.25</td><td>14.59</td><td>2.75</td><td>14.87</td></tr>\n",
       "\t<tr><th scope=row>北京</th><td> 7.78</td><td>48.44</td><td> 8.00</td><td>20.51</td><td>22.12</td><td>15.73</td><td>1.15</td><td>16.61</td></tr>\n",
       "\t<tr><th scope=row>西藏</th><td> 7.94</td><td>39.65</td><td>20.97</td><td>20.82</td><td>22.52</td><td>12.41</td><td>1.75</td><td> 7.90</td></tr>\n",
       "\t<tr><th scope=row>上海</th><td> 8.28</td><td>64.34</td><td> 8.00</td><td>22.22</td><td>20.06</td><td>15.12</td><td>0.72</td><td>22.89</td></tr>\n",
       "\t<tr><th scope=row>广东</th><td>12.47</td><td>76.39</td><td> 5.52</td><td>11.24</td><td>14.52</td><td>22.00</td><td>5.46</td><td>25.50</td></tr>\n",
       "</tbody>\n",
       "</table>\n"
      ],
      "text/latex": [
       "A data.frame: 30 × 8\n",
       "\\begin{tabular}{r|llllllll}\n",
       "  & X1 & X2 & X3 & X4 & X5 & X6 & X7 & X8\\\\\n",
       "  & <dbl> & <dbl> & <dbl> & <dbl> & <dbl> & <dbl> & <dbl> & <dbl>\\\\\n",
       "\\hline\n",
       "\t山西 &  8.35 & 23.53 &  7.51 &  8.62 & 17.42 & 10.00 & 1.04 & 11.21\\\\\n",
       "\t内蒙古 &  9.25 & 23.75 &  6.61 &  9.19 & 17.77 & 10.48 & 1.72 & 10.51\\\\\n",
       "\t吉林 &  8.19 & 30.50 &  4.72 &  9.78 & 16.28 &  7.60 & 2.52 & 10.32\\\\\n",
       "\t黑龙江 &  7.73 & 29.20 &  5.42 &  9.43 & 19.29 &  8.49 & 2.52 & 10.00\\\\\n",
       "\t河南 &  9.42 & 27.93 &  8.20 &  8.14 & 16.17 &  9.42 & 1.55 &  9.76\\\\\n",
       "\t甘肃 &  9.16 & 27.98 &  9.01 &  9.32 & 15.99 &  9.10 & 1.82 & 11.35\\\\\n",
       "\t青海 & 10.06 & 28.64 & 10.52 & 10.05 & 16.18 &  8.39 & 1.96 & 10.81\\\\\n",
       "\t河北 &  9.09 & 28.12 &  7.40 &  9.62 & 17.26 & 11.12 & 2.49 & 12.65\\\\\n",
       "\t陕西 &  9.41 & 28.20 &  5.77 & 10.80 & 16.36 & 11.56 & 1.53 & 12.17\\\\\n",
       "\t宁夏 &  8.70 & 28.12 &  7.21 & 10.53 & 19.45 & 13.30 & 1.66 & 11.96\\\\\n",
       "\t新疆 &  6.93 & 29.85 &  4.54 &  9.49 & 16.62 & 10.65 & 1.88 & 13.61\\\\\n",
       "\t湖北 &  8.67 & 36.05 &  7.31 &  7.75 & 16.67 & 11.68 & 2.38 & 12.88\\\\\n",
       "\t云南 &  9.98 & 37.69 &  7.01 &  8.94 & 16.15 & 11.08 & 0.83 & 11.67\\\\\n",
       "\t湖南 &  6.77 & 38.69 &  6.01 &  8.82 & 14.79 & 11.44 & 1.74 & 13.23\\\\\n",
       "\t安徽 &  8.14 & 37.75 &  9.61 &  8.49 & 13.15 &  9.76 & 1.28 & 11.28\\\\\n",
       "\t贵州 &  7.67 & 35.71 &  8.04 &  8.31 & 15.13 &  7.76 & 1.41 & 13.25\\\\\n",
       "\t辽宁 &  7.90 & 39.77 &  8.49 & 12.94 & 19.27 & 11.05 & 2.04 & 13.29\\\\\n",
       "\t四川 &  7.18 & 40.91 &  7.32 &  8.94 & 17.60 & 12.75 & 1.14 & 14.80\\\\\n",
       "\t山东 &  8.82 & 33.70 &  7.59 & 10.98 & 18.82 & 14.73 & 1.78 & 10.10\\\\\n",
       "\t江西 &  6.25 & 35.02 &  4.72 &  6.28 & 10.03 &  7.15 & 1.93 & 10.39\\\\\n",
       "\t福建 & 10.60 & 52.41 &  7.70 &  9.98 & 12.53 & 11.70 & 2.31 & 14.69\\\\\n",
       "\t广西 &  7.27 & 52.65 &  3.84 &  9.16 & 13.03 & 15.26 & 1.98 & 14.57\\\\\n",
       "\t海南 & 13.45 & 55.85 &  5.50 &  7.45 &  9.55 &  9.52 & 2.21 & 16.30\\\\\n",
       "\t天津 & 10.85 & 44.68 &  7.32 & 14.51 & 17.13 & 12.08 & 1.26 & 11.57\\\\\n",
       "\t江苏 &  7.21 & 45.79 &  7.66 & 10.36 & 16.56 & 12.86 & 2.25 & 11.69\\\\\n",
       "\t浙江 &  7.68 & 50.37 & 11.35 & 13.30 & 19.25 & 14.59 & 2.75 & 14.87\\\\\n",
       "\t北京 &  7.78 & 48.44 &  8.00 & 20.51 & 22.12 & 15.73 & 1.15 & 16.61\\\\\n",
       "\t西藏 &  7.94 & 39.65 & 20.97 & 20.82 & 22.52 & 12.41 & 1.75 &  7.90\\\\\n",
       "\t上海 &  8.28 & 64.34 &  8.00 & 22.22 & 20.06 & 15.12 & 0.72 & 22.89\\\\\n",
       "\t广东 & 12.47 & 76.39 &  5.52 & 11.24 & 14.52 & 22.00 & 5.46 & 25.50\\\\\n",
       "\\end{tabular}\n"
      ],
      "text/markdown": [
       "\n",
       "A data.frame: 30 × 8\n",
       "\n",
       "| <!--/--> | X1 &lt;dbl&gt; | X2 &lt;dbl&gt; | X3 &lt;dbl&gt; | X4 &lt;dbl&gt; | X5 &lt;dbl&gt; | X6 &lt;dbl&gt; | X7 &lt;dbl&gt; | X8 &lt;dbl&gt; |\n",
       "|---|---|---|---|---|---|---|---|---|\n",
       "| 山西 |  8.35 | 23.53 |  7.51 |  8.62 | 17.42 | 10.00 | 1.04 | 11.21 |\n",
       "| 内蒙古 |  9.25 | 23.75 |  6.61 |  9.19 | 17.77 | 10.48 | 1.72 | 10.51 |\n",
       "| 吉林 |  8.19 | 30.50 |  4.72 |  9.78 | 16.28 |  7.60 | 2.52 | 10.32 |\n",
       "| 黑龙江 |  7.73 | 29.20 |  5.42 |  9.43 | 19.29 |  8.49 | 2.52 | 10.00 |\n",
       "| 河南 |  9.42 | 27.93 |  8.20 |  8.14 | 16.17 |  9.42 | 1.55 |  9.76 |\n",
       "| 甘肃 |  9.16 | 27.98 |  9.01 |  9.32 | 15.99 |  9.10 | 1.82 | 11.35 |\n",
       "| 青海 | 10.06 | 28.64 | 10.52 | 10.05 | 16.18 |  8.39 | 1.96 | 10.81 |\n",
       "| 河北 |  9.09 | 28.12 |  7.40 |  9.62 | 17.26 | 11.12 | 2.49 | 12.65 |\n",
       "| 陕西 |  9.41 | 28.20 |  5.77 | 10.80 | 16.36 | 11.56 | 1.53 | 12.17 |\n",
       "| 宁夏 |  8.70 | 28.12 |  7.21 | 10.53 | 19.45 | 13.30 | 1.66 | 11.96 |\n",
       "| 新疆 |  6.93 | 29.85 |  4.54 |  9.49 | 16.62 | 10.65 | 1.88 | 13.61 |\n",
       "| 湖北 |  8.67 | 36.05 |  7.31 |  7.75 | 16.67 | 11.68 | 2.38 | 12.88 |\n",
       "| 云南 |  9.98 | 37.69 |  7.01 |  8.94 | 16.15 | 11.08 | 0.83 | 11.67 |\n",
       "| 湖南 |  6.77 | 38.69 |  6.01 |  8.82 | 14.79 | 11.44 | 1.74 | 13.23 |\n",
       "| 安徽 |  8.14 | 37.75 |  9.61 |  8.49 | 13.15 |  9.76 | 1.28 | 11.28 |\n",
       "| 贵州 |  7.67 | 35.71 |  8.04 |  8.31 | 15.13 |  7.76 | 1.41 | 13.25 |\n",
       "| 辽宁 |  7.90 | 39.77 |  8.49 | 12.94 | 19.27 | 11.05 | 2.04 | 13.29 |\n",
       "| 四川 |  7.18 | 40.91 |  7.32 |  8.94 | 17.60 | 12.75 | 1.14 | 14.80 |\n",
       "| 山东 |  8.82 | 33.70 |  7.59 | 10.98 | 18.82 | 14.73 | 1.78 | 10.10 |\n",
       "| 江西 |  6.25 | 35.02 |  4.72 |  6.28 | 10.03 |  7.15 | 1.93 | 10.39 |\n",
       "| 福建 | 10.60 | 52.41 |  7.70 |  9.98 | 12.53 | 11.70 | 2.31 | 14.69 |\n",
       "| 广西 |  7.27 | 52.65 |  3.84 |  9.16 | 13.03 | 15.26 | 1.98 | 14.57 |\n",
       "| 海南 | 13.45 | 55.85 |  5.50 |  7.45 |  9.55 |  9.52 | 2.21 | 16.30 |\n",
       "| 天津 | 10.85 | 44.68 |  7.32 | 14.51 | 17.13 | 12.08 | 1.26 | 11.57 |\n",
       "| 江苏 |  7.21 | 45.79 |  7.66 | 10.36 | 16.56 | 12.86 | 2.25 | 11.69 |\n",
       "| 浙江 |  7.68 | 50.37 | 11.35 | 13.30 | 19.25 | 14.59 | 2.75 | 14.87 |\n",
       "| 北京 |  7.78 | 48.44 |  8.00 | 20.51 | 22.12 | 15.73 | 1.15 | 16.61 |\n",
       "| 西藏 |  7.94 | 39.65 | 20.97 | 20.82 | 22.52 | 12.41 | 1.75 |  7.90 |\n",
       "| 上海 |  8.28 | 64.34 |  8.00 | 22.22 | 20.06 | 15.12 | 0.72 | 22.89 |\n",
       "| 广东 | 12.47 | 76.39 |  5.52 | 11.24 | 14.52 | 22.00 | 5.46 | 25.50 |\n",
       "\n"
      ],
      "text/plain": [
       "                   X1    X2    X3    X4    X5    X6    X7   X8   \n",
       "\\u5c71\\u897f        8.35 23.53  7.51  8.62 17.42 10.00 1.04 11.21\n",
       "\\u5185\\u8499\\u53e4  9.25 23.75  6.61  9.19 17.77 10.48 1.72 10.51\n",
       "\\u5409\\u6797        8.19 30.50  4.72  9.78 16.28  7.60 2.52 10.32\n",
       "\\u9ed1\\u9f99\\u6c5f  7.73 29.20  5.42  9.43 19.29  8.49 2.52 10.00\n",
       "\\u6cb3\\u5357        9.42 27.93  8.20  8.14 16.17  9.42 1.55  9.76\n",
       "\\u7518\\u8083        9.16 27.98  9.01  9.32 15.99  9.10 1.82 11.35\n",
       "\\u9752\\u6d77       10.06 28.64 10.52 10.05 16.18  8.39 1.96 10.81\n",
       "\\u6cb3\\u5317        9.09 28.12  7.40  9.62 17.26 11.12 2.49 12.65\n",
       "\\u9655\\u897f        9.41 28.20  5.77 10.80 16.36 11.56 1.53 12.17\n",
       "\\u5b81\\u590f        8.70 28.12  7.21 10.53 19.45 13.30 1.66 11.96\n",
       "\\u65b0\\u7586        6.93 29.85  4.54  9.49 16.62 10.65 1.88 13.61\n",
       "\\u6e56\\u5317        8.67 36.05  7.31  7.75 16.67 11.68 2.38 12.88\n",
       "\\u4e91\\u5357        9.98 37.69  7.01  8.94 16.15 11.08 0.83 11.67\n",
       "\\u6e56\\u5357        6.77 38.69  6.01  8.82 14.79 11.44 1.74 13.23\n",
       "\\u5b89\\u5fbd        8.14 37.75  9.61  8.49 13.15  9.76 1.28 11.28\n",
       "\\u8d35\\u5dde        7.67 35.71  8.04  8.31 15.13  7.76 1.41 13.25\n",
       "\\u8fbd\\u5b81        7.90 39.77  8.49 12.94 19.27 11.05 2.04 13.29\n",
       "\\u56db\\u5ddd        7.18 40.91  7.32  8.94 17.60 12.75 1.14 14.80\n",
       "\\u5c71\\u4e1c        8.82 33.70  7.59 10.98 18.82 14.73 1.78 10.10\n",
       "\\u6c5f\\u897f        6.25 35.02  4.72  6.28 10.03  7.15 1.93 10.39\n",
       "\\u798f\\u5efa       10.60 52.41  7.70  9.98 12.53 11.70 2.31 14.69\n",
       "\\u5e7f\\u897f        7.27 52.65  3.84  9.16 13.03 15.26 1.98 14.57\n",
       "\\u6d77\\u5357       13.45 55.85  5.50  7.45  9.55  9.52 2.21 16.30\n",
       "\\u5929\\u6d25       10.85 44.68  7.32 14.51 17.13 12.08 1.26 11.57\n",
       "\\u6c5f\\u82cf        7.21 45.79  7.66 10.36 16.56 12.86 2.25 11.69\n",
       "\\u6d59\\u6c5f        7.68 50.37 11.35 13.30 19.25 14.59 2.75 14.87\n",
       "\\u5317\\u4eac        7.78 48.44  8.00 20.51 22.12 15.73 1.15 16.61\n",
       "\\u897f\\u85cf        7.94 39.65 20.97 20.82 22.52 12.41 1.75  7.90\n",
       "\\u4e0a\\u6d77        8.28 64.34  8.00 22.22 20.06 15.12 0.72 22.89\n",
       "\\u5e7f\\u4e1c       12.47 76.39  5.52 11.24 14.52 22.00 5.46 25.50"
      ]
     },
     "metadata": {},
     "output_type": "display_data"
    }
   ],
   "source": [
    "data <- read.table(\"ex_4_5.utf8.txt\", head=TRUE); data"
   ]
  },
  {
   "cell_type": "markdown",
   "id": "flying-fifty",
   "metadata": {},
   "source": [
    "## (1)"
   ]
  },
  {
   "cell_type": "markdown",
   "id": "detected-pakistan",
   "metadata": {},
   "source": [
    "在第一章中做过，用 cor 获取相关系数："
   ]
  },
  {
   "cell_type": "code",
   "execution_count": 2,
   "id": "corrected-press",
   "metadata": {},
   "outputs": [
    {
     "data": {
      "text/html": [
       "<table class=\"dataframe\">\n",
       "<caption>A matrix: 8 × 8 of type dbl</caption>\n",
       "<thead>\n",
       "\t<tr><th></th><th scope=col>X1</th><th scope=col>X2</th><th scope=col>X3</th><th scope=col>X4</th><th scope=col>X5</th><th scope=col>X6</th><th scope=col>X7</th><th scope=col>X8</th></tr>\n",
       "</thead>\n",
       "<tbody>\n",
       "\t<tr><th scope=row>X1</th><td> 1.00000000</td><td> 0.33364671</td><td>-0.05453868</td><td>-0.06125369</td><td>-0.28936059</td><td>0.19879627</td><td> 0.3486985</td><td> 0.31867736</td></tr>\n",
       "\t<tr><th scope=row>X2</th><td> 0.33364671</td><td> 1.00000000</td><td>-0.02290183</td><td> 0.39893102</td><td>-0.15630387</td><td>0.71113407</td><td> 0.4135946</td><td> 0.83495175</td></tr>\n",
       "\t<tr><th scope=row>X3</th><td>-0.05453868</td><td>-0.02290183</td><td> 1.00000000</td><td> 0.53332919</td><td> 0.49676279</td><td>0.03282961</td><td>-0.1390858</td><td>-0.25835810</td></tr>\n",
       "\t<tr><th scope=row>X4</th><td>-0.06125369</td><td> 0.39893102</td><td> 0.53332919</td><td> 1.00000000</td><td> 0.69842442</td><td>0.46791730</td><td>-0.1712742</td><td> 0.31275728</td></tr>\n",
       "\t<tr><th scope=row>X5</th><td>-0.28936059</td><td>-0.15630387</td><td> 0.49676279</td><td> 0.69842442</td><td> 1.00000000</td><td>0.28012915</td><td>-0.2082774</td><td>-0.08123414</td></tr>\n",
       "\t<tr><th scope=row>X6</th><td> 0.19879627</td><td> 0.71113407</td><td> 0.03282961</td><td> 0.46791730</td><td> 0.28012915</td><td>1.00000000</td><td> 0.4168213</td><td> 0.70158588</td></tr>\n",
       "\t<tr><th scope=row>X7</th><td> 0.34869847</td><td> 0.41359462</td><td>-0.13908580</td><td>-0.17127417</td><td>-0.20827738</td><td>0.41682128</td><td> 1.0000000</td><td> 0.39886792</td></tr>\n",
       "\t<tr><th scope=row>X8</th><td> 0.31867736</td><td> 0.83495175</td><td>-0.25835810</td><td> 0.31275728</td><td>-0.08123414</td><td>0.70158588</td><td> 0.3988679</td><td> 1.00000000</td></tr>\n",
       "</tbody>\n",
       "</table>\n"
      ],
      "text/latex": [
       "A matrix: 8 × 8 of type dbl\n",
       "\\begin{tabular}{r|llllllll}\n",
       "  & X1 & X2 & X3 & X4 & X5 & X6 & X7 & X8\\\\\n",
       "\\hline\n",
       "\tX1 &  1.00000000 &  0.33364671 & -0.05453868 & -0.06125369 & -0.28936059 & 0.19879627 &  0.3486985 &  0.31867736\\\\\n",
       "\tX2 &  0.33364671 &  1.00000000 & -0.02290183 &  0.39893102 & -0.15630387 & 0.71113407 &  0.4135946 &  0.83495175\\\\\n",
       "\tX3 & -0.05453868 & -0.02290183 &  1.00000000 &  0.53332919 &  0.49676279 & 0.03282961 & -0.1390858 & -0.25835810\\\\\n",
       "\tX4 & -0.06125369 &  0.39893102 &  0.53332919 &  1.00000000 &  0.69842442 & 0.46791730 & -0.1712742 &  0.31275728\\\\\n",
       "\tX5 & -0.28936059 & -0.15630387 &  0.49676279 &  0.69842442 &  1.00000000 & 0.28012915 & -0.2082774 & -0.08123414\\\\\n",
       "\tX6 &  0.19879627 &  0.71113407 &  0.03282961 &  0.46791730 &  0.28012915 & 1.00000000 &  0.4168213 &  0.70158588\\\\\n",
       "\tX7 &  0.34869847 &  0.41359462 & -0.13908580 & -0.17127417 & -0.20827738 & 0.41682128 &  1.0000000 &  0.39886792\\\\\n",
       "\tX8 &  0.31867736 &  0.83495175 & -0.25835810 &  0.31275728 & -0.08123414 & 0.70158588 &  0.3988679 &  1.00000000\\\\\n",
       "\\end{tabular}\n"
      ],
      "text/markdown": [
       "\n",
       "A matrix: 8 × 8 of type dbl\n",
       "\n",
       "| <!--/--> | X1 | X2 | X3 | X4 | X5 | X6 | X7 | X8 |\n",
       "|---|---|---|---|---|---|---|---|---|\n",
       "| X1 |  1.00000000 |  0.33364671 | -0.05453868 | -0.06125369 | -0.28936059 | 0.19879627 |  0.3486985 |  0.31867736 |\n",
       "| X2 |  0.33364671 |  1.00000000 | -0.02290183 |  0.39893102 | -0.15630387 | 0.71113407 |  0.4135946 |  0.83495175 |\n",
       "| X3 | -0.05453868 | -0.02290183 |  1.00000000 |  0.53332919 |  0.49676279 | 0.03282961 | -0.1390858 | -0.25835810 |\n",
       "| X4 | -0.06125369 |  0.39893102 |  0.53332919 |  1.00000000 |  0.69842442 | 0.46791730 | -0.1712742 |  0.31275728 |\n",
       "| X5 | -0.28936059 | -0.15630387 |  0.49676279 |  0.69842442 |  1.00000000 | 0.28012915 | -0.2082774 | -0.08123414 |\n",
       "| X6 |  0.19879627 |  0.71113407 |  0.03282961 |  0.46791730 |  0.28012915 | 1.00000000 |  0.4168213 |  0.70158588 |\n",
       "| X7 |  0.34869847 |  0.41359462 | -0.13908580 | -0.17127417 | -0.20827738 | 0.41682128 |  1.0000000 |  0.39886792 |\n",
       "| X8 |  0.31867736 |  0.83495175 | -0.25835810 |  0.31275728 | -0.08123414 | 0.70158588 |  0.3988679 |  1.00000000 |\n",
       "\n"
      ],
      "text/plain": [
       "   X1          X2          X3          X4          X5          X6        \n",
       "X1  1.00000000  0.33364671 -0.05453868 -0.06125369 -0.28936059 0.19879627\n",
       "X2  0.33364671  1.00000000 -0.02290183  0.39893102 -0.15630387 0.71113407\n",
       "X3 -0.05453868 -0.02290183  1.00000000  0.53332919  0.49676279 0.03282961\n",
       "X4 -0.06125369  0.39893102  0.53332919  1.00000000  0.69842442 0.46791730\n",
       "X5 -0.28936059 -0.15630387  0.49676279  0.69842442  1.00000000 0.28012915\n",
       "X6  0.19879627  0.71113407  0.03282961  0.46791730  0.28012915 1.00000000\n",
       "X7  0.34869847  0.41359462 -0.13908580 -0.17127417 -0.20827738 0.41682128\n",
       "X8  0.31867736  0.83495175 -0.25835810  0.31275728 -0.08123414 0.70158588\n",
       "   X7         X8         \n",
       "X1  0.3486985  0.31867736\n",
       "X2  0.4135946  0.83495175\n",
       "X3 -0.1390858 -0.25835810\n",
       "X4 -0.1712742  0.31275728\n",
       "X5 -0.2082774 -0.08123414\n",
       "X6  0.4168213  0.70158588\n",
       "X7  1.0000000  0.39886792\n",
       "X8  0.3988679  1.00000000"
      ]
     },
     "metadata": {},
     "output_type": "display_data"
    }
   ],
   "source": [
    "R <- cor(data); R"
   ]
  },
  {
   "cell_type": "markdown",
   "id": "assisted-cornwall",
   "metadata": {},
   "source": [
    "## (2)"
   ]
  },
  {
   "cell_type": "markdown",
   "id": "skilled-classroom",
   "metadata": {},
   "source": [
    "R 中用 `princomp` 来做 PCA，里面有个 `cor` 参数指定是否使用相关系数："
   ]
  },
  {
   "cell_type": "code",
   "execution_count": 3,
   "id": "behavioral-duncan",
   "metadata": {},
   "outputs": [
    {
     "data": {
      "text/plain": [
       "Importance of components:\n",
       "                         Comp.1    Comp.2    Comp.3     Comp.4     Comp.5\n",
       "Standard deviation     1.759627 1.5385783 0.9591597 0.84019364 0.70600448\n",
       "Proportion of Variance 0.387036 0.2959029 0.1149984 0.08824067 0.06230529\n",
       "Cumulative Proportion  0.387036 0.6829389 0.7979373 0.88617801 0.94848330\n",
       "                           Comp.6     Comp.7      Comp.8\n",
       "Standard deviation     0.47946669 0.36162932 0.226868982\n",
       "Proportion of Variance 0.02873604 0.01634697 0.006433692\n",
       "Cumulative Proportion  0.97721934 0.99356631 1.000000000"
      ]
     },
     "metadata": {},
     "output_type": "display_data"
    }
   ],
   "source": [
    "pca <- princomp(data, cor=TRUE)\n",
    "summary(pca)"
   ]
  },
  {
   "cell_type": "markdown",
   "id": "funny-rwanda",
   "metadata": {},
   "source": [
    "这里从 `summary` 输出中就有各主成分的贡献率 `Proportion of Variance`，\n",
    "以及累积贡献率 `Cumulative Proportion`。\n",
    "\n",
    "其中前两个主成分的累积贡献率为 $0.6829389$。"
   ]
  },
  {
   "cell_type": "markdown",
   "id": "conditional-lyric",
   "metadata": {},
   "source": [
    "这里可以作图来对 PCA 结果有更直观的感受："
   ]
  },
  {
   "cell_type": "code",
   "execution_count": 4,
   "id": "anticipated-marketing",
   "metadata": {},
   "outputs": [
    {
     "data": {
      "image/png": "[encoded data removed]",
      "text/plain": [
       "Plot with title “pca”"
      ]
     },
     "metadata": {
      "image/png": {
       "height": 420,
       "width": 420
      }
     },
     "output_type": "display_data"
    }
   ],
   "source": [
    "plot(pca, type=\"lines\")"
   ]
  },
  {
   "cell_type": "markdown",
   "id": "incorporated-tours",
   "metadata": {},
   "source": [
    "可以看到前两个主成分所占方差较大，所以只用前两个主成分就可以比较好的描述数据特征了。"
   ]
  },
  {
   "cell_type": "markdown",
   "id": "oriental-entrepreneur",
   "metadata": {},
   "source": [
    "## (3)"
   ]
  },
  {
   "cell_type": "markdown",
   "id": "prescribed-playback",
   "metadata": {},
   "source": [
    "从 `pca$loading` 可以获取到个主成分的构成："
   ]
  },
  {
   "cell_type": "code",
   "execution_count": 5,
   "id": "liable-ancient",
   "metadata": {},
   "outputs": [
    {
     "data": {
      "text/plain": [
       "\n",
       "Loadings:\n",
       "   Comp.1 Comp.2 Comp.3 Comp.4 Comp.5 Comp.6 Comp.7 Comp.8\n",
       "X1  0.250  0.241  0.694  0.377  0.502                     \n",
       "X2  0.519                0.225 -0.424         0.282  0.643\n",
       "X3        -0.475  0.578        -0.510  0.173 -0.381       \n",
       "X4  0.254 -0.538         0.231        -0.399  0.472 -0.458\n",
       "X5        -0.575        -0.285  0.516 -0.146 -0.159  0.521\n",
       "X6  0.493 -0.135 -0.145 -0.224  0.177  0.755        -0.244\n",
       "X7  0.317  0.261  0.286 -0.768        -0.355  0.131       \n",
       "X8  0.509        -0.271  0.177        -0.305 -0.708 -0.181\n",
       "\n",
       "               Comp.1 Comp.2 Comp.3 Comp.4 Comp.5 Comp.6 Comp.7 Comp.8\n",
       "SS loadings     1.000  1.000  1.000  1.000  1.000  1.000  1.000  1.000\n",
       "Proportion Var  0.125  0.125  0.125  0.125  0.125  0.125  0.125  0.125\n",
       "Cumulative Var  0.125  0.250  0.375  0.500  0.625  0.750  0.875  1.000"
      ]
     },
     "metadata": {},
     "output_type": "display_data"
    }
   ],
   "source": [
    "pca$loadings"
   ]
  },
  {
   "cell_type": "markdown",
   "id": "developmental-voltage",
   "metadata": {},
   "source": [
    "取出前两个主成分："
   ]
  },
  {
   "cell_type": "code",
   "execution_count": 6,
   "id": "realistic-tiger",
   "metadata": {},
   "outputs": [
    {
     "data": {
      "text/html": [
       "<table class=\"dataframe\">\n",
       "<caption>A matrix: 8 × 2 of type dbl</caption>\n",
       "<thead>\n",
       "\t<tr><th></th><th scope=col>Comp.1</th><th scope=col>Comp.2</th></tr>\n",
       "</thead>\n",
       "<tbody>\n",
       "\t<tr><th scope=row>X1</th><td> 0.24960670</td><td> 0.24123818</td></tr>\n",
       "\t<tr><th scope=row>X2</th><td> 0.51923425</td><td> 0.03760741</td></tr>\n",
       "\t<tr><th scope=row>X3</th><td>-0.01848008</td><td>-0.47543851</td></tr>\n",
       "\t<tr><th scope=row>X4</th><td> 0.25409160</td><td>-0.53808076</td></tr>\n",
       "\t<tr><th scope=row>X5</th><td> 0.02169482</td><td>-0.57544866</td></tr>\n",
       "\t<tr><th scope=row>X6</th><td> 0.49266309</td><td>-0.13467554</td></tr>\n",
       "\t<tr><th scope=row>X7</th><td> 0.31714669</td><td> 0.26068239</td></tr>\n",
       "\t<tr><th scope=row>X8</th><td> 0.50933155</td><td> 0.08708140</td></tr>\n",
       "</tbody>\n",
       "</table>\n"
      ],
      "text/latex": [
       "A matrix: 8 × 2 of type dbl\n",
       "\\begin{tabular}{r|ll}\n",
       "  & Comp.1 & Comp.2\\\\\n",
       "\\hline\n",
       "\tX1 &  0.24960670 &  0.24123818\\\\\n",
       "\tX2 &  0.51923425 &  0.03760741\\\\\n",
       "\tX3 & -0.01848008 & -0.47543851\\\\\n",
       "\tX4 &  0.25409160 & -0.53808076\\\\\n",
       "\tX5 &  0.02169482 & -0.57544866\\\\\n",
       "\tX6 &  0.49266309 & -0.13467554\\\\\n",
       "\tX7 &  0.31714669 &  0.26068239\\\\\n",
       "\tX8 &  0.50933155 &  0.08708140\\\\\n",
       "\\end{tabular}\n"
      ],
      "text/markdown": [
       "\n",
       "A matrix: 8 × 2 of type dbl\n",
       "\n",
       "| <!--/--> | Comp.1 | Comp.2 |\n",
       "|---|---|---|\n",
       "| X1 |  0.24960670 |  0.24123818 |\n",
       "| X2 |  0.51923425 |  0.03760741 |\n",
       "| X3 | -0.01848008 | -0.47543851 |\n",
       "| X4 |  0.25409160 | -0.53808076 |\n",
       "| X5 |  0.02169482 | -0.57544866 |\n",
       "| X6 |  0.49266309 | -0.13467554 |\n",
       "| X7 |  0.31714669 |  0.26068239 |\n",
       "| X8 |  0.50933155 |  0.08708140 |\n",
       "\n"
      ],
      "text/plain": [
       "   Comp.1      Comp.2     \n",
       "X1  0.24960670  0.24123818\n",
       "X2  0.51923425  0.03760741\n",
       "X3 -0.01848008 -0.47543851\n",
       "X4  0.25409160 -0.53808076\n",
       "X5  0.02169482 -0.57544866\n",
       "X6  0.49266309 -0.13467554\n",
       "X7  0.31714669  0.26068239\n",
       "X8  0.50933155  0.08708140"
      ]
     },
     "metadata": {},
     "output_type": "display_data"
    }
   ],
   "source": [
    "pca$loadings[,1:2]"
   ]
  },
  {
   "cell_type": "code",
   "execution_count": 7,
   "id": "indirect-annotation",
   "metadata": {},
   "outputs": [
    {
     "name": "stdout",
     "output_type": "stream",
     "text": [
      "Y_1 =  0.25x_1+ 0.519x_2+ -0.018x_3+ 0.254x_4+ 0.022x_5+ 0.493x_6+ 0.317x_7+ 0.509x_8+ \n",
      "Y_2 =  0.241x_1+ 0.038x_2+ -0.475x_3+ -0.538x_4+ -0.575x_5+ -0.135x_6+ 0.261x_7+ 0.087x_8+ \n"
     ]
    }
   ],
   "source": [
    "cat(\"Y_1 = \", paste(round(pca$loadings[,1], 3), \"x_\", 1:8, \"+\", sep=\"\"), \"\\n\")\n",
    "cat(\"Y_2 = \", paste(round(pca$loadings[,2], 3), \"x_\", 1:8, \"+\", sep=\"\"), \"\\n\")"
   ]
  },
  {
   "cell_type": "markdown",
   "id": "laden-intention",
   "metadata": {},
   "source": [
    "即得到：\n",
    "\n",
    "$$\n",
    "\\begin{aligned}\n",
    "Y_1 &=  0.25x_1+ 0.519x_2 -0.018x_3+ 0.254x_4+ 0.022x_5+ 0.493x_6+ 0.317x_7+ 0.509x_8\\\\\n",
    "Y_2 &=  0.241x_1+ 0.038x_2 -0.475x_3 -0.538x_4 -0.575x_5 -0.135x_6+ 0.261x_7+ 0.087x_8\n",
    "\\end{aligned}\n",
    "$$"
   ]
  },
  {
   "cell_type": "markdown",
   "id": "julian-behalf",
   "metadata": {},
   "source": [
    "- $Y_1$ 反映了各省人均消费水平，除烟茶酒（$X_3$）外，其他支出越高，其人均总体消费水平越高，而烟茶酒对其消费水平评价成负相关。\n",
    "- 在 $Y_2 $中人烟酒、其他副食、衣着、日用品系数为负；粮食、副食、燃料、非商品系数为正，说明 $Y_2$ 的绝对值越大，各省人均消费的在生活必需品与高档品差异越大。"
   ]
  },
  {
   "cell_type": "markdown",
   "id": "italian-hampton",
   "metadata": {},
   "source": [
    "`pca$scores` 可以获取在个主成分下数据的得分："
   ]
  },
  {
   "cell_type": "code",
   "execution_count": 8,
   "id": "complete-cargo",
   "metadata": {},
   "outputs": [
    {
     "data": {
      "text/html": [
       "<table class=\"dataframe\">\n",
       "<caption>A matrix: 30 × 8 of type dbl</caption>\n",
       "<thead>\n",
       "\t<tr><th></th><th scope=col>Comp.1</th><th scope=col>Comp.2</th><th scope=col>Comp.3</th><th scope=col>Comp.4</th><th scope=col>Comp.5</th><th scope=col>Comp.6</th><th scope=col>Comp.7</th><th scope=col>Comp.8</th></tr>\n",
       "</thead>\n",
       "<tbody>\n",
       "\t<tr><th scope=row>山西</th><td>-1.71328041</td><td>-0.1702972</td><td>-0.16533704</td><td> 0.23590437</td><td> 0.569936490</td><td> 0.29875410</td><td>-0.48611208</td><td>-0.09116991</td></tr>\n",
       "\t<tr><th scope=row>内蒙古</th><td>-1.27970296</td><td> 0.1344973</td><td> 0.30689790</td><td>-0.23043192</td><td> 1.012468747</td><td> 0.07198599</td><td>-0.03717535</td><td>-0.12143528</td></tr>\n",
       "\t<tr><th scope=row>吉林</th><td>-1.31581695</td><td> 0.8750360</td><td>-0.11140786</td><td>-0.68616712</td><td> 0.247083948</td><td>-1.08443042</td><td> 0.57207381</td><td> 0.05978027</td></tr>\n",
       "\t<tr><th scope=row>黑龙江</th><td>-1.34833462</td><td> 0.1041418</td><td>-0.23606441</td><td>-1.22149653</td><td> 0.603997992</td><td>-0.91121622</td><td> 0.32415606</td><td> 0.48423086</td></tr>\n",
       "\t<tr><th scope=row>河南</th><td>-1.51135274</td><td> 0.3575657</td><td> 0.74485489</td><td> 0.15916151</td><td> 0.318199302</td><td> 0.22362082</td><td>-0.08877150</td><td> 0.06122241</td></tr>\n",
       "\t<tr><th scope=row>甘肃</th><td>-1.20243857</td><td> 0.1962559</td><td> 0.77061864</td><td> 0.03290876</td><td> 0.031513421</td><td>-0.17668219</td><td>-0.32211193</td><td>-0.21328633</td></tr>\n",
       "\t<tr><th scope=row>青海</th><td>-1.13238706</td><td> 0.0184613</td><td> 1.56666527</td><td> 0.16585236</td><td> 0.010877250</td><td>-0.35640196</td><td>-0.28908048</td><td>-0.16241711</td></tr>\n",
       "\t<tr><th scope=row>河北</th><td>-0.39890334</td><td> 0.3006773</td><td> 0.44000732</td><td>-0.76975727</td><td> 0.557414414</td><td>-0.25219732</td><td>-0.24503792</td><td>-0.29330670</td></tr>\n",
       "\t<tr><th scope=row>陕西</th><td>-0.62321145</td><td> 0.2873967</td><td>-0.03974784</td><td> 0.30778811</td><td> 0.905168787</td><td> 0.13749943</td><td> 0.12213088</td><td>-0.46191904</td></tr>\n",
       "\t<tr><th scope=row>宁夏</th><td>-0.43775323</td><td>-0.6567395</td><td>-0.14502865</td><td>-0.45256266</td><td> 1.065800286</td><td> 0.48700867</td><td>-0.17027760</td><td>-0.07691451</td></tr>\n",
       "\t<tr><th scope=row>新疆</th><td>-0.83249622</td><td> 0.4284772</td><td>-1.31216366</td><td>-0.52353448</td><td> 0.233313443</td><td>-0.33824264</td><td>-0.17043019</td><td>-0.25789460</td></tr>\n",
       "\t<tr><th scope=row>湖北</th><td>-0.17335839</td><td> 0.5996948</td><td> 0.13105793</td><td>-0.70785427</td><td> 0.102796108</td><td> 0.12846023</td><td>-0.30601657</td><td> 0.18738388</td></tr>\n",
       "\t<tr><th scope=row>云南</th><td>-0.67809647</td><td> 0.3005293</td><td> 0.22841114</td><td> 1.16558732</td><td> 0.547410479</td><td> 0.63752652</td><td>-0.04440406</td><td> 0.35660242</td></tr>\n",
       "\t<tr><th scope=row>湖南</th><td>-0.52687091</td><td> 0.5617115</td><td>-1.17427177</td><td>-0.22730234</td><td>-0.637516046</td><td> 0.19411512</td><td>-0.06581257</td><td>-0.09598281</td></tr>\n",
       "\t<tr><th scope=row>安徽</th><td>-1.13401837</td><td> 0.4479633</td><td> 0.22310249</td><td> 0.63162229</td><td>-1.135121996</td><td> 0.47275352</td><td>-0.19762601</td><td>-0.13391580</td></tr>\n",
       "\t<tr><th scope=row>贵州</th><td>-1.28087147</td><td> 0.4355961</td><td>-0.31186180</td><td> 0.42406853</td><td>-0.717322171</td><td>-0.42721526</td><td>-0.60824015</td><td> 0.19301087</td></tr>\n",
       "\t<tr><th scope=row>辽宁</th><td> 0.04597426</td><td>-0.9973278</td><td>-0.18880188</td><td>-0.39435146</td><td> 0.001524098</td><td>-0.53145394</td><td>-0.04009504</td><td> 0.24617664</td></tr>\n",
       "\t<tr><th scope=row>四川</th><td>-0.13719329</td><td>-0.3495031</td><td>-1.18966949</td><td> 0.16211927</td><td>-0.161510999</td><td> 0.57244188</td><td>-0.67692322</td><td> 0.37080157</td></tr>\n",
       "\t<tr><th scope=row>山东</th><td>-0.14352770</td><td>-0.6936321</td><td> 0.06841930</td><td>-0.54597236</td><td> 0.794096721</td><td> 0.96009874</td><td> 0.42746893</td><td> 0.01292320</td></tr>\n",
       "\t<tr><th scope=row>江西</th><td>-1.99443644</td><td> 2.1443095</td><td>-1.04918408</td><td>-0.09124788</td><td>-1.589855377</td><td>-0.30165950</td><td> 0.42014491</td><td>-0.34738661</td></tr>\n",
       "\t<tr><th scope=row>福建</th><td> 1.17362616</td><td> 1.3976957</td><td> 0.84741141</td><td> 0.73423571</td><td>-0.617905779</td><td> 0.02473358</td><td> 0.19700508</td><td> 0.01148641</td></tr>\n",
       "\t<tr><th scope=row>广西</th><td> 1.07457604</td><td> 1.2563578</td><td>-1.63199669</td><td>-0.07653990</td><td>-0.693330619</td><td> 0.86788824</td><td> 0.55704451</td><td>-0.06662925</td></tr>\n",
       "\t<tr><th scope=row>海南</th><td> 1.42511451</td><td> 3.2327307</td><td> 1.66191693</td><td> 1.96723103</td><td>-0.096122739</td><td>-0.30013866</td><td> 0.07821521</td><td> 0.19333947</td></tr>\n",
       "\t<tr><th scope=row>天津</th><td> 0.44287310</td><td>-0.4821918</td><td> 0.68627477</td><td> 1.26444816</td><td> 0.725655997</td><td> 0.11261393</td><td> 0.84478504</td><td> 0.12783423</td></tr>\n",
       "\t<tr><th scope=row>江苏</th><td> 0.15591226</td><td>-0.1151304</td><td>-0.52099459</td><td>-0.73836503</td><td>-0.693942745</td><td> 0.31633353</td><td> 0.41504815</td><td> 0.29813456</td></tr>\n",
       "\t<tr><th scope=row>浙江</th><td> 1.54097092</td><td>-1.3970121</td><td> 0.15434604</td><td>-1.09621902</td><td>-0.781850716</td><td> 0.04654020</td><td>-0.22375699</td><td> 0.25892031</td></tr>\n",
       "\t<tr><th scope=row>北京</th><td> 1.82277984</td><td>-2.9374614</td><td>-1.25748825</td><td> 0.55406973</td><td> 0.661967309</td><td>-0.22210262</td><td> 0.33005139</td><td>-0.14855873</td></tr>\n",
       "\t<tr><th scope=row>西藏</th><td>-0.13551813</td><td>-4.9923526</td><td> 2.37698478</td><td>-0.46230359</td><td>-1.441186117</td><td> 0.12998035</td><td> 0.22358976</td><td>-0.14715544</td></tr>\n",
       "\t<tr><th scope=row>上海</th><td> 3.30394931</td><td>-2.6047252</td><td>-1.70041148</td><td> 2.01766545</td><td>-0.031636936</td><td>-0.79913006</td><td>-0.29367453</td><td>-0.08851021</td></tr>\n",
       "\t<tr><th scope=row>广东</th><td> 7.01379233</td><td> 2.3172751</td><td> 0.82746069</td><td>-1.59855678</td><td> 0.208077446</td><td> 0.01851593</td><td>-0.24616755</td><td>-0.15536476</td></tr>\n",
       "</tbody>\n",
       "</table>\n"
      ],
      "text/latex": [
       "A matrix: 30 × 8 of type dbl\n",
       "\\begin{tabular}{r|llllllll}\n",
       "  & Comp.1 & Comp.2 & Comp.3 & Comp.4 & Comp.5 & Comp.6 & Comp.7 & Comp.8\\\\\n",
       "\\hline\n",
       "\t山西 & -1.71328041 & -0.1702972 & -0.16533704 &  0.23590437 &  0.569936490 &  0.29875410 & -0.48611208 & -0.09116991\\\\\n",
       "\t内蒙古 & -1.27970296 &  0.1344973 &  0.30689790 & -0.23043192 &  1.012468747 &  0.07198599 & -0.03717535 & -0.12143528\\\\\n",
       "\t吉林 & -1.31581695 &  0.8750360 & -0.11140786 & -0.68616712 &  0.247083948 & -1.08443042 &  0.57207381 &  0.05978027\\\\\n",
       "\t黑龙江 & -1.34833462 &  0.1041418 & -0.23606441 & -1.22149653 &  0.603997992 & -0.91121622 &  0.32415606 &  0.48423086\\\\\n",
       "\t河南 & -1.51135274 &  0.3575657 &  0.74485489 &  0.15916151 &  0.318199302 &  0.22362082 & -0.08877150 &  0.06122241\\\\\n",
       "\t甘肃 & -1.20243857 &  0.1962559 &  0.77061864 &  0.03290876 &  0.031513421 & -0.17668219 & -0.32211193 & -0.21328633\\\\\n",
       "\t青海 & -1.13238706 &  0.0184613 &  1.56666527 &  0.16585236 &  0.010877250 & -0.35640196 & -0.28908048 & -0.16241711\\\\\n",
       "\t河北 & -0.39890334 &  0.3006773 &  0.44000732 & -0.76975727 &  0.557414414 & -0.25219732 & -0.24503792 & -0.29330670\\\\\n",
       "\t陕西 & -0.62321145 &  0.2873967 & -0.03974784 &  0.30778811 &  0.905168787 &  0.13749943 &  0.12213088 & -0.46191904\\\\\n",
       "\t宁夏 & -0.43775323 & -0.6567395 & -0.14502865 & -0.45256266 &  1.065800286 &  0.48700867 & -0.17027760 & -0.07691451\\\\\n",
       "\t新疆 & -0.83249622 &  0.4284772 & -1.31216366 & -0.52353448 &  0.233313443 & -0.33824264 & -0.17043019 & -0.25789460\\\\\n",
       "\t湖北 & -0.17335839 &  0.5996948 &  0.13105793 & -0.70785427 &  0.102796108 &  0.12846023 & -0.30601657 &  0.18738388\\\\\n",
       "\t云南 & -0.67809647 &  0.3005293 &  0.22841114 &  1.16558732 &  0.547410479 &  0.63752652 & -0.04440406 &  0.35660242\\\\\n",
       "\t湖南 & -0.52687091 &  0.5617115 & -1.17427177 & -0.22730234 & -0.637516046 &  0.19411512 & -0.06581257 & -0.09598281\\\\\n",
       "\t安徽 & -1.13401837 &  0.4479633 &  0.22310249 &  0.63162229 & -1.135121996 &  0.47275352 & -0.19762601 & -0.13391580\\\\\n",
       "\t贵州 & -1.28087147 &  0.4355961 & -0.31186180 &  0.42406853 & -0.717322171 & -0.42721526 & -0.60824015 &  0.19301087\\\\\n",
       "\t辽宁 &  0.04597426 & -0.9973278 & -0.18880188 & -0.39435146 &  0.001524098 & -0.53145394 & -0.04009504 &  0.24617664\\\\\n",
       "\t四川 & -0.13719329 & -0.3495031 & -1.18966949 &  0.16211927 & -0.161510999 &  0.57244188 & -0.67692322 &  0.37080157\\\\\n",
       "\t山东 & -0.14352770 & -0.6936321 &  0.06841930 & -0.54597236 &  0.794096721 &  0.96009874 &  0.42746893 &  0.01292320\\\\\n",
       "\t江西 & -1.99443644 &  2.1443095 & -1.04918408 & -0.09124788 & -1.589855377 & -0.30165950 &  0.42014491 & -0.34738661\\\\\n",
       "\t福建 &  1.17362616 &  1.3976957 &  0.84741141 &  0.73423571 & -0.617905779 &  0.02473358 &  0.19700508 &  0.01148641\\\\\n",
       "\t广西 &  1.07457604 &  1.2563578 & -1.63199669 & -0.07653990 & -0.693330619 &  0.86788824 &  0.55704451 & -0.06662925\\\\\n",
       "\t海南 &  1.42511451 &  3.2327307 &  1.66191693 &  1.96723103 & -0.096122739 & -0.30013866 &  0.07821521 &  0.19333947\\\\\n",
       "\t天津 &  0.44287310 & -0.4821918 &  0.68627477 &  1.26444816 &  0.725655997 &  0.11261393 &  0.84478504 &  0.12783423\\\\\n",
       "\t江苏 &  0.15591226 & -0.1151304 & -0.52099459 & -0.73836503 & -0.693942745 &  0.31633353 &  0.41504815 &  0.29813456\\\\\n",
       "\t浙江 &  1.54097092 & -1.3970121 &  0.15434604 & -1.09621902 & -0.781850716 &  0.04654020 & -0.22375699 &  0.25892031\\\\\n",
       "\t北京 &  1.82277984 & -2.9374614 & -1.25748825 &  0.55406973 &  0.661967309 & -0.22210262 &  0.33005139 & -0.14855873\\\\\n",
       "\t西藏 & -0.13551813 & -4.9923526 &  2.37698478 & -0.46230359 & -1.441186117 &  0.12998035 &  0.22358976 & -0.14715544\\\\\n",
       "\t上海 &  3.30394931 & -2.6047252 & -1.70041148 &  2.01766545 & -0.031636936 & -0.79913006 & -0.29367453 & -0.08851021\\\\\n",
       "\t广东 &  7.01379233 &  2.3172751 &  0.82746069 & -1.59855678 &  0.208077446 &  0.01851593 & -0.24616755 & -0.15536476\\\\\n",
       "\\end{tabular}\n"
      ],
      "text/markdown": [
       "\n",
       "A matrix: 30 × 8 of type dbl\n",
       "\n",
       "| <!--/--> | Comp.1 | Comp.2 | Comp.3 | Comp.4 | Comp.5 | Comp.6 | Comp.7 | Comp.8 |\n",
       "|---|---|---|---|---|---|---|---|---|\n",
       "| 山西 | -1.71328041 | -0.1702972 | -0.16533704 |  0.23590437 |  0.569936490 |  0.29875410 | -0.48611208 | -0.09116991 |\n",
       "| 内蒙古 | -1.27970296 |  0.1344973 |  0.30689790 | -0.23043192 |  1.012468747 |  0.07198599 | -0.03717535 | -0.12143528 |\n",
       "| 吉林 | -1.31581695 |  0.8750360 | -0.11140786 | -0.68616712 |  0.247083948 | -1.08443042 |  0.57207381 |  0.05978027 |\n",
       "| 黑龙江 | -1.34833462 |  0.1041418 | -0.23606441 | -1.22149653 |  0.603997992 | -0.91121622 |  0.32415606 |  0.48423086 |\n",
       "| 河南 | -1.51135274 |  0.3575657 |  0.74485489 |  0.15916151 |  0.318199302 |  0.22362082 | -0.08877150 |  0.06122241 |\n",
       "| 甘肃 | -1.20243857 |  0.1962559 |  0.77061864 |  0.03290876 |  0.031513421 | -0.17668219 | -0.32211193 | -0.21328633 |\n",
       "| 青海 | -1.13238706 |  0.0184613 |  1.56666527 |  0.16585236 |  0.010877250 | -0.35640196 | -0.28908048 | -0.16241711 |\n",
       "| 河北 | -0.39890334 |  0.3006773 |  0.44000732 | -0.76975727 |  0.557414414 | -0.25219732 | -0.24503792 | -0.29330670 |\n",
       "| 陕西 | -0.62321145 |  0.2873967 | -0.03974784 |  0.30778811 |  0.905168787 |  0.13749943 |  0.12213088 | -0.46191904 |\n",
       "| 宁夏 | -0.43775323 | -0.6567395 | -0.14502865 | -0.45256266 |  1.065800286 |  0.48700867 | -0.17027760 | -0.07691451 |\n",
       "| 新疆 | -0.83249622 |  0.4284772 | -1.31216366 | -0.52353448 |  0.233313443 | -0.33824264 | -0.17043019 | -0.25789460 |\n",
       "| 湖北 | -0.17335839 |  0.5996948 |  0.13105793 | -0.70785427 |  0.102796108 |  0.12846023 | -0.30601657 |  0.18738388 |\n",
       "| 云南 | -0.67809647 |  0.3005293 |  0.22841114 |  1.16558732 |  0.547410479 |  0.63752652 | -0.04440406 |  0.35660242 |\n",
       "| 湖南 | -0.52687091 |  0.5617115 | -1.17427177 | -0.22730234 | -0.637516046 |  0.19411512 | -0.06581257 | -0.09598281 |\n",
       "| 安徽 | -1.13401837 |  0.4479633 |  0.22310249 |  0.63162229 | -1.135121996 |  0.47275352 | -0.19762601 | -0.13391580 |\n",
       "| 贵州 | -1.28087147 |  0.4355961 | -0.31186180 |  0.42406853 | -0.717322171 | -0.42721526 | -0.60824015 |  0.19301087 |\n",
       "| 辽宁 |  0.04597426 | -0.9973278 | -0.18880188 | -0.39435146 |  0.001524098 | -0.53145394 | -0.04009504 |  0.24617664 |\n",
       "| 四川 | -0.13719329 | -0.3495031 | -1.18966949 |  0.16211927 | -0.161510999 |  0.57244188 | -0.67692322 |  0.37080157 |\n",
       "| 山东 | -0.14352770 | -0.6936321 |  0.06841930 | -0.54597236 |  0.794096721 |  0.96009874 |  0.42746893 |  0.01292320 |\n",
       "| 江西 | -1.99443644 |  2.1443095 | -1.04918408 | -0.09124788 | -1.589855377 | -0.30165950 |  0.42014491 | -0.34738661 |\n",
       "| 福建 |  1.17362616 |  1.3976957 |  0.84741141 |  0.73423571 | -0.617905779 |  0.02473358 |  0.19700508 |  0.01148641 |\n",
       "| 广西 |  1.07457604 |  1.2563578 | -1.63199669 | -0.07653990 | -0.693330619 |  0.86788824 |  0.55704451 | -0.06662925 |\n",
       "| 海南 |  1.42511451 |  3.2327307 |  1.66191693 |  1.96723103 | -0.096122739 | -0.30013866 |  0.07821521 |  0.19333947 |\n",
       "| 天津 |  0.44287310 | -0.4821918 |  0.68627477 |  1.26444816 |  0.725655997 |  0.11261393 |  0.84478504 |  0.12783423 |\n",
       "| 江苏 |  0.15591226 | -0.1151304 | -0.52099459 | -0.73836503 | -0.693942745 |  0.31633353 |  0.41504815 |  0.29813456 |\n",
       "| 浙江 |  1.54097092 | -1.3970121 |  0.15434604 | -1.09621902 | -0.781850716 |  0.04654020 | -0.22375699 |  0.25892031 |\n",
       "| 北京 |  1.82277984 | -2.9374614 | -1.25748825 |  0.55406973 |  0.661967309 | -0.22210262 |  0.33005139 | -0.14855873 |\n",
       "| 西藏 | -0.13551813 | -4.9923526 |  2.37698478 | -0.46230359 | -1.441186117 |  0.12998035 |  0.22358976 | -0.14715544 |\n",
       "| 上海 |  3.30394931 | -2.6047252 | -1.70041148 |  2.01766545 | -0.031636936 | -0.79913006 | -0.29367453 | -0.08851021 |\n",
       "| 广东 |  7.01379233 |  2.3172751 |  0.82746069 | -1.59855678 |  0.208077446 |  0.01851593 | -0.24616755 | -0.15536476 |\n",
       "\n"
      ],
      "text/plain": [
       "                   Comp.1      Comp.2     Comp.3      Comp.4      Comp.5      \n",
       "\\u5c71\\u897f       -1.71328041 -0.1702972 -0.16533704  0.23590437  0.569936490\n",
       "\\u5185\\u8499\\u53e4 -1.27970296  0.1344973  0.30689790 -0.23043192  1.012468747\n",
       "\\u5409\\u6797       -1.31581695  0.8750360 -0.11140786 -0.68616712  0.247083948\n",
       "\\u9ed1\\u9f99\\u6c5f -1.34833462  0.1041418 -0.23606441 -1.22149653  0.603997992\n",
       "\\u6cb3\\u5357       -1.51135274  0.3575657  0.74485489  0.15916151  0.318199302\n",
       "\\u7518\\u8083       -1.20243857  0.1962559  0.77061864  0.03290876  0.031513421\n",
       "\\u9752\\u6d77       -1.13238706  0.0184613  1.56666527  0.16585236  0.010877250\n",
       "\\u6cb3\\u5317       -0.39890334  0.3006773  0.44000732 -0.76975727  0.557414414\n",
       "\\u9655\\u897f       -0.62321145  0.2873967 -0.03974784  0.30778811  0.905168787\n",
       "\\u5b81\\u590f       -0.43775323 -0.6567395 -0.14502865 -0.45256266  1.065800286\n",
       "\\u65b0\\u7586       -0.83249622  0.4284772 -1.31216366 -0.52353448  0.233313443\n",
       "\\u6e56\\u5317       -0.17335839  0.5996948  0.13105793 -0.70785427  0.102796108\n",
       "\\u4e91\\u5357       -0.67809647  0.3005293  0.22841114  1.16558732  0.547410479\n",
       "\\u6e56\\u5357       -0.52687091  0.5617115 -1.17427177 -0.22730234 -0.637516046\n",
       "\\u5b89\\u5fbd       -1.13401837  0.4479633  0.22310249  0.63162229 -1.135121996\n",
       "\\u8d35\\u5dde       -1.28087147  0.4355961 -0.31186180  0.42406853 -0.717322171\n",
       "\\u8fbd\\u5b81        0.04597426 -0.9973278 -0.18880188 -0.39435146  0.001524098\n",
       "\\u56db\\u5ddd       -0.13719329 -0.3495031 -1.18966949  0.16211927 -0.161510999\n",
       "\\u5c71\\u4e1c       -0.14352770 -0.6936321  0.06841930 -0.54597236  0.794096721\n",
       "\\u6c5f\\u897f       -1.99443644  2.1443095 -1.04918408 -0.09124788 -1.589855377\n",
       "\\u798f\\u5efa        1.17362616  1.3976957  0.84741141  0.73423571 -0.617905779\n",
       "\\u5e7f\\u897f        1.07457604  1.2563578 -1.63199669 -0.07653990 -0.693330619\n",
       "\\u6d77\\u5357        1.42511451  3.2327307  1.66191693  1.96723103 -0.096122739\n",
       "\\u5929\\u6d25        0.44287310 -0.4821918  0.68627477  1.26444816  0.725655997\n",
       "\\u6c5f\\u82cf        0.15591226 -0.1151304 -0.52099459 -0.73836503 -0.693942745\n",
       "\\u6d59\\u6c5f        1.54097092 -1.3970121  0.15434604 -1.09621902 -0.781850716\n",
       "\\u5317\\u4eac        1.82277984 -2.9374614 -1.25748825  0.55406973  0.661967309\n",
       "\\u897f\\u85cf       -0.13551813 -4.9923526  2.37698478 -0.46230359 -1.441186117\n",
       "\\u4e0a\\u6d77        3.30394931 -2.6047252 -1.70041148  2.01766545 -0.031636936\n",
       "\\u5e7f\\u4e1c        7.01379233  2.3172751  0.82746069 -1.59855678  0.208077446\n",
       "                   Comp.6      Comp.7      Comp.8     \n",
       "\\u5c71\\u897f        0.29875410 -0.48611208 -0.09116991\n",
       "\\u5185\\u8499\\u53e4  0.07198599 -0.03717535 -0.12143528\n",
       "\\u5409\\u6797       -1.08443042  0.57207381  0.05978027\n",
       "\\u9ed1\\u9f99\\u6c5f -0.91121622  0.32415606  0.48423086\n",
       "\\u6cb3\\u5357        0.22362082 -0.08877150  0.06122241\n",
       "\\u7518\\u8083       -0.17668219 -0.32211193 -0.21328633\n",
       "\\u9752\\u6d77       -0.35640196 -0.28908048 -0.16241711\n",
       "\\u6cb3\\u5317       -0.25219732 -0.24503792 -0.29330670\n",
       "\\u9655\\u897f        0.13749943  0.12213088 -0.46191904\n",
       "\\u5b81\\u590f        0.48700867 -0.17027760 -0.07691451\n",
       "\\u65b0\\u7586       -0.33824264 -0.17043019 -0.25789460\n",
       "\\u6e56\\u5317        0.12846023 -0.30601657  0.18738388\n",
       "\\u4e91\\u5357        0.63752652 -0.04440406  0.35660242\n",
       "\\u6e56\\u5357        0.19411512 -0.06581257 -0.09598281\n",
       "\\u5b89\\u5fbd        0.47275352 -0.19762601 -0.13391580\n",
       "\\u8d35\\u5dde       -0.42721526 -0.60824015  0.19301087\n",
       "\\u8fbd\\u5b81       -0.53145394 -0.04009504  0.24617664\n",
       "\\u56db\\u5ddd        0.57244188 -0.67692322  0.37080157\n",
       "\\u5c71\\u4e1c        0.96009874  0.42746893  0.01292320\n",
       "\\u6c5f\\u897f       -0.30165950  0.42014491 -0.34738661\n",
       "\\u798f\\u5efa        0.02473358  0.19700508  0.01148641\n",
       "\\u5e7f\\u897f        0.86788824  0.55704451 -0.06662925\n",
       "\\u6d77\\u5357       -0.30013866  0.07821521  0.19333947\n",
       "\\u5929\\u6d25        0.11261393  0.84478504  0.12783423\n",
       "\\u6c5f\\u82cf        0.31633353  0.41504815  0.29813456\n",
       "\\u6d59\\u6c5f        0.04654020 -0.22375699  0.25892031\n",
       "\\u5317\\u4eac       -0.22210262  0.33005139 -0.14855873\n",
       "\\u897f\\u85cf        0.12998035  0.22358976 -0.14715544\n",
       "\\u4e0a\\u6d77       -0.79913006 -0.29367453 -0.08851021\n",
       "\\u5e7f\\u4e1c        0.01851593 -0.24616755 -0.15536476"
      ]
     },
     "metadata": {},
     "output_type": "display_data"
    }
   ],
   "source": [
    "pca$scores"
   ]
  },
  {
   "cell_type": "markdown",
   "id": "atomic-immune",
   "metadata": {},
   "source": [
    "从中我们获取的一主成分的得分，并进行排序："
   ]
  },
  {
   "cell_type": "code",
   "execution_count": 9,
   "id": "sufficient-shirt",
   "metadata": {},
   "outputs": [],
   "source": [
    "Comp.1.scores <- pca$scores[,1]\n",
    "Comp.1.scores.sorted <- Comp.1.scores[order(Comp.1.scores, decreasing = TRUE)]"
   ]
  },
  {
   "cell_type": "markdown",
   "id": "economic-cornwall",
   "metadata": {},
   "source": [
    "为了好看，稍微处理一下结果再输出："
   ]
  },
  {
   "cell_type": "code",
   "execution_count": 10,
   "id": "acceptable-corps",
   "metadata": {},
   "outputs": [
    {
     "data": {
      "text/html": [
       "<table class=\"dataframe\">\n",
       "<caption>A data.frame: 30 × 2</caption>\n",
       "<thead>\n",
       "\t<tr><th></th><th scope=col>idx</th><th scope=col>Comp.1.scores.sorted</th></tr>\n",
       "\t<tr><th></th><th scope=col>&lt;int&gt;</th><th scope=col>&lt;dbl&gt;</th></tr>\n",
       "</thead>\n",
       "<tbody>\n",
       "\t<tr><th scope=row>广东</th><td> 1</td><td> 7.01379233</td></tr>\n",
       "\t<tr><th scope=row>上海</th><td> 2</td><td> 3.30394931</td></tr>\n",
       "\t<tr><th scope=row>北京</th><td> 3</td><td> 1.82277984</td></tr>\n",
       "\t<tr><th scope=row>浙江</th><td> 4</td><td> 1.54097092</td></tr>\n",
       "\t<tr><th scope=row>海南</th><td> 5</td><td> 1.42511451</td></tr>\n",
       "\t<tr><th scope=row>福建</th><td> 6</td><td> 1.17362616</td></tr>\n",
       "\t<tr><th scope=row>广西</th><td> 7</td><td> 1.07457604</td></tr>\n",
       "\t<tr><th scope=row>天津</th><td> 8</td><td> 0.44287310</td></tr>\n",
       "\t<tr><th scope=row>江苏</th><td> 9</td><td> 0.15591226</td></tr>\n",
       "\t<tr><th scope=row>辽宁</th><td>10</td><td> 0.04597426</td></tr>\n",
       "\t<tr><th scope=row>西藏</th><td>11</td><td>-0.13551813</td></tr>\n",
       "\t<tr><th scope=row>四川</th><td>12</td><td>-0.13719329</td></tr>\n",
       "\t<tr><th scope=row>山东</th><td>13</td><td>-0.14352770</td></tr>\n",
       "\t<tr><th scope=row>湖北</th><td>14</td><td>-0.17335839</td></tr>\n",
       "\t<tr><th scope=row>河北</th><td>15</td><td>-0.39890334</td></tr>\n",
       "\t<tr><th scope=row>宁夏</th><td>16</td><td>-0.43775323</td></tr>\n",
       "\t<tr><th scope=row>湖南</th><td>17</td><td>-0.52687091</td></tr>\n",
       "\t<tr><th scope=row>陕西</th><td>18</td><td>-0.62321145</td></tr>\n",
       "\t<tr><th scope=row>云南</th><td>19</td><td>-0.67809647</td></tr>\n",
       "\t<tr><th scope=row>新疆</th><td>20</td><td>-0.83249622</td></tr>\n",
       "\t<tr><th scope=row>青海</th><td>21</td><td>-1.13238706</td></tr>\n",
       "\t<tr><th scope=row>安徽</th><td>22</td><td>-1.13401837</td></tr>\n",
       "\t<tr><th scope=row>甘肃</th><td>23</td><td>-1.20243857</td></tr>\n",
       "\t<tr><th scope=row>内蒙古</th><td>24</td><td>-1.27970296</td></tr>\n",
       "\t<tr><th scope=row>贵州</th><td>25</td><td>-1.28087147</td></tr>\n",
       "\t<tr><th scope=row>吉林</th><td>26</td><td>-1.31581695</td></tr>\n",
       "\t<tr><th scope=row>黑龙江</th><td>27</td><td>-1.34833462</td></tr>\n",
       "\t<tr><th scope=row>河南</th><td>28</td><td>-1.51135274</td></tr>\n",
       "\t<tr><th scope=row>山西</th><td>29</td><td>-1.71328041</td></tr>\n",
       "\t<tr><th scope=row>江西</th><td>30</td><td>-1.99443644</td></tr>\n",
       "</tbody>\n",
       "</table>\n"
      ],
      "text/latex": [
       "A data.frame: 30 × 2\n",
       "\\begin{tabular}{r|ll}\n",
       "  & idx & Comp.1.scores.sorted\\\\\n",
       "  & <int> & <dbl>\\\\\n",
       "\\hline\n",
       "\t广东 &  1 &  7.01379233\\\\\n",
       "\t上海 &  2 &  3.30394931\\\\\n",
       "\t北京 &  3 &  1.82277984\\\\\n",
       "\t浙江 &  4 &  1.54097092\\\\\n",
       "\t海南 &  5 &  1.42511451\\\\\n",
       "\t福建 &  6 &  1.17362616\\\\\n",
       "\t广西 &  7 &  1.07457604\\\\\n",
       "\t天津 &  8 &  0.44287310\\\\\n",
       "\t江苏 &  9 &  0.15591226\\\\\n",
       "\t辽宁 & 10 &  0.04597426\\\\\n",
       "\t西藏 & 11 & -0.13551813\\\\\n",
       "\t四川 & 12 & -0.13719329\\\\\n",
       "\t山东 & 13 & -0.14352770\\\\\n",
       "\t湖北 & 14 & -0.17335839\\\\\n",
       "\t河北 & 15 & -0.39890334\\\\\n",
       "\t宁夏 & 16 & -0.43775323\\\\\n",
       "\t湖南 & 17 & -0.52687091\\\\\n",
       "\t陕西 & 18 & -0.62321145\\\\\n",
       "\t云南 & 19 & -0.67809647\\\\\n",
       "\t新疆 & 20 & -0.83249622\\\\\n",
       "\t青海 & 21 & -1.13238706\\\\\n",
       "\t安徽 & 22 & -1.13401837\\\\\n",
       "\t甘肃 & 23 & -1.20243857\\\\\n",
       "\t内蒙古 & 24 & -1.27970296\\\\\n",
       "\t贵州 & 25 & -1.28087147\\\\\n",
       "\t吉林 & 26 & -1.31581695\\\\\n",
       "\t黑龙江 & 27 & -1.34833462\\\\\n",
       "\t河南 & 28 & -1.51135274\\\\\n",
       "\t山西 & 29 & -1.71328041\\\\\n",
       "\t江西 & 30 & -1.99443644\\\\\n",
       "\\end{tabular}\n"
      ],
      "text/markdown": [
       "\n",
       "A data.frame: 30 × 2\n",
       "\n",
       "| <!--/--> | idx &lt;int&gt; | Comp.1.scores.sorted &lt;dbl&gt; |\n",
       "|---|---|---|\n",
       "| 广东 |  1 |  7.01379233 |\n",
       "| 上海 |  2 |  3.30394931 |\n",
       "| 北京 |  3 |  1.82277984 |\n",
       "| 浙江 |  4 |  1.54097092 |\n",
       "| 海南 |  5 |  1.42511451 |\n",
       "| 福建 |  6 |  1.17362616 |\n",
       "| 广西 |  7 |  1.07457604 |\n",
       "| 天津 |  8 |  0.44287310 |\n",
       "| 江苏 |  9 |  0.15591226 |\n",
       "| 辽宁 | 10 |  0.04597426 |\n",
       "| 西藏 | 11 | -0.13551813 |\n",
       "| 四川 | 12 | -0.13719329 |\n",
       "| 山东 | 13 | -0.14352770 |\n",
       "| 湖北 | 14 | -0.17335839 |\n",
       "| 河北 | 15 | -0.39890334 |\n",
       "| 宁夏 | 16 | -0.43775323 |\n",
       "| 湖南 | 17 | -0.52687091 |\n",
       "| 陕西 | 18 | -0.62321145 |\n",
       "| 云南 | 19 | -0.67809647 |\n",
       "| 新疆 | 20 | -0.83249622 |\n",
       "| 青海 | 21 | -1.13238706 |\n",
       "| 安徽 | 22 | -1.13401837 |\n",
       "| 甘肃 | 23 | -1.20243857 |\n",
       "| 内蒙古 | 24 | -1.27970296 |\n",
       "| 贵州 | 25 | -1.28087147 |\n",
       "| 吉林 | 26 | -1.31581695 |\n",
       "| 黑龙江 | 27 | -1.34833462 |\n",
       "| 河南 | 28 | -1.51135274 |\n",
       "| 山西 | 29 | -1.71328041 |\n",
       "| 江西 | 30 | -1.99443644 |\n",
       "\n"
      ],
      "text/plain": [
       "                   idx Comp.1.scores.sorted\n",
       "\\u5e7f\\u4e1c        1   7.01379233         \n",
       "\\u4e0a\\u6d77        2   3.30394931         \n",
       "\\u5317\\u4eac        3   1.82277984         \n",
       "\\u6d59\\u6c5f        4   1.54097092         \n",
       "\\u6d77\\u5357        5   1.42511451         \n",
       "\\u798f\\u5efa        6   1.17362616         \n",
       "\\u5e7f\\u897f        7   1.07457604         \n",
       "\\u5929\\u6d25        8   0.44287310         \n",
       "\\u6c5f\\u82cf        9   0.15591226         \n",
       "\\u8fbd\\u5b81       10   0.04597426         \n",
       "\\u897f\\u85cf       11  -0.13551813         \n",
       "\\u56db\\u5ddd       12  -0.13719329         \n",
       "\\u5c71\\u4e1c       13  -0.14352770         \n",
       "\\u6e56\\u5317       14  -0.17335839         \n",
       "\\u6cb3\\u5317       15  -0.39890334         \n",
       "\\u5b81\\u590f       16  -0.43775323         \n",
       "\\u6e56\\u5357       17  -0.52687091         \n",
       "\\u9655\\u897f       18  -0.62321145         \n",
       "\\u4e91\\u5357       19  -0.67809647         \n",
       "\\u65b0\\u7586       20  -0.83249622         \n",
       "\\u9752\\u6d77       21  -1.13238706         \n",
       "\\u5b89\\u5fbd       22  -1.13401837         \n",
       "\\u7518\\u8083       23  -1.20243857         \n",
       "\\u5185\\u8499\\u53e4 24  -1.27970296         \n",
       "\\u8d35\\u5dde       25  -1.28087147         \n",
       "\\u5409\\u6797       26  -1.31581695         \n",
       "\\u9ed1\\u9f99\\u6c5f 27  -1.34833462         \n",
       "\\u6cb3\\u5357       28  -1.51135274         \n",
       "\\u5c71\\u897f       29  -1.71328041         \n",
       "\\u6c5f\\u897f       30  -1.99443644         "
      ]
     },
     "metadata": {},
     "output_type": "display_data"
    }
   ],
   "source": [
    "idx <- 1:length(Comp.1.scores.sorted)\n",
    "cbind(idx, data.frame(Comp.1.scores.sorted))"
   ]
  }
 ],
 "metadata": {
  "kernelspec": {
   "display_name": "R",
   "language": "R",
   "name": "ir"
  },
  "language_info": {
   "codemirror_mode": "r",
   "file_extension": ".r",
   "mimetype": "text/x-r-source",
   "name": "R",
   "pygments_lexer": "r",
   "version": "4.0.4"
  }
 },
 "nbformat": 4,
 "nbformat_minor": 5
}
