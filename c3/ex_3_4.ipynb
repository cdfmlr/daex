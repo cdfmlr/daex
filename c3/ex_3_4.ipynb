{
 "cells": [
  {
   "cell_type": "markdown",
   "id": "isolated-intervention",
   "metadata": {},
   "source": [
    "## 习题 3.4"
   ]
  },
  {
   "cell_type": "code",
   "execution_count": 1,
   "id": "deadly-young",
   "metadata": {},
   "outputs": [
    {
     "data": {
      "text/html": [
       "<table class=\"dataframe\">\n",
       "<caption>A data.frame: 4 × 7</caption>\n",
       "<thead>\n",
       "\t<tr><th scope=col>催化剂</th><th scope=col>X.产品得率1</th><th scope=col>X.产品得率2</th><th scope=col>X.产品得率3</th><th scope=col>X.产品得率4</th><th scope=col>X.产品得率5</th><th scope=col>X.产品得率6</th></tr>\n",
       "\t<tr><th scope=col>&lt;chr&gt;</th><th scope=col>&lt;dbl&gt;</th><th scope=col>&lt;dbl&gt;</th><th scope=col>&lt;dbl&gt;</th><th scope=col>&lt;dbl&gt;</th><th scope=col>&lt;dbl&gt;</th><th scope=col>&lt;dbl&gt;</th></tr>\n",
       "</thead>\n",
       "<tbody>\n",
       "\t<tr><td>A1</td><td>0.88</td><td>0.85</td><td>0.79</td><td>0.86</td><td>0.85</td><td>0.83</td></tr>\n",
       "\t<tr><td>A2</td><td>0.87</td><td>0.92</td><td>0.85</td><td>0.83</td><td>0.90</td><td>0.80</td></tr>\n",
       "\t<tr><td>A3</td><td>0.84</td><td>0.78</td><td>0.81</td><td>0.80</td><td>0.85</td><td>0.83</td></tr>\n",
       "\t<tr><td>A4</td><td>0.81</td><td>0.86</td><td>0.90</td><td>0.87</td><td>0.78</td><td>0.79</td></tr>\n",
       "</tbody>\n",
       "</table>\n"
      ],
      "text/latex": [
       "A data.frame: 4 × 7\n",
       "\\begin{tabular}{lllllll}\n",
       " 催化剂 & X.产品得率1 & X.产品得率2 & X.产品得率3 & X.产品得率4 & X.产品得率5 & X.产品得率6\\\\\n",
       " <chr> & <dbl> & <dbl> & <dbl> & <dbl> & <dbl> & <dbl>\\\\\n",
       "\\hline\n",
       "\t A1 & 0.88 & 0.85 & 0.79 & 0.86 & 0.85 & 0.83\\\\\n",
       "\t A2 & 0.87 & 0.92 & 0.85 & 0.83 & 0.90 & 0.80\\\\\n",
       "\t A3 & 0.84 & 0.78 & 0.81 & 0.80 & 0.85 & 0.83\\\\\n",
       "\t A4 & 0.81 & 0.86 & 0.90 & 0.87 & 0.78 & 0.79\\\\\n",
       "\\end{tabular}\n"
      ],
      "text/markdown": [
       "\n",
       "A data.frame: 4 × 7\n",
       "\n",
       "| 催化剂 &lt;chr&gt; | X.产品得率1 &lt;dbl&gt; | X.产品得率2 &lt;dbl&gt; | X.产品得率3 &lt;dbl&gt; | X.产品得率4 &lt;dbl&gt; | X.产品得率5 &lt;dbl&gt; | X.产品得率6 &lt;dbl&gt; |\n",
       "|---|---|---|---|---|---|---|\n",
       "| A1 | 0.88 | 0.85 | 0.79 | 0.86 | 0.85 | 0.83 |\n",
       "| A2 | 0.87 | 0.92 | 0.85 | 0.83 | 0.90 | 0.80 |\n",
       "| A3 | 0.84 | 0.78 | 0.81 | 0.80 | 0.85 | 0.83 |\n",
       "| A4 | 0.81 | 0.86 | 0.90 | 0.87 | 0.78 | 0.79 |\n",
       "\n"
      ],
      "text/plain": [
       "  \\u50ac\\u5316\\u5242 X.\\u4ea7\\u54c1\\u5f97\\u73871 X.\\u4ea7\\u54c1\\u5f97\\u73872\n",
       "1 A1                 0.88                        0.85                       \n",
       "2 A2                 0.87                        0.92                       \n",
       "3 A3                 0.84                        0.78                       \n",
       "4 A4                 0.81                        0.86                       \n",
       "  X.\\u4ea7\\u54c1\\u5f97\\u73873 X.\\u4ea7\\u54c1\\u5f97\\u73874\n",
       "1 0.79                        0.86                       \n",
       "2 0.85                        0.83                       \n",
       "3 0.81                        0.80                       \n",
       "4 0.90                        0.87                       \n",
       "  X.\\u4ea7\\u54c1\\u5f97\\u73875 X.\\u4ea7\\u54c1\\u5f97\\u73876\n",
       "1 0.85                        0.83                       \n",
       "2 0.90                        0.80                       \n",
       "3 0.85                        0.83                       \n",
       "4 0.78                        0.79                       "
      ]
     },
     "metadata": {},
     "output_type": "display_data"
    }
   ],
   "source": [
    "raw_data <- read.csv(\"./ex_3_4.csv\")\n",
    "raw_data"
   ]
  },
  {
   "cell_type": "markdown",
   "id": "stock-recommendation",
   "metadata": {},
   "source": [
    "为方便后续分析，先将数据处理成 $<A, x>$ 的序对形式："
   ]
  },
  {
   "cell_type": "code",
   "execution_count": 2,
   "id": "dedicated-valuation",
   "metadata": {},
   "outputs": [
    {
     "data": {
      "text/html": [
       "<table class=\"dataframe\">\n",
       "<caption>A data.frame: 24 × 2</caption>\n",
       "<thead>\n",
       "\t<tr><th scope=col>A</th><th scope=col>x</th></tr>\n",
       "\t<tr><th scope=col>&lt;chr&gt;</th><th scope=col>&lt;dbl&gt;</th></tr>\n",
       "</thead>\n",
       "<tbody>\n",
       "\t<tr><td>A1</td><td>0.88</td></tr>\n",
       "\t<tr><td>A1</td><td>0.85</td></tr>\n",
       "\t<tr><td>A1</td><td>0.79</td></tr>\n",
       "\t<tr><td>A1</td><td>0.86</td></tr>\n",
       "\t<tr><td>A1</td><td>0.85</td></tr>\n",
       "\t<tr><td>A1</td><td>0.83</td></tr>\n",
       "\t<tr><td>A2</td><td>0.87</td></tr>\n",
       "\t<tr><td>A2</td><td>0.92</td></tr>\n",
       "\t<tr><td>A2</td><td>0.85</td></tr>\n",
       "\t<tr><td>A2</td><td>0.83</td></tr>\n",
       "\t<tr><td>A2</td><td>0.90</td></tr>\n",
       "\t<tr><td>A2</td><td>0.80</td></tr>\n",
       "\t<tr><td>A3</td><td>0.84</td></tr>\n",
       "\t<tr><td>A3</td><td>0.78</td></tr>\n",
       "\t<tr><td>A3</td><td>0.81</td></tr>\n",
       "\t<tr><td>A3</td><td>0.80</td></tr>\n",
       "\t<tr><td>A3</td><td>0.85</td></tr>\n",
       "\t<tr><td>A3</td><td>0.83</td></tr>\n",
       "\t<tr><td>A4</td><td>0.81</td></tr>\n",
       "\t<tr><td>A4</td><td>0.86</td></tr>\n",
       "\t<tr><td>A4</td><td>0.90</td></tr>\n",
       "\t<tr><td>A4</td><td>0.87</td></tr>\n",
       "\t<tr><td>A4</td><td>0.78</td></tr>\n",
       "\t<tr><td>A4</td><td>0.79</td></tr>\n",
       "</tbody>\n",
       "</table>\n"
      ],
      "text/latex": [
       "A data.frame: 24 × 2\n",
       "\\begin{tabular}{ll}\n",
       " A & x\\\\\n",
       " <chr> & <dbl>\\\\\n",
       "\\hline\n",
       "\t A1 & 0.88\\\\\n",
       "\t A1 & 0.85\\\\\n",
       "\t A1 & 0.79\\\\\n",
       "\t A1 & 0.86\\\\\n",
       "\t A1 & 0.85\\\\\n",
       "\t A1 & 0.83\\\\\n",
       "\t A2 & 0.87\\\\\n",
       "\t A2 & 0.92\\\\\n",
       "\t A2 & 0.85\\\\\n",
       "\t A2 & 0.83\\\\\n",
       "\t A2 & 0.90\\\\\n",
       "\t A2 & 0.80\\\\\n",
       "\t A3 & 0.84\\\\\n",
       "\t A3 & 0.78\\\\\n",
       "\t A3 & 0.81\\\\\n",
       "\t A3 & 0.80\\\\\n",
       "\t A3 & 0.85\\\\\n",
       "\t A3 & 0.83\\\\\n",
       "\t A4 & 0.81\\\\\n",
       "\t A4 & 0.86\\\\\n",
       "\t A4 & 0.90\\\\\n",
       "\t A4 & 0.87\\\\\n",
       "\t A4 & 0.78\\\\\n",
       "\t A4 & 0.79\\\\\n",
       "\\end{tabular}\n"
      ],
      "text/markdown": [
       "\n",
       "A data.frame: 24 × 2\n",
       "\n",
       "| A &lt;chr&gt; | x &lt;dbl&gt; |\n",
       "|---|---|\n",
       "| A1 | 0.88 |\n",
       "| A1 | 0.85 |\n",
       "| A1 | 0.79 |\n",
       "| A1 | 0.86 |\n",
       "| A1 | 0.85 |\n",
       "| A1 | 0.83 |\n",
       "| A2 | 0.87 |\n",
       "| A2 | 0.92 |\n",
       "| A2 | 0.85 |\n",
       "| A2 | 0.83 |\n",
       "| A2 | 0.90 |\n",
       "| A2 | 0.80 |\n",
       "| A3 | 0.84 |\n",
       "| A3 | 0.78 |\n",
       "| A3 | 0.81 |\n",
       "| A3 | 0.80 |\n",
       "| A3 | 0.85 |\n",
       "| A3 | 0.83 |\n",
       "| A4 | 0.81 |\n",
       "| A4 | 0.86 |\n",
       "| A4 | 0.90 |\n",
       "| A4 | 0.87 |\n",
       "| A4 | 0.78 |\n",
       "| A4 | 0.79 |\n",
       "\n"
      ],
      "text/plain": [
       "   A  x   \n",
       "1  A1 0.88\n",
       "2  A1 0.85\n",
       "3  A1 0.79\n",
       "4  A1 0.86\n",
       "5  A1 0.85\n",
       "6  A1 0.83\n",
       "7  A2 0.87\n",
       "8  A2 0.92\n",
       "9  A2 0.85\n",
       "10 A2 0.83\n",
       "11 A2 0.90\n",
       "12 A2 0.80\n",
       "13 A3 0.84\n",
       "14 A3 0.78\n",
       "15 A3 0.81\n",
       "16 A3 0.80\n",
       "17 A3 0.85\n",
       "18 A3 0.83\n",
       "19 A4 0.81\n",
       "20 A4 0.86\n",
       "21 A4 0.90\n",
       "22 A4 0.87\n",
       "23 A4 0.78\n",
       "24 A4 0.79"
      ]
     },
     "metadata": {},
     "output_type": "display_data"
    }
   ],
   "source": [
    "A = c()\n",
    "x = c()\n",
    "for (row in 1:nrow(raw_data)) {\n",
    "    for (col in 2:ncol(raw_data)) {\n",
    "        A = c(A, raw_data[row, 1])\n",
    "        x = c(x, raw_data[row, col])\n",
    "    }\n",
    "}\n",
    "data = data.frame(A, x)\n",
    "data"
   ]
  },
  {
   "cell_type": "markdown",
   "id": "fallen-simon",
   "metadata": {},
   "source": [
    "### 正态性检验\n",
    "\n",
    "首先，第一步，需要对数据进行正态性检验：\n",
    "\n",
    "用 `shapiro.test` 检验 4 组数据是否服从正态分布："
   ]
  },
  {
   "cell_type": "code",
   "execution_count": 3,
   "id": "previous-mistress",
   "metadata": {},
   "outputs": [
    {
     "data": {
      "text/plain": [
       "\n",
       "\tShapiro-Wilk normality test\n",
       "\n",
       "data:  x[1:6]\n",
       "W = 0.92835, p-value = 0.5674\n"
      ]
     },
     "metadata": {},
     "output_type": "display_data"
    },
    {
     "data": {
      "text/plain": [
       "\n",
       "\tShapiro-Wilk normality test\n",
       "\n",
       "data:  x[7:12]\n",
       "W = 0.9831, p-value = 0.9659\n"
      ]
     },
     "metadata": {},
     "output_type": "display_data"
    },
    {
     "data": {
      "text/plain": [
       "\n",
       "\tShapiro-Wilk normality test\n",
       "\n",
       "data:  x[13:18]\n",
       "W = 0.96579, p-value = 0.8631\n"
      ]
     },
     "metadata": {},
     "output_type": "display_data"
    },
    {
     "data": {
      "text/plain": [
       "\n",
       "\tShapiro-Wilk normality test\n",
       "\n",
       "data:  x[19:24]\n",
       "W = 0.92097, p-value = 0.5124\n"
      ]
     },
     "metadata": {},
     "output_type": "display_data"
    }
   ],
   "source": [
    "shapiro.test(x[1:6])\n",
    "shapiro.test(x[7:12])\n",
    "shapiro.test(x[13:18])\n",
    "shapiro.test(x[19:24 ])"
   ]
  },
  {
   "cell_type": "markdown",
   "id": "divine-house",
   "metadata": {},
   "source": [
    "A1、A2、A3、A4 四个组的 shapiro.test 检验 p 值依次为 0.5674、0.9659、0.8631、0.5124，均大于 0.05，\n",
    "认为原假设成立（$H_0$：假设数据服从正态分布），表明 4 组数据均来自正态分布总体。"
   ]
  },
  {
   "cell_type": "markdown",
   "id": "joined-bermuda",
   "metadata": {},
   "source": [
    "### 方差齐次检验\n",
    "\n",
    "接下来进行方差齐次检验：\n",
    "\n",
    "用 `bartlett.test` 检验 4 个分组数据方差是否一致："
   ]
  },
  {
   "cell_type": "code",
   "execution_count": 4,
   "id": "incomplete-paintball",
   "metadata": {},
   "outputs": [
    {
     "data": {
      "text/plain": [
       "\n",
       "\tBartlett test of homogeneity of variances\n",
       "\n",
       "data:  x by A\n",
       "Bartlett's K-squared = 2.2257, df = 3, p-value = 0.5269\n"
      ]
     },
     "metadata": {},
     "output_type": "display_data"
    }
   ],
   "source": [
    "bartlett.test(x ~ A, data = data)"
   ]
  },
  {
   "cell_type": "markdown",
   "id": "narrow-rugby",
   "metadata": {},
   "source": [
    "得到 p-value = 0.5269 > 0.05，认为原假设成立（$H_0$：假设 4 组数据方差相等），表明 4 组数据的方差齐次。"
   ]
  },
  {
   "cell_type": "markdown",
   "id": "latin-administration",
   "metadata": {},
   "source": [
    "通过了上面两个检验，下面就可以开始做单因素方差分析了。\n",
    "\n",
    "### 图形可视化\n",
    "\n",
    "开始之前，还可以考虑先用箱图观察一下几组数据的分布："
   ]
  },
  {
   "cell_type": "code",
   "execution_count": 5,
   "id": "identified-papua",
   "metadata": {},
   "outputs": [
    {
     "data": {
      "image/png": "[encoded data removed]",
      "text/plain": [
       "plot without title"
      ]
     },
     "metadata": {
      "image/png": {
       "height": 420,
       "width": 420
      }
     },
     "output_type": "display_data"
    }
   ],
   "source": [
    "boxplot(x ~ A, data = data)"
   ]
  },
  {
   "cell_type": "markdown",
   "id": "subject-zoning",
   "metadata": {},
   "source": [
    "### 单因素方差分析"
   ]
  },
  {
   "cell_type": "markdown",
   "id": "ceramic-significance",
   "metadata": {},
   "source": [
    "使用 aov 函数完成方差分析："
   ]
  },
  {
   "cell_type": "code",
   "execution_count": 6,
   "id": "surface-treatment",
   "metadata": {},
   "outputs": [
    {
     "data": {
      "text/plain": [
       "            Df   Sum Sq  Mean Sq F value Pr(>F)\n",
       "A            3 0.005846 0.001949   1.306    0.3\n",
       "Residuals   20 0.029850 0.001492               "
      ]
     },
     "metadata": {},
     "output_type": "display_data"
    }
   ],
   "source": [
    "dfc <- aov(x~A, data=data)\n",
    "summary(dfc)"
   ]
  },
  {
   "cell_type": "markdown",
   "id": "classical-mandate",
   "metadata": {},
   "source": [
    "从方差分析表中看到 p-value = 0.3 > 0.05，接收原假设 $H_0$，\n",
    "认为四种不同催化剂对产品的得到率无显著影响"
   ]
  },
  {
   "cell_type": "markdown",
   "id": "skilled-treat",
   "metadata": {},
   "source": [
    "ref: http://www.datasoldier.net/archives/1315"
   ]
  }
 ],
 "metadata": {
  "kernelspec": {
   "display_name": "R",
   "language": "R",
   "name": "ir"
  },
  "language_info": {
   "codemirror_mode": "r",
   "file_extension": ".r",
   "mimetype": "text/x-r-source",
   "name": "R",
   "pygments_lexer": "r",
   "version": "4.0.4"
  }
 },
 "nbformat": 4,
 "nbformat_minor": 5
}
