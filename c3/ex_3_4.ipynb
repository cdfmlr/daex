{
 "cells": [
  {
   "cell_type": "markdown",
   "id": "mature-longer",
   "metadata": {},
   "source": [
    "## 习题 3.4"
   ]
  },
  {
   "cell_type": "code",
   "execution_count": 1,
   "id": "rotary-canal",
   "metadata": {},
   "outputs": [
    {
     "data": {
      "text/html": [
       "<table class=\"dataframe\">\n",
       "<caption>A data.frame: 4 × 7</caption>\n",
       "<thead>\n",
       "\t<tr><th scope=col>催化剂</th><th scope=col>X.产品得率1</th><th scope=col>X.产品得率2</th><th scope=col>X.产品得率3</th><th scope=col>X.产品得率4</th><th scope=col>X.产品得率5</th><th scope=col>X.产品得率6</th></tr>\n",
       "\t<tr><th scope=col>&lt;chr&gt;</th><th scope=col>&lt;dbl&gt;</th><th scope=col>&lt;dbl&gt;</th><th scope=col>&lt;dbl&gt;</th><th scope=col>&lt;dbl&gt;</th><th scope=col>&lt;dbl&gt;</th><th scope=col>&lt;dbl&gt;</th></tr>\n",
       "</thead>\n",
       "<tbody>\n",
       "\t<tr><td>A1</td><td>0.88</td><td>0.85</td><td>0.79</td><td>0.86</td><td>0.85</td><td>0.83</td></tr>\n",
       "\t<tr><td>A2</td><td>0.87</td><td>0.92</td><td>0.85</td><td>0.83</td><td>0.90</td><td>0.80</td></tr>\n",
       "\t<tr><td>A3</td><td>0.84</td><td>0.78</td><td>0.81</td><td>0.80</td><td>0.85</td><td>0.83</td></tr>\n",
       "\t<tr><td>A4</td><td>0.81</td><td>0.86</td><td>0.90</td><td>0.87</td><td>0.78</td><td>0.79</td></tr>\n",
       "</tbody>\n",
       "</table>\n"
      ],
      "text/latex": [
       "A data.frame: 4 × 7\n",
       "\\begin{tabular}{lllllll}\n",
       " 催化剂 & X.产品得率1 & X.产品得率2 & X.产品得率3 & X.产品得率4 & X.产品得率5 & X.产品得率6\\\\\n",
       " <chr> & <dbl> & <dbl> & <dbl> & <dbl> & <dbl> & <dbl>\\\\\n",
       "\\hline\n",
       "\t A1 & 0.88 & 0.85 & 0.79 & 0.86 & 0.85 & 0.83\\\\\n",
       "\t A2 & 0.87 & 0.92 & 0.85 & 0.83 & 0.90 & 0.80\\\\\n",
       "\t A3 & 0.84 & 0.78 & 0.81 & 0.80 & 0.85 & 0.83\\\\\n",
       "\t A4 & 0.81 & 0.86 & 0.90 & 0.87 & 0.78 & 0.79\\\\\n",
       "\\end{tabular}\n"
      ],
      "text/markdown": [
       "\n",
       "A data.frame: 4 × 7\n",
       "\n",
       "| 催化剂 &lt;chr&gt; | X.产品得率1 &lt;dbl&gt; | X.产品得率2 &lt;dbl&gt; | X.产品得率3 &lt;dbl&gt; | X.产品得率4 &lt;dbl&gt; | X.产品得率5 &lt;dbl&gt; | X.产品得率6 &lt;dbl&gt; |\n",
       "|---|---|---|---|---|---|---|\n",
       "| A1 | 0.88 | 0.85 | 0.79 | 0.86 | 0.85 | 0.83 |\n",
       "| A2 | 0.87 | 0.92 | 0.85 | 0.83 | 0.90 | 0.80 |\n",
       "| A3 | 0.84 | 0.78 | 0.81 | 0.80 | 0.85 | 0.83 |\n",
       "| A4 | 0.81 | 0.86 | 0.90 | 0.87 | 0.78 | 0.79 |\n",
       "\n"
      ],
      "text/plain": [
       "  \\u50ac\\u5316\\u5242 X.\\u4ea7\\u54c1\\u5f97\\u73871 X.\\u4ea7\\u54c1\\u5f97\\u73872\n",
       "1 A1                 0.88                        0.85                       \n",
       "2 A2                 0.87                        0.92                       \n",
       "3 A3                 0.84                        0.78                       \n",
       "4 A4                 0.81                        0.86                       \n",
       "  X.\\u4ea7\\u54c1\\u5f97\\u73873 X.\\u4ea7\\u54c1\\u5f97\\u73874\n",
       "1 0.79                        0.86                       \n",
       "2 0.85                        0.83                       \n",
       "3 0.81                        0.80                       \n",
       "4 0.90                        0.87                       \n",
       "  X.\\u4ea7\\u54c1\\u5f97\\u73875 X.\\u4ea7\\u54c1\\u5f97\\u73876\n",
       "1 0.85                        0.83                       \n",
       "2 0.90                        0.80                       \n",
       "3 0.85                        0.83                       \n",
       "4 0.78                        0.79                       "
      ]
     },
     "metadata": {},
     "output_type": "display_data"
    }
   ],
   "source": [
    "raw_data <- read.csv(\"./ex_3_4.csv\")\n",
    "raw_data"
   ]
  },
  {
   "cell_type": "code",
   "execution_count": 2,
   "id": "artistic-bolivia",
   "metadata": {},
   "outputs": [
    {
     "data": {
      "text/html": [
       "<table class=\"dataframe\">\n",
       "<caption>A data.frame: 24 × 2</caption>\n",
       "<thead>\n",
       "\t<tr><th scope=col>A</th><th scope=col>x</th></tr>\n",
       "\t<tr><th scope=col>&lt;chr&gt;</th><th scope=col>&lt;dbl&gt;</th></tr>\n",
       "</thead>\n",
       "<tbody>\n",
       "\t<tr><td>A1</td><td>0.88</td></tr>\n",
       "\t<tr><td>A1</td><td>0.85</td></tr>\n",
       "\t<tr><td>A1</td><td>0.79</td></tr>\n",
       "\t<tr><td>A1</td><td>0.86</td></tr>\n",
       "\t<tr><td>A1</td><td>0.85</td></tr>\n",
       "\t<tr><td>A1</td><td>0.83</td></tr>\n",
       "\t<tr><td>A2</td><td>0.87</td></tr>\n",
       "\t<tr><td>A2</td><td>0.92</td></tr>\n",
       "\t<tr><td>A2</td><td>0.85</td></tr>\n",
       "\t<tr><td>A2</td><td>0.83</td></tr>\n",
       "\t<tr><td>A2</td><td>0.90</td></tr>\n",
       "\t<tr><td>A2</td><td>0.80</td></tr>\n",
       "\t<tr><td>A3</td><td>0.84</td></tr>\n",
       "\t<tr><td>A3</td><td>0.78</td></tr>\n",
       "\t<tr><td>A3</td><td>0.81</td></tr>\n",
       "\t<tr><td>A3</td><td>0.80</td></tr>\n",
       "\t<tr><td>A3</td><td>0.85</td></tr>\n",
       "\t<tr><td>A3</td><td>0.83</td></tr>\n",
       "\t<tr><td>A4</td><td>0.81</td></tr>\n",
       "\t<tr><td>A4</td><td>0.86</td></tr>\n",
       "\t<tr><td>A4</td><td>0.90</td></tr>\n",
       "\t<tr><td>A4</td><td>0.87</td></tr>\n",
       "\t<tr><td>A4</td><td>0.78</td></tr>\n",
       "\t<tr><td>A4</td><td>0.79</td></tr>\n",
       "</tbody>\n",
       "</table>\n"
      ],
      "text/latex": [
       "A data.frame: 24 × 2\n",
       "\\begin{tabular}{ll}\n",
       " A & x\\\\\n",
       " <chr> & <dbl>\\\\\n",
       "\\hline\n",
       "\t A1 & 0.88\\\\\n",
       "\t A1 & 0.85\\\\\n",
       "\t A1 & 0.79\\\\\n",
       "\t A1 & 0.86\\\\\n",
       "\t A1 & 0.85\\\\\n",
       "\t A1 & 0.83\\\\\n",
       "\t A2 & 0.87\\\\\n",
       "\t A2 & 0.92\\\\\n",
       "\t A2 & 0.85\\\\\n",
       "\t A2 & 0.83\\\\\n",
       "\t A2 & 0.90\\\\\n",
       "\t A2 & 0.80\\\\\n",
       "\t A3 & 0.84\\\\\n",
       "\t A3 & 0.78\\\\\n",
       "\t A3 & 0.81\\\\\n",
       "\t A3 & 0.80\\\\\n",
       "\t A3 & 0.85\\\\\n",
       "\t A3 & 0.83\\\\\n",
       "\t A4 & 0.81\\\\\n",
       "\t A4 & 0.86\\\\\n",
       "\t A4 & 0.90\\\\\n",
       "\t A4 & 0.87\\\\\n",
       "\t A4 & 0.78\\\\\n",
       "\t A4 & 0.79\\\\\n",
       "\\end{tabular}\n"
      ],
      "text/markdown": [
       "\n",
       "A data.frame: 24 × 2\n",
       "\n",
       "| A &lt;chr&gt; | x &lt;dbl&gt; |\n",
       "|---|---|\n",
       "| A1 | 0.88 |\n",
       "| A1 | 0.85 |\n",
       "| A1 | 0.79 |\n",
       "| A1 | 0.86 |\n",
       "| A1 | 0.85 |\n",
       "| A1 | 0.83 |\n",
       "| A2 | 0.87 |\n",
       "| A2 | 0.92 |\n",
       "| A2 | 0.85 |\n",
       "| A2 | 0.83 |\n",
       "| A2 | 0.90 |\n",
       "| A2 | 0.80 |\n",
       "| A3 | 0.84 |\n",
       "| A3 | 0.78 |\n",
       "| A3 | 0.81 |\n",
       "| A3 | 0.80 |\n",
       "| A3 | 0.85 |\n",
       "| A3 | 0.83 |\n",
       "| A4 | 0.81 |\n",
       "| A4 | 0.86 |\n",
       "| A4 | 0.90 |\n",
       "| A4 | 0.87 |\n",
       "| A4 | 0.78 |\n",
       "| A4 | 0.79 |\n",
       "\n"
      ],
      "text/plain": [
       "   A  x   \n",
       "1  A1 0.88\n",
       "2  A1 0.85\n",
       "3  A1 0.79\n",
       "4  A1 0.86\n",
       "5  A1 0.85\n",
       "6  A1 0.83\n",
       "7  A2 0.87\n",
       "8  A2 0.92\n",
       "9  A2 0.85\n",
       "10 A2 0.83\n",
       "11 A2 0.90\n",
       "12 A2 0.80\n",
       "13 A3 0.84\n",
       "14 A3 0.78\n",
       "15 A3 0.81\n",
       "16 A3 0.80\n",
       "17 A3 0.85\n",
       "18 A3 0.83\n",
       "19 A4 0.81\n",
       "20 A4 0.86\n",
       "21 A4 0.90\n",
       "22 A4 0.87\n",
       "23 A4 0.78\n",
       "24 A4 0.79"
      ]
     },
     "metadata": {},
     "output_type": "display_data"
    }
   ],
   "source": [
    "A = c()\n",
    "x = c()\n",
    "for (row in 1:nrow(raw_data)) {\n",
    "    for (col in 2:ncol(raw_data)) {\n",
    "        A = c(A, raw_data[row, 1])\n",
    "        x = c(x, raw_data[row, col])\n",
    "    }\n",
    "}\n",
    "data = data.frame(A, x)\n",
    "data"
   ]
  },
  {
   "cell_type": "code",
   "execution_count": null,
   "id": "corporate-croatia",
   "metadata": {},
   "outputs": [],
   "source": []
  }
 ],
 "metadata": {
  "kernelspec": {
   "display_name": "R",
   "language": "R",
   "name": "ir"
  },
  "language_info": {
   "codemirror_mode": "r",
   "file_extension": ".r",
   "mimetype": "text/x-r-source",
   "name": "R",
   "pygments_lexer": "r",
   "version": "4.0.4"
  }
 },
 "nbformat": 4,
 "nbformat_minor": 5
}
