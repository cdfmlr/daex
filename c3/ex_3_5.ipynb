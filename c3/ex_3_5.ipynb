{
 "cells": [
  {
   "cell_type": "markdown",
   "id": "popular-knight",
   "metadata": {},
   "source": [
    "## 习题 3.5"
   ]
  },
  {
   "cell_type": "code",
   "execution_count": 1,
   "id": "balanced-information",
   "metadata": {},
   "outputs": [
    {
     "data": {
      "text/html": [
       "<table class=\"dataframe\">\n",
       "<caption>A data.frame: 3 × 13</caption>\n",
       "<thead>\n",
       "\t<tr><th scope=col>科研经费投入</th><th scope=col>生产能力提高量</th><th scope=col>生产能力提高量.1</th><th scope=col>生产能力提高量.2</th><th scope=col>生产能力提高量.3</th><th scope=col>生产能力提高量.4</th><th scope=col>生产能力提高量.5</th><th scope=col>生产能力提高量.6</th><th scope=col>生产能力提高量.7</th><th scope=col>生产能力提高量.8</th><th scope=col>生产能力提高量.9</th><th scope=col>生产能力提高量.10</th><th scope=col>生产能力提高量.11</th></tr>\n",
       "\t<tr><th scope=col>&lt;chr&gt;</th><th scope=col>&lt;dbl&gt;</th><th scope=col>&lt;dbl&gt;</th><th scope=col>&lt;dbl&gt;</th><th scope=col>&lt;dbl&gt;</th><th scope=col>&lt;dbl&gt;</th><th scope=col>&lt;dbl&gt;</th><th scope=col>&lt;chr&gt;</th><th scope=col>&lt;chr&gt;</th><th scope=col>&lt;chr&gt;</th><th scope=col>&lt;chr&gt;</th><th scope=col>&lt;chr&gt;</th><th scope=col>&lt;dbl&gt;</th></tr>\n",
       "</thead>\n",
       "<tbody>\n",
       "\t<tr><td>低</td><td>7.6</td><td>8.2</td><td> 6.8</td><td>5.8</td><td>6.9</td><td>6.6</td><td>6.3</td><td>7.7</td><td>6  </td><td>   </td><td>   </td><td> NA</td></tr>\n",
       "\t<tr><td>中</td><td>6.7</td><td>8.1</td><td> 9.4</td><td>8.6</td><td>7.8</td><td>7.7</td><td>8.9</td><td>7.9</td><td>8.3</td><td>8.7</td><td>7.1</td><td>8.4</td></tr>\n",
       "\t<tr><td>高</td><td>8.5</td><td>9.7</td><td>10.1</td><td>7.8</td><td>9.6</td><td>9.5</td><td>   </td><td>   </td><td>   </td><td>   </td><td>   </td><td> NA</td></tr>\n",
       "</tbody>\n",
       "</table>\n"
      ],
      "text/latex": [
       "A data.frame: 3 × 13\n",
       "\\begin{tabular}{lllllllllllll}\n",
       " 科研经费投入 & 生产能力提高量 & 生产能力提高量.1 & 生产能力提高量.2 & 生产能力提高量.3 & 生产能力提高量.4 & 生产能力提高量.5 & 生产能力提高量.6 & 生产能力提高量.7 & 生产能力提高量.8 & 生产能力提高量.9 & 生产能力提高量.10 & 生产能力提高量.11\\\\\n",
       " <chr> & <dbl> & <dbl> & <dbl> & <dbl> & <dbl> & <dbl> & <chr> & <chr> & <chr> & <chr> & <chr> & <dbl>\\\\\n",
       "\\hline\n",
       "\t 低 & 7.6 & 8.2 &  6.8 & 5.8 & 6.9 & 6.6 & 6.3 & 7.7 & 6   &     &     &  NA\\\\\n",
       "\t 中 & 6.7 & 8.1 &  9.4 & 8.6 & 7.8 & 7.7 & 8.9 & 7.9 & 8.3 & 8.7 & 7.1 & 8.4\\\\\n",
       "\t 高 & 8.5 & 9.7 & 10.1 & 7.8 & 9.6 & 9.5 &     &     &     &     &     &  NA\\\\\n",
       "\\end{tabular}\n"
      ],
      "text/markdown": [
       "\n",
       "A data.frame: 3 × 13\n",
       "\n",
       "| 科研经费投入 &lt;chr&gt; | 生产能力提高量 &lt;dbl&gt; | 生产能力提高量.1 &lt;dbl&gt; | 生产能力提高量.2 &lt;dbl&gt; | 生产能力提高量.3 &lt;dbl&gt; | 生产能力提高量.4 &lt;dbl&gt; | 生产能力提高量.5 &lt;dbl&gt; | 生产能力提高量.6 &lt;chr&gt; | 生产能力提高量.7 &lt;chr&gt; | 生产能力提高量.8 &lt;chr&gt; | 生产能力提高量.9 &lt;chr&gt; | 生产能力提高量.10 &lt;chr&gt; | 生产能力提高量.11 &lt;dbl&gt; |\n",
       "|---|---|---|---|---|---|---|---|---|---|---|---|---|\n",
       "| 低 | 7.6 | 8.2 |  6.8 | 5.8 | 6.9 | 6.6 | 6.3 | 7.7 | 6   |     |     |  NA |\n",
       "| 中 | 6.7 | 8.1 |  9.4 | 8.6 | 7.8 | 7.7 | 8.9 | 7.9 | 8.3 | 8.7 | 7.1 | 8.4 |\n",
       "| 高 | 8.5 | 9.7 | 10.1 | 7.8 | 9.6 | 9.5 |     |     |     |     |     |  NA |\n",
       "\n"
      ],
      "text/plain": [
       "  \\u79d1\\u7814\\u7ecf\\u8d39\\u6295\\u5165\n",
       "1 \\u4f4e                              \n",
       "2 \\u4e2d                              \n",
       "3 \\u9ad8                              \n",
       "  \\u751f\\u4ea7\\u80fd\\u529b\\u63d0\\u9ad8\\u91cf\n",
       "1 7.6                                       \n",
       "2 6.7                                       \n",
       "3 8.5                                       \n",
       "  \\u751f\\u4ea7\\u80fd\\u529b\\u63d0\\u9ad8\\u91cf.1\n",
       "1 8.2                                         \n",
       "2 8.1                                         \n",
       "3 9.7                                         \n",
       "  \\u751f\\u4ea7\\u80fd\\u529b\\u63d0\\u9ad8\\u91cf.2\n",
       "1  6.8                                        \n",
       "2  9.4                                        \n",
       "3 10.1                                        \n",
       "  \\u751f\\u4ea7\\u80fd\\u529b\\u63d0\\u9ad8\\u91cf.3\n",
       "1 5.8                                         \n",
       "2 8.6                                         \n",
       "3 7.8                                         \n",
       "  \\u751f\\u4ea7\\u80fd\\u529b\\u63d0\\u9ad8\\u91cf.4\n",
       "1 6.9                                         \n",
       "2 7.8                                         \n",
       "3 9.6                                         \n",
       "  \\u751f\\u4ea7\\u80fd\\u529b\\u63d0\\u9ad8\\u91cf.5\n",
       "1 6.6                                         \n",
       "2 7.7                                         \n",
       "3 9.5                                         \n",
       "  \\u751f\\u4ea7\\u80fd\\u529b\\u63d0\\u9ad8\\u91cf.6\n",
       "1 6.3                                         \n",
       "2 8.9                                         \n",
       "3                                             \n",
       "  \\u751f\\u4ea7\\u80fd\\u529b\\u63d0\\u9ad8\\u91cf.7\n",
       "1 7.7                                         \n",
       "2 7.9                                         \n",
       "3                                             \n",
       "  \\u751f\\u4ea7\\u80fd\\u529b\\u63d0\\u9ad8\\u91cf.8\n",
       "1 6                                           \n",
       "2 8.3                                         \n",
       "3                                             \n",
       "  \\u751f\\u4ea7\\u80fd\\u529b\\u63d0\\u9ad8\\u91cf.9\n",
       "1                                             \n",
       "2 8.7                                         \n",
       "3                                             \n",
       "  \\u751f\\u4ea7\\u80fd\\u529b\\u63d0\\u9ad8\\u91cf.10\n",
       "1                                              \n",
       "2 7.1                                          \n",
       "3                                              \n",
       "  \\u751f\\u4ea7\\u80fd\\u529b\\u63d0\\u9ad8\\u91cf.11\n",
       "1  NA                                          \n",
       "2 8.4                                          \n",
       "3  NA                                          "
      ]
     },
     "metadata": {},
     "output_type": "display_data"
    }
   ],
   "source": [
    "raw_data <- read.csv(\"./ex_3_5.csv\")\n",
    "raw_data"
   ]
  },
  {
   "cell_type": "code",
   "execution_count": 2,
   "id": "lovely-guatemala",
   "metadata": {},
   "outputs": [
    {
     "name": "stderr",
     "output_type": "stream",
     "text": [
      "Warning message in apply(a[!is.na(a)], 1, as.double):\n",
      "“强制改变过程中产生了NA”\n",
      "Warning message in apply(a[!is.na(a)], 1, as.double):\n",
      "“强制改变过程中产生了NA”\n",
      "Warning message in apply(a[!is.na(a)], 1, as.double):\n",
      "“强制改变过程中产生了NA”\n",
      "Warning message in apply(a[!is.na(a)], 1, as.double):\n",
      "“强制改变过程中产生了NA”\n",
      "Warning message in apply(a[!is.na(a)], 1, as.double):\n",
      "“强制改变过程中产生了NA”\n",
      "Warning message in apply(a[!is.na(a)], 1, as.double):\n",
      "“强制改变过程中产生了NA”\n",
      "Warning message in apply(a[!is.na(a)], 1, as.double):\n",
      "“强制改变过程中产生了NA”\n"
     ]
    },
    {
     "data": {
      "text/html": [
       "<table class=\"dataframe\">\n",
       "<caption>A data.frame: 27 × 2</caption>\n",
       "<thead>\n",
       "\t<tr><th scope=col>investment</th><th scope=col>improvement</th></tr>\n",
       "\t<tr><th scope=col>&lt;chr&gt;</th><th scope=col>&lt;dbl&gt;</th></tr>\n",
       "</thead>\n",
       "<tbody>\n",
       "\t<tr><td>low </td><td> 7.6</td></tr>\n",
       "\t<tr><td>low </td><td> 8.2</td></tr>\n",
       "\t<tr><td>low </td><td> 6.8</td></tr>\n",
       "\t<tr><td>low </td><td> 5.8</td></tr>\n",
       "\t<tr><td>low </td><td> 6.9</td></tr>\n",
       "\t<tr><td>low </td><td> 6.6</td></tr>\n",
       "\t<tr><td>low </td><td> 6.3</td></tr>\n",
       "\t<tr><td>low </td><td> 7.7</td></tr>\n",
       "\t<tr><td>low </td><td> 6.0</td></tr>\n",
       "\t<tr><td>mid </td><td> 6.7</td></tr>\n",
       "\t<tr><td>mid </td><td> 8.1</td></tr>\n",
       "\t<tr><td>mid </td><td> 9.4</td></tr>\n",
       "\t<tr><td>mid </td><td> 8.6</td></tr>\n",
       "\t<tr><td>mid </td><td> 7.8</td></tr>\n",
       "\t<tr><td>mid </td><td> 7.7</td></tr>\n",
       "\t<tr><td>mid </td><td> 8.9</td></tr>\n",
       "\t<tr><td>mid </td><td> 7.9</td></tr>\n",
       "\t<tr><td>mid </td><td> 8.3</td></tr>\n",
       "\t<tr><td>mid </td><td> 8.7</td></tr>\n",
       "\t<tr><td>mid </td><td> 7.1</td></tr>\n",
       "\t<tr><td>mid </td><td> 8.4</td></tr>\n",
       "\t<tr><td>high</td><td> 8.5</td></tr>\n",
       "\t<tr><td>high</td><td> 9.7</td></tr>\n",
       "\t<tr><td>high</td><td>10.1</td></tr>\n",
       "\t<tr><td>high</td><td> 7.8</td></tr>\n",
       "\t<tr><td>high</td><td> 9.6</td></tr>\n",
       "\t<tr><td>high</td><td> 9.5</td></tr>\n",
       "</tbody>\n",
       "</table>\n"
      ],
      "text/latex": [
       "A data.frame: 27 × 2\n",
       "\\begin{tabular}{ll}\n",
       " investment & improvement\\\\\n",
       " <chr> & <dbl>\\\\\n",
       "\\hline\n",
       "\t low  &  7.6\\\\\n",
       "\t low  &  8.2\\\\\n",
       "\t low  &  6.8\\\\\n",
       "\t low  &  5.8\\\\\n",
       "\t low  &  6.9\\\\\n",
       "\t low  &  6.6\\\\\n",
       "\t low  &  6.3\\\\\n",
       "\t low  &  7.7\\\\\n",
       "\t low  &  6.0\\\\\n",
       "\t mid  &  6.7\\\\\n",
       "\t mid  &  8.1\\\\\n",
       "\t mid  &  9.4\\\\\n",
       "\t mid  &  8.6\\\\\n",
       "\t mid  &  7.8\\\\\n",
       "\t mid  &  7.7\\\\\n",
       "\t mid  &  8.9\\\\\n",
       "\t mid  &  7.9\\\\\n",
       "\t mid  &  8.3\\\\\n",
       "\t mid  &  8.7\\\\\n",
       "\t mid  &  7.1\\\\\n",
       "\t mid  &  8.4\\\\\n",
       "\t high &  8.5\\\\\n",
       "\t high &  9.7\\\\\n",
       "\t high & 10.1\\\\\n",
       "\t high &  7.8\\\\\n",
       "\t high &  9.6\\\\\n",
       "\t high &  9.5\\\\\n",
       "\\end{tabular}\n"
      ],
      "text/markdown": [
       "\n",
       "A data.frame: 27 × 2\n",
       "\n",
       "| investment &lt;chr&gt; | improvement &lt;dbl&gt; |\n",
       "|---|---|\n",
       "| low  |  7.6 |\n",
       "| low  |  8.2 |\n",
       "| low  |  6.8 |\n",
       "| low  |  5.8 |\n",
       "| low  |  6.9 |\n",
       "| low  |  6.6 |\n",
       "| low  |  6.3 |\n",
       "| low  |  7.7 |\n",
       "| low  |  6.0 |\n",
       "| mid  |  6.7 |\n",
       "| mid  |  8.1 |\n",
       "| mid  |  9.4 |\n",
       "| mid  |  8.6 |\n",
       "| mid  |  7.8 |\n",
       "| mid  |  7.7 |\n",
       "| mid  |  8.9 |\n",
       "| mid  |  7.9 |\n",
       "| mid  |  8.3 |\n",
       "| mid  |  8.7 |\n",
       "| mid  |  7.1 |\n",
       "| mid  |  8.4 |\n",
       "| high |  8.5 |\n",
       "| high |  9.7 |\n",
       "| high | 10.1 |\n",
       "| high |  7.8 |\n",
       "| high |  9.6 |\n",
       "| high |  9.5 |\n",
       "\n"
      ],
      "text/plain": [
       "   investment improvement\n",
       "1  low         7.6       \n",
       "2  low         8.2       \n",
       "3  low         6.8       \n",
       "4  low         5.8       \n",
       "5  low         6.9       \n",
       "6  low         6.6       \n",
       "7  low         6.3       \n",
       "8  low         7.7       \n",
       "9  low         6.0       \n",
       "10 mid         6.7       \n",
       "11 mid         8.1       \n",
       "12 mid         9.4       \n",
       "13 mid         8.6       \n",
       "14 mid         7.8       \n",
       "15 mid         7.7       \n",
       "16 mid         8.9       \n",
       "17 mid         7.9       \n",
       "18 mid         8.3       \n",
       "19 mid         8.7       \n",
       "20 mid         7.1       \n",
       "21 mid         8.4       \n",
       "22 high        8.5       \n",
       "23 high        9.7       \n",
       "24 high       10.1       \n",
       "25 high        7.8       \n",
       "26 high        9.6       \n",
       "27 high        9.5       "
      ]
     },
     "metadata": {},
     "output_type": "display_data"
    }
   ],
   "source": [
    "t_raw_data = t(raw_data)  # 转置，方便取数据\n",
    "\n",
    "dict = c(\"low\", \"mid\", \"high\")\n",
    "names(dict) <- c(\"低\", \"中\", \"高\")\n",
    "\n",
    "investment = c()   # 科研经费投入\n",
    "improvement = c()  # 生产能力提高量\n",
    "\n",
    "for (i in 1:3) {\n",
    "    b = dict[[t_raw_data[[1,i]]]]   # 科研经费投入\n",
    "    \n",
    "    a = array(t_raw_data[-1,i])   # 生产能力提高量：下面 2 行将数据转化为 dobule 型，并清除 NA、空值\n",
    "    a = apply(a[!is.na(a)], 1, as.double)  # 这里会有一些产生 NA 的 Warning，这个问题来自：as.double(\"\")，不必在意\n",
    "    a = a[!is.na(a)]  \n",
    "    \n",
    "    for (p in a) {\n",
    "        investment = c(investment, b)\n",
    "        improvement = c(improvement, p)\n",
    "    }\n",
    "}\n",
    "\n",
    "data = data.frame(investment, improvement)\n",
    "data"
   ]
  },
  {
   "cell_type": "markdown",
   "id": "identified-repeat",
   "metadata": {},
   "source": [
    "#### （1）\n",
    "\n",
    "![题（1）](https://tva1.sinaimg.cn/large/008i3skNly1gr76e2inkyj31eg03y0ua.jpg)"
   ]
  },
  {
   "cell_type": "markdown",
   "id": "violent-underground",
   "metadata": {},
   "source": [
    "首先，通过箱线图，直观感觉是有显著差异的："
   ]
  },
  {
   "cell_type": "code",
   "execution_count": 3,
   "id": "enhanced-typing",
   "metadata": {},
   "outputs": [
    {
     "data": {
      "image/png": "[encoded data removed]",
      "text/plain": [
       "plot without title"
      ]
     },
     "metadata": {
      "image/png": {
       "height": 420,
       "width": 420
      }
     },
     "output_type": "display_data"
    }
   ],
   "source": [
    "boxplot(improvement ~ investment, data = data)"
   ]
  },
  {
   "cell_type": "markdown",
   "id": "remarkable-cleaner",
   "metadata": {},
   "source": [
    "接下来建立方差分析表："
   ]
  },
  {
   "cell_type": "code",
   "execution_count": 4,
   "id": "expired-cookie",
   "metadata": {},
   "outputs": [
    {
     "data": {
      "text/plain": [
       "            Df Sum Sq Mean Sq F value   Pr(>F)    \n",
       "investment   2  20.12   10.06   15.72 4.33e-05 ***\n",
       "Residuals   24  15.36    0.64                     \n",
       "---\n",
       "Signif. codes:  0 ‘***’ 0.001 ‘**’ 0.01 ‘*’ 0.05 ‘.’ 0.1 ‘ ’ 1"
      ]
     },
     "metadata": {},
     "output_type": "display_data"
    }
   ],
   "source": [
    "dfc <- aov(improvement ~ investment, data=data)\n",
    "summary(dfc)"
   ]
  },
  {
   "cell_type": "markdown",
   "id": "coupled-intensity",
   "metadata": {},
   "source": [
    "检验 $p < 0.05$，拒绝原假设，认为在显著水平 $\\alpha=0.05$ 下过去三年科研经费投入的不同对当年生产力的提高有显著影响。"
   ]
  },
  {
   "cell_type": "markdown",
   "id": "abandoned-gauge",
   "metadata": {},
   "source": [
    "#### （2）\n",
    "\n",
    "![题（2）](https://tva1.sinaimg.cn/large/008i3skNly1gr771206vtj61fo08an1e02.jpg)"
   ]
  },
  {
   "cell_type": "markdown",
   "id": "large-field",
   "metadata": {},
   "source": [
    "首先为了方便，提取出几个组："
   ]
  },
  {
   "cell_type": "code",
   "execution_count": 5,
   "id": "statutory-confirmation",
   "metadata": {},
   "outputs": [],
   "source": [
    "group_low  <- data[investment==\"low\",]\n",
    "group_mid  <- data[investment==\"mid\",]\n",
    "group_high <- data[investment==\"high\",]"
   ]
  },
  {
   "cell_type": "markdown",
   "id": "alone-richardson",
   "metadata": {},
   "source": [
    "利用 `t.test` 容易获取到均值的置信区间：\n",
    "\n",
    "> ref: https://zhuanlan.zhihu.com/p/35713329"
   ]
  },
  {
   "cell_type": "code",
   "execution_count": 6,
   "id": "tutorial-analysis",
   "metadata": {},
   "outputs": [
    {
     "data": {
      "text/plain": [
       "\n",
       "\tOne Sample t-test\n",
       "\n",
       "data:  group_low$improvement\n",
       "t = 25.361, df = 8, p-value = 6.261e-09\n",
       "alternative hypothesis: true mean is not equal to 0\n",
       "95 percent confidence interval:\n",
       " 6.252390 7.503166\n",
       "sample estimates:\n",
       "mean of x \n",
       " 6.877778 \n"
      ]
     },
     "metadata": {},
     "output_type": "display_data"
    }
   ],
   "source": [
    "t.test(group_low$improvement)"
   ]
  },
  {
   "cell_type": "markdown",
   "id": "partial-berlin",
   "metadata": {},
   "source": [
    "其中 `mean of x` 为均值，`confidence interval` 即置信区间。\n",
    "\n",
    "为了方便，封装如下函数，用来提取这些信息："
   ]
  },
  {
   "cell_type": "code",
   "execution_count": 7,
   "id": "special-desire",
   "metadata": {},
   "outputs": [],
   "source": [
    "mean_confin <- function(x, ...) {    # mean and confidence interval of x by t.test\n",
    "    t.res <- t.test(x, ...)\n",
    "    mean_val <- t.res$estimate[[\"mean of x\"]]\n",
    "    mean_conf.in <- t.res$conf.in\n",
    "    \n",
    "    res <- c(mean_val, mean_conf.in)\n",
    "    names(res) <- c(\"mean\", \"conf.left\", \"conf.right\")\n",
    "    \n",
    "    res  # ret\n",
    "}"
   ]
  },
  {
   "cell_type": "markdown",
   "id": "uniform-freedom",
   "metadata": {},
   "source": [
    "调用上面封装的函数可以很方便地得到一个表格："
   ]
  },
  {
   "cell_type": "code",
   "execution_count": 8,
   "id": "mobile-apartment",
   "metadata": {},
   "outputs": [
    {
     "data": {
      "text/html": [
       "<table class=\"dataframe\">\n",
       "<caption>A matrix: 3 × 3 of type dbl</caption>\n",
       "<thead>\n",
       "\t<tr><th></th><th scope=col>mean</th><th scope=col>conf.left</th><th scope=col>conf.right</th></tr>\n",
       "</thead>\n",
       "<tbody>\n",
       "\t<tr><th scope=row>L</th><td>6.877778</td><td>6.252390</td><td> 7.503166</td></tr>\n",
       "\t<tr><th scope=row>M</th><td>8.133333</td><td>7.652239</td><td> 8.614427</td></tr>\n",
       "\t<tr><th scope=row>H</th><td>9.200000</td><td>8.289951</td><td>10.110049</td></tr>\n",
       "</tbody>\n",
       "</table>\n"
      ],
      "text/latex": [
       "A matrix: 3 × 3 of type dbl\n",
       "\\begin{tabular}{r|lll}\n",
       "  & mean & conf.left & conf.right\\\\\n",
       "\\hline\n",
       "\tL & 6.877778 & 6.252390 &  7.503166\\\\\n",
       "\tM & 8.133333 & 7.652239 &  8.614427\\\\\n",
       "\tH & 9.200000 & 8.289951 & 10.110049\\\\\n",
       "\\end{tabular}\n"
      ],
      "text/markdown": [
       "\n",
       "A matrix: 3 × 3 of type dbl\n",
       "\n",
       "| <!--/--> | mean | conf.left | conf.right |\n",
       "|---|---|---|---|\n",
       "| L | 6.877778 | 6.252390 |  7.503166 |\n",
       "| M | 8.133333 | 7.652239 |  8.614427 |\n",
       "| H | 9.200000 | 8.289951 | 10.110049 |\n",
       "\n"
      ],
      "text/plain": [
       "  mean     conf.left conf.right\n",
       "L 6.877778 6.252390   7.503166 \n",
       "M 8.133333 7.652239   8.614427 \n",
       "H 9.200000 8.289951  10.110049 "
      ]
     },
     "metadata": {},
     "output_type": "display_data"
    }
   ],
   "source": [
    "mu <- (function() {\n",
    "    L <- mean_confin(group_low$improvement)\n",
    "    M <- mean_confin(group_mid$improvement)\n",
    "    H <- mean_confin(group_high$improvement)\n",
    "    \n",
    "    rbind(L, M, H)\n",
    "})()\n",
    "mu"
   ]
  },
  {
   "cell_type": "markdown",
   "id": "copyrighted-subscription",
   "metadata": {},
   "source": [
    "得到三年经费投入为低、中、高情况下当年生产能力提高量的均值为：\n",
    "\n",
    "$$\n",
    "\\begin{aligned}\n",
    "\\mu_L & =  6.877778 \\\\\n",
    "\\mu_M & =  8.133333 \\\\\n",
    "\\mu_H & =  9.2 \\\\\n",
    "\\end{aligned}\n",
    "$$\n",
    "\n",
    "各 95% 置信区间如下：\n",
    "\n",
    "$$\n",
    "\\begin{aligned}\n",
    "\\mu_L & \\in  (6.252390, 7.503166) \\\\\n",
    "\\mu_M & \\in (7.652239, 8.614427) \\\\\n",
    "\\mu_H & \\in (8.289951, 10.110049) \\\\\n",
    "\\end{aligned}\n",
    "$$"
   ]
  },
  {
   "cell_type": "markdown",
   "id": "freelance-accessory",
   "metadata": {},
   "source": [
    "当然，这里也可以手动实现计算过程，但比较麻烦："
   ]
  },
  {
   "cell_type": "raw",
   "id": "massive-southeast",
   "metadata": {},
   "source": [
    "# 分类汇总：means of improvements\n",
    "grouped_means <- aggregate(improvement, by=list(investment), FUN=mean)\n",
    "# 从方差分析表中提取出 MSE\n",
    "mse <- anova(dfc)[\"Residuals\", \"Mean Sq\"]\n",
    "# 带入公式，用 qt 计算 t 分位数，得到置信区间\n",
    "# ..."
   ]
  },
  {
   "cell_type": "markdown",
   "id": "correct-estate",
   "metadata": {},
   "source": [
    "要求 Bonferroni 同时置信区间，R 好像没有内置的实现，同样手写麻烦，所以考虑调用第三方包：\n",
    "\n",
    "> ref: https://stackoverflow.com/questions/48572619/bonferroni-simultaneous-confidence-intervals-of-differences-in-means"
   ]
  },
  {
   "cell_type": "code",
   "execution_count": 9,
   "id": "about-financing",
   "metadata": {},
   "outputs": [
    {
     "name": "stderr",
     "output_type": "stream",
     "text": [
      "Loading required package: DescTools\n",
      "\n"
     ]
    },
    {
     "data": {
      "text/plain": [
       "\n",
       "  Posthoc multiple comparisons of means : Bonferroni \n",
       "    95% family-wise confidence level\n",
       "\n",
       "$investment\n",
       "              diff     lwr.ci      upr.ci    pval    \n",
       "low-high -2.322222 -3.4074430 -1.23700140 3.5e-05 ***\n",
       "mid-high -1.066667 -2.0961975 -0.03713579  0.0405 *  \n",
       "mid-low   1.255556  0.3475947  2.16351644  0.0048 ** \n",
       "\n",
       "---\n",
       "Signif. codes:  0 '***' 0.001 '**' 0.01 '*' 0.05 '.' 0.1 ' ' 1\n"
      ]
     },
     "metadata": {},
     "output_type": "display_data"
    }
   ],
   "source": [
    "# install.packages(\"DescTools\")\n",
    "require(DescTools)\n",
    "PostHocTest(dfc, method = \"bonferroni\")"
   ]
  },
  {
   "cell_type": "markdown",
   "id": "blessed-antenna",
   "metadata": {},
   "source": [
    "得到 $\\mu_L-\\mu_M$，$\\mu_L-\\mu_H$ 和 $\\mu_M-\\mu_H$ 的置信度不小于 95% 的 Bonferroni 同时置信区间：\n",
    "\n",
    "$$\n",
    "\\begin{aligned}\n",
    "\\mu_L-\\mu_M & \\in (-2.16351644, -0.3475947  ) \\\\\n",
    "\\mu_L-\\mu_H & \\in (-3.4074430, -1.23700140) \\\\\n",
    "\\mu_M-\\mu_H & \\in (-2.0961975, -0.03713579) \\\\\n",
    "\\end{aligned}\n",
    "$$"
   ]
  },
  {
   "cell_type": "markdown",
   "id": "vulnerable-continuity",
   "metadata": {},
   "source": [
    "从 $\\mu_L-\\mu_M$，$\\mu_L-\\mu_H$ 和 $\\mu_M-\\mu_H$ 的 Bonferroni 同时置信区间都位于负值区间可知，\n",
    "随着三年科研经费的投入越高，当年生产能力的改善越显著。"
   ]
  }
 ],
 "metadata": {
  "kernelspec": {
   "display_name": "R",
   "language": "R",
   "name": "ir"
  },
  "language_info": {
   "codemirror_mode": "r",
   "file_extension": ".r",
   "mimetype": "text/x-r-source",
   "name": "R",
   "pygments_lexer": "r",
   "version": "4.0.4"
  }
 },
 "nbformat": 4,
 "nbformat_minor": 5
}
