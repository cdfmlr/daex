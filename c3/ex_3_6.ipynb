{
 "cells": [
  {
   "cell_type": "markdown",
   "id": "olympic-monroe",
   "metadata": {},
   "source": [
    "## 习题 3.6"
   ]
  },
  {
   "cell_type": "code",
   "execution_count": 1,
   "id": "thick-diversity",
   "metadata": {},
   "outputs": [
    {
     "data": {
      "text/html": [
       "<table class=\"dataframe\">\n",
       "<caption>A data.frame: 108 × 3</caption>\n",
       "<thead>\n",
       "\t<tr><th scope=col>FeIon</th><th scope=col>Dose</th><th scope=col>Retention</th></tr>\n",
       "\t<tr><th scope=col>&lt;chr&gt;</th><th scope=col>&lt;chr&gt;</th><th scope=col>&lt;dbl&gt;</th></tr>\n",
       "</thead>\n",
       "<tbody>\n",
       "\t<tr><td>Fe3</td><td>high</td><td>0.71</td></tr>\n",
       "\t<tr><td>Fe3</td><td>high</td><td>1.66</td></tr>\n",
       "\t<tr><td>Fe3</td><td>high</td><td>2.01</td></tr>\n",
       "\t<tr><td>Fe3</td><td>high</td><td>2.16</td></tr>\n",
       "\t<tr><td>Fe3</td><td>high</td><td>2.42</td></tr>\n",
       "\t<tr><td>Fe3</td><td>high</td><td>2.42</td></tr>\n",
       "\t<tr><td>Fe3</td><td>high</td><td>2.56</td></tr>\n",
       "\t<tr><td>Fe3</td><td>high</td><td>2.60</td></tr>\n",
       "\t<tr><td>Fe3</td><td>high</td><td>3.31</td></tr>\n",
       "\t<tr><td>Fe3</td><td>high</td><td>3.64</td></tr>\n",
       "\t<tr><td>Fe3</td><td>high</td><td>3.74</td></tr>\n",
       "\t<tr><td>Fe3</td><td>high</td><td>3.74</td></tr>\n",
       "\t<tr><td>Fe3</td><td>high</td><td>4.39</td></tr>\n",
       "\t<tr><td>Fe3</td><td>high</td><td>4.50</td></tr>\n",
       "\t<tr><td>Fe3</td><td>high</td><td>5.07</td></tr>\n",
       "\t<tr><td>Fe3</td><td>high</td><td>5.26</td></tr>\n",
       "\t<tr><td>Fe3</td><td>high</td><td>8.15</td></tr>\n",
       "\t<tr><td>Fe3</td><td>high</td><td>8.24</td></tr>\n",
       "\t<tr><td>Fe3</td><td>mid </td><td>2.20</td></tr>\n",
       "\t<tr><td>Fe3</td><td>mid </td><td>2.93</td></tr>\n",
       "\t<tr><td>Fe3</td><td>mid </td><td>3.08</td></tr>\n",
       "\t<tr><td>Fe3</td><td>mid </td><td>3.49</td></tr>\n",
       "\t<tr><td>Fe3</td><td>mid </td><td>4.11</td></tr>\n",
       "\t<tr><td>Fe3</td><td>mid </td><td>4.95</td></tr>\n",
       "\t<tr><td>Fe3</td><td>mid </td><td>5.16</td></tr>\n",
       "\t<tr><td>Fe3</td><td>mid </td><td>5.54</td></tr>\n",
       "\t<tr><td>Fe3</td><td>mid </td><td>5.68</td></tr>\n",
       "\t<tr><td>Fe3</td><td>mid </td><td>6.25</td></tr>\n",
       "\t<tr><td>Fe3</td><td>mid </td><td>7.25</td></tr>\n",
       "\t<tr><td>Fe3</td><td>mid </td><td>7.90</td></tr>\n",
       "\t<tr><td>⋮</td><td>⋮</td><td>⋮</td></tr>\n",
       "\t<tr><td>Fe2</td><td>mid</td><td> 5.86</td></tr>\n",
       "\t<tr><td>Fe2</td><td>mid</td><td> 6.28</td></tr>\n",
       "\t<tr><td>Fe2</td><td>mid</td><td> 6.97</td></tr>\n",
       "\t<tr><td>Fe2</td><td>mid</td><td> 7.06</td></tr>\n",
       "\t<tr><td>Fe2</td><td>mid</td><td> 7.78</td></tr>\n",
       "\t<tr><td>Fe2</td><td>mid</td><td> 9.23</td></tr>\n",
       "\t<tr><td>Fe2</td><td>mid</td><td> 9.34</td></tr>\n",
       "\t<tr><td>Fe2</td><td>mid</td><td> 9.91</td></tr>\n",
       "\t<tr><td>Fe2</td><td>mid</td><td>13.46</td></tr>\n",
       "\t<tr><td>Fe2</td><td>mid</td><td>18.40</td></tr>\n",
       "\t<tr><td>Fe2</td><td>mid</td><td>23.89</td></tr>\n",
       "\t<tr><td>Fe2</td><td>mid</td><td>26.39</td></tr>\n",
       "\t<tr><td>Fe2</td><td>low</td><td> 2.71</td></tr>\n",
       "\t<tr><td>Fe2</td><td>low</td><td> 5.43</td></tr>\n",
       "\t<tr><td>Fe2</td><td>low</td><td> 6.38</td></tr>\n",
       "\t<tr><td>Fe2</td><td>low</td><td> 6.38</td></tr>\n",
       "\t<tr><td>Fe2</td><td>low</td><td> 8.32</td></tr>\n",
       "\t<tr><td>Fe2</td><td>low</td><td> 9.04</td></tr>\n",
       "\t<tr><td>Fe2</td><td>low</td><td> 9.56</td></tr>\n",
       "\t<tr><td>Fe2</td><td>low</td><td>10.01</td></tr>\n",
       "\t<tr><td>Fe2</td><td>low</td><td>10.08</td></tr>\n",
       "\t<tr><td>Fe2</td><td>low</td><td>10.62</td></tr>\n",
       "\t<tr><td>Fe2</td><td>low</td><td>13.80</td></tr>\n",
       "\t<tr><td>Fe2</td><td>low</td><td>15.99</td></tr>\n",
       "\t<tr><td>Fe2</td><td>low</td><td>17.90</td></tr>\n",
       "\t<tr><td>Fe2</td><td>low</td><td>18.25</td></tr>\n",
       "\t<tr><td>Fe2</td><td>low</td><td>19.32</td></tr>\n",
       "\t<tr><td>Fe2</td><td>low</td><td>19.87</td></tr>\n",
       "\t<tr><td>Fe2</td><td>low</td><td>21.60</td></tr>\n",
       "\t<tr><td>Fe2</td><td>low</td><td>22.25</td></tr>\n",
       "</tbody>\n",
       "</table>\n"
      ],
      "text/latex": [
       "A data.frame: 108 × 3\n",
       "\\begin{tabular}{lll}\n",
       " FeIon & Dose & Retention\\\\\n",
       " <chr> & <chr> & <dbl>\\\\\n",
       "\\hline\n",
       "\t Fe3 & high & 0.71\\\\\n",
       "\t Fe3 & high & 1.66\\\\\n",
       "\t Fe3 & high & 2.01\\\\\n",
       "\t Fe3 & high & 2.16\\\\\n",
       "\t Fe3 & high & 2.42\\\\\n",
       "\t Fe3 & high & 2.42\\\\\n",
       "\t Fe3 & high & 2.56\\\\\n",
       "\t Fe3 & high & 2.60\\\\\n",
       "\t Fe3 & high & 3.31\\\\\n",
       "\t Fe3 & high & 3.64\\\\\n",
       "\t Fe3 & high & 3.74\\\\\n",
       "\t Fe3 & high & 3.74\\\\\n",
       "\t Fe3 & high & 4.39\\\\\n",
       "\t Fe3 & high & 4.50\\\\\n",
       "\t Fe3 & high & 5.07\\\\\n",
       "\t Fe3 & high & 5.26\\\\\n",
       "\t Fe3 & high & 8.15\\\\\n",
       "\t Fe3 & high & 8.24\\\\\n",
       "\t Fe3 & mid  & 2.20\\\\\n",
       "\t Fe3 & mid  & 2.93\\\\\n",
       "\t Fe3 & mid  & 3.08\\\\\n",
       "\t Fe3 & mid  & 3.49\\\\\n",
       "\t Fe3 & mid  & 4.11\\\\\n",
       "\t Fe3 & mid  & 4.95\\\\\n",
       "\t Fe3 & mid  & 5.16\\\\\n",
       "\t Fe3 & mid  & 5.54\\\\\n",
       "\t Fe3 & mid  & 5.68\\\\\n",
       "\t Fe3 & mid  & 6.25\\\\\n",
       "\t Fe3 & mid  & 7.25\\\\\n",
       "\t Fe3 & mid  & 7.90\\\\\n",
       "\t ⋮ & ⋮ & ⋮\\\\\n",
       "\t Fe2 & mid &  5.86\\\\\n",
       "\t Fe2 & mid &  6.28\\\\\n",
       "\t Fe2 & mid &  6.97\\\\\n",
       "\t Fe2 & mid &  7.06\\\\\n",
       "\t Fe2 & mid &  7.78\\\\\n",
       "\t Fe2 & mid &  9.23\\\\\n",
       "\t Fe2 & mid &  9.34\\\\\n",
       "\t Fe2 & mid &  9.91\\\\\n",
       "\t Fe2 & mid & 13.46\\\\\n",
       "\t Fe2 & mid & 18.40\\\\\n",
       "\t Fe2 & mid & 23.89\\\\\n",
       "\t Fe2 & mid & 26.39\\\\\n",
       "\t Fe2 & low &  2.71\\\\\n",
       "\t Fe2 & low &  5.43\\\\\n",
       "\t Fe2 & low &  6.38\\\\\n",
       "\t Fe2 & low &  6.38\\\\\n",
       "\t Fe2 & low &  8.32\\\\\n",
       "\t Fe2 & low &  9.04\\\\\n",
       "\t Fe2 & low &  9.56\\\\\n",
       "\t Fe2 & low & 10.01\\\\\n",
       "\t Fe2 & low & 10.08\\\\\n",
       "\t Fe2 & low & 10.62\\\\\n",
       "\t Fe2 & low & 13.80\\\\\n",
       "\t Fe2 & low & 15.99\\\\\n",
       "\t Fe2 & low & 17.90\\\\\n",
       "\t Fe2 & low & 18.25\\\\\n",
       "\t Fe2 & low & 19.32\\\\\n",
       "\t Fe2 & low & 19.87\\\\\n",
       "\t Fe2 & low & 21.60\\\\\n",
       "\t Fe2 & low & 22.25\\\\\n",
       "\\end{tabular}\n"
      ],
      "text/markdown": [
       "\n",
       "A data.frame: 108 × 3\n",
       "\n",
       "| FeIon &lt;chr&gt; | Dose &lt;chr&gt; | Retention &lt;dbl&gt; |\n",
       "|---|---|---|\n",
       "| Fe3 | high | 0.71 |\n",
       "| Fe3 | high | 1.66 |\n",
       "| Fe3 | high | 2.01 |\n",
       "| Fe3 | high | 2.16 |\n",
       "| Fe3 | high | 2.42 |\n",
       "| Fe3 | high | 2.42 |\n",
       "| Fe3 | high | 2.56 |\n",
       "| Fe3 | high | 2.60 |\n",
       "| Fe3 | high | 3.31 |\n",
       "| Fe3 | high | 3.64 |\n",
       "| Fe3 | high | 3.74 |\n",
       "| Fe3 | high | 3.74 |\n",
       "| Fe3 | high | 4.39 |\n",
       "| Fe3 | high | 4.50 |\n",
       "| Fe3 | high | 5.07 |\n",
       "| Fe3 | high | 5.26 |\n",
       "| Fe3 | high | 8.15 |\n",
       "| Fe3 | high | 8.24 |\n",
       "| Fe3 | mid  | 2.20 |\n",
       "| Fe3 | mid  | 2.93 |\n",
       "| Fe3 | mid  | 3.08 |\n",
       "| Fe3 | mid  | 3.49 |\n",
       "| Fe3 | mid  | 4.11 |\n",
       "| Fe3 | mid  | 4.95 |\n",
       "| Fe3 | mid  | 5.16 |\n",
       "| Fe3 | mid  | 5.54 |\n",
       "| Fe3 | mid  | 5.68 |\n",
       "| Fe3 | mid  | 6.25 |\n",
       "| Fe3 | mid  | 7.25 |\n",
       "| Fe3 | mid  | 7.90 |\n",
       "| ⋮ | ⋮ | ⋮ |\n",
       "| Fe2 | mid |  5.86 |\n",
       "| Fe2 | mid |  6.28 |\n",
       "| Fe2 | mid |  6.97 |\n",
       "| Fe2 | mid |  7.06 |\n",
       "| Fe2 | mid |  7.78 |\n",
       "| Fe2 | mid |  9.23 |\n",
       "| Fe2 | mid |  9.34 |\n",
       "| Fe2 | mid |  9.91 |\n",
       "| Fe2 | mid | 13.46 |\n",
       "| Fe2 | mid | 18.40 |\n",
       "| Fe2 | mid | 23.89 |\n",
       "| Fe2 | mid | 26.39 |\n",
       "| Fe2 | low |  2.71 |\n",
       "| Fe2 | low |  5.43 |\n",
       "| Fe2 | low |  6.38 |\n",
       "| Fe2 | low |  6.38 |\n",
       "| Fe2 | low |  8.32 |\n",
       "| Fe2 | low |  9.04 |\n",
       "| Fe2 | low |  9.56 |\n",
       "| Fe2 | low | 10.01 |\n",
       "| Fe2 | low | 10.08 |\n",
       "| Fe2 | low | 10.62 |\n",
       "| Fe2 | low | 13.80 |\n",
       "| Fe2 | low | 15.99 |\n",
       "| Fe2 | low | 17.90 |\n",
       "| Fe2 | low | 18.25 |\n",
       "| Fe2 | low | 19.32 |\n",
       "| Fe2 | low | 19.87 |\n",
       "| Fe2 | low | 21.60 |\n",
       "| Fe2 | low | 22.25 |\n",
       "\n"
      ],
      "text/plain": [
       "    FeIon Dose Retention\n",
       "1   Fe3   high 0.71     \n",
       "2   Fe3   high 1.66     \n",
       "3   Fe3   high 2.01     \n",
       "4   Fe3   high 2.16     \n",
       "5   Fe3   high 2.42     \n",
       "6   Fe3   high 2.42     \n",
       "7   Fe3   high 2.56     \n",
       "8   Fe3   high 2.60     \n",
       "9   Fe3   high 3.31     \n",
       "10  Fe3   high 3.64     \n",
       "11  Fe3   high 3.74     \n",
       "12  Fe3   high 3.74     \n",
       "13  Fe3   high 4.39     \n",
       "14  Fe3   high 4.50     \n",
       "15  Fe3   high 5.07     \n",
       "16  Fe3   high 5.26     \n",
       "17  Fe3   high 8.15     \n",
       "18  Fe3   high 8.24     \n",
       "19  Fe3   mid  2.20     \n",
       "20  Fe3   mid  2.93     \n",
       "21  Fe3   mid  3.08     \n",
       "22  Fe3   mid  3.49     \n",
       "23  Fe3   mid  4.11     \n",
       "24  Fe3   mid  4.95     \n",
       "25  Fe3   mid  5.16     \n",
       "26  Fe3   mid  5.54     \n",
       "27  Fe3   mid  5.68     \n",
       "28  Fe3   mid  6.25     \n",
       "29  Fe3   mid  7.25     \n",
       "30  Fe3   mid  7.90     \n",
       "⋮   ⋮     ⋮    ⋮        \n",
       "79  Fe2   mid   5.86    \n",
       "80  Fe2   mid   6.28    \n",
       "81  Fe2   mid   6.97    \n",
       "82  Fe2   mid   7.06    \n",
       "83  Fe2   mid   7.78    \n",
       "84  Fe2   mid   9.23    \n",
       "85  Fe2   mid   9.34    \n",
       "86  Fe2   mid   9.91    \n",
       "87  Fe2   mid  13.46    \n",
       "88  Fe2   mid  18.40    \n",
       "89  Fe2   mid  23.89    \n",
       "90  Fe2   mid  26.39    \n",
       "91  Fe2   low   2.71    \n",
       "92  Fe2   low   5.43    \n",
       "93  Fe2   low   6.38    \n",
       "94  Fe2   low   6.38    \n",
       "95  Fe2   low   8.32    \n",
       "96  Fe2   low   9.04    \n",
       "97  Fe2   low   9.56    \n",
       "98  Fe2   low  10.01    \n",
       "99  Fe2   low  10.08    \n",
       "100 Fe2   low  10.62    \n",
       "101 Fe2   low  13.80    \n",
       "102 Fe2   low  15.99    \n",
       "103 Fe2   low  17.90    \n",
       "104 Fe2   low  18.25    \n",
       "105 Fe2   low  19.32    \n",
       "106 Fe2   low  19.87    \n",
       "107 Fe2   low  21.60    \n",
       "108 Fe2   low  22.25    "
      ]
     },
     "metadata": {},
     "output_type": "display_data"
    }
   ],
   "source": [
    "data <- read.table(\"./ex_3_6.meaningfulize.txt\", header=TRUE)\n",
    "data"
   ]
  },
  {
   "cell_type": "code",
   "execution_count": 2,
   "id": "metric-maryland",
   "metadata": {},
   "outputs": [],
   "source": [
    "attach(data)"
   ]
  },
  {
   "cell_type": "markdown",
   "id": "short-lawrence",
   "metadata": {},
   "source": [
    "### (1)\n",
    "\n",
    "![题（1）](https://tva1.sinaimg.cn/large/008i3skNly1gr7f8iaibgj31lo06y41x.jpg)"
   ]
  },
  {
   "cell_type": "markdown",
   "id": "british-baptist",
   "metadata": {},
   "source": [
    "首先，求出各组合观测值的样本均值、标准差。这里可以利用 aggregate 做分类汇总："
   ]
  },
  {
   "cell_type": "code",
   "execution_count": 3,
   "id": "waiting-destiny",
   "metadata": {},
   "outputs": [
    {
     "data": {
      "text/html": [
       "<table class=\"dataframe\">\n",
       "<caption>A data.frame: 6 × 4</caption>\n",
       "<thead>\n",
       "\t<tr><th scope=col>FeIon</th><th scope=col>Dose</th><th scope=col>mean</th><th scope=col>sd</th></tr>\n",
       "\t<tr><th scope=col>&lt;chr&gt;</th><th scope=col>&lt;chr&gt;</th><th scope=col>&lt;dbl&gt;</th><th scope=col>&lt;dbl&gt;</th></tr>\n",
       "</thead>\n",
       "<tbody>\n",
       "\t<tr><td>Fe2</td><td>high</td><td> 5.936667</td><td>2.806778</td></tr>\n",
       "\t<tr><td>Fe3</td><td>high</td><td> 3.698889</td><td>2.030870</td></tr>\n",
       "\t<tr><td>Fe2</td><td>low </td><td>12.639444</td><td>6.082089</td></tr>\n",
       "\t<tr><td>Fe3</td><td>low </td><td>11.750000</td><td>7.028150</td></tr>\n",
       "\t<tr><td>Fe2</td><td>mid </td><td> 9.632222</td><td>6.691215</td></tr>\n",
       "\t<tr><td>Fe3</td><td>mid </td><td> 8.203889</td><td>5.447386</td></tr>\n",
       "</tbody>\n",
       "</table>\n"
      ],
      "text/latex": [
       "A data.frame: 6 × 4\n",
       "\\begin{tabular}{llll}\n",
       " FeIon & Dose & mean & sd\\\\\n",
       " <chr> & <chr> & <dbl> & <dbl>\\\\\n",
       "\\hline\n",
       "\t Fe2 & high &  5.936667 & 2.806778\\\\\n",
       "\t Fe3 & high &  3.698889 & 2.030870\\\\\n",
       "\t Fe2 & low  & 12.639444 & 6.082089\\\\\n",
       "\t Fe3 & low  & 11.750000 & 7.028150\\\\\n",
       "\t Fe2 & mid  &  9.632222 & 6.691215\\\\\n",
       "\t Fe3 & mid  &  8.203889 & 5.447386\\\\\n",
       "\\end{tabular}\n"
      ],
      "text/markdown": [
       "\n",
       "A data.frame: 6 × 4\n",
       "\n",
       "| FeIon &lt;chr&gt; | Dose &lt;chr&gt; | mean &lt;dbl&gt; | sd &lt;dbl&gt; |\n",
       "|---|---|---|---|\n",
       "| Fe2 | high |  5.936667 | 2.806778 |\n",
       "| Fe3 | high |  3.698889 | 2.030870 |\n",
       "| Fe2 | low  | 12.639444 | 6.082089 |\n",
       "| Fe3 | low  | 11.750000 | 7.028150 |\n",
       "| Fe2 | mid  |  9.632222 | 6.691215 |\n",
       "| Fe3 | mid  |  8.203889 | 5.447386 |\n",
       "\n"
      ],
      "text/plain": [
       "  FeIon Dose mean      sd      \n",
       "1 Fe2   high  5.936667 2.806778\n",
       "2 Fe3   high  3.698889 2.030870\n",
       "3 Fe2   low  12.639444 6.082089\n",
       "4 Fe3   low  11.750000 7.028150\n",
       "5 Fe2   mid   9.632222 6.691215\n",
       "6 Fe3   mid   8.203889 5.447386"
      ]
     },
     "metadata": {},
     "output_type": "display_data"
    }
   ],
   "source": [
    "grouped_means <- aggregate(Retention, by=list(FeIon, Dose), FUN=mean)\n",
    "grouped_sds  <- aggregate(Retention, by=list(FeIon, Dose), FUN=sd)\n",
    "\n",
    "# 下面几行代码将结果整合到一个表格，方便查看：\n",
    "grouped_means_sds <- cbind(grouped_means, grouped_sds[\"x\"])\n",
    "names(grouped_means_sds) <- c(\"FeIon\", \"Dose\", \"mean\", \"sd\")\n",
    "grouped_means_sds"
   ]
  },
  {
   "cell_type": "markdown",
   "id": "saving-compilation",
   "metadata": {},
   "source": [
    "为方便观察，按 $Fe^{2+}$、$Fe^{3+}$ 并排比较："
   ]
  },
  {
   "cell_type": "code",
   "execution_count": 4,
   "id": "finite-shield",
   "metadata": {},
   "outputs": [
    {
     "data": {
      "text/html": [
       "<table class=\"dataframe\">\n",
       "<caption>A data.frame: 3 × 9</caption>\n",
       "<thead>\n",
       "\t<tr><th></th><th scope=col>FeIon</th><th scope=col>Dose</th><th scope=col>mean</th><th scope=col>sd</th><th scope=col>|</th><th scope=col>FeIon</th><th scope=col>Dose</th><th scope=col>mean</th><th scope=col>sd</th></tr>\n",
       "\t<tr><th></th><th scope=col>&lt;chr&gt;</th><th scope=col>&lt;chr&gt;</th><th scope=col>&lt;dbl&gt;</th><th scope=col>&lt;dbl&gt;</th><th scope=col>&lt;chr&gt;</th><th scope=col>&lt;chr&gt;</th><th scope=col>&lt;chr&gt;</th><th scope=col>&lt;dbl&gt;</th><th scope=col>&lt;dbl&gt;</th></tr>\n",
       "</thead>\n",
       "<tbody>\n",
       "\t<tr><th scope=row>1</th><td>Fe2</td><td>high</td><td> 5.936667</td><td>2.806778</td><td>|</td><td>Fe3</td><td>high</td><td> 3.698889</td><td>2.030870</td></tr>\n",
       "\t<tr><th scope=row>3</th><td>Fe2</td><td>low </td><td>12.639444</td><td>6.082089</td><td>|</td><td>Fe3</td><td>low </td><td>11.750000</td><td>7.028150</td></tr>\n",
       "\t<tr><th scope=row>5</th><td>Fe2</td><td>mid </td><td> 9.632222</td><td>6.691215</td><td>|</td><td>Fe3</td><td>mid </td><td> 8.203889</td><td>5.447386</td></tr>\n",
       "</tbody>\n",
       "</table>\n"
      ],
      "text/latex": [
       "A data.frame: 3 × 9\n",
       "\\begin{tabular}{r|lllllllll}\n",
       "  & FeIon & Dose & mean & sd & \\textbar{} & FeIon & Dose & mean & sd\\\\\n",
       "  & <chr> & <chr> & <dbl> & <dbl> & <chr> & <chr> & <chr> & <dbl> & <dbl>\\\\\n",
       "\\hline\n",
       "\t1 & Fe2 & high &  5.936667 & 2.806778 & \\textbar{} & Fe3 & high &  3.698889 & 2.030870\\\\\n",
       "\t3 & Fe2 & low  & 12.639444 & 6.082089 & \\textbar{} & Fe3 & low  & 11.750000 & 7.028150\\\\\n",
       "\t5 & Fe2 & mid  &  9.632222 & 6.691215 & \\textbar{} & Fe3 & mid  &  8.203889 & 5.447386\\\\\n",
       "\\end{tabular}\n"
      ],
      "text/markdown": [
       "\n",
       "A data.frame: 3 × 9\n",
       "\n",
       "| <!--/--> | FeIon &lt;chr&gt; | Dose &lt;chr&gt; | mean &lt;dbl&gt; | sd &lt;dbl&gt; | | &lt;chr&gt; | FeIon &lt;chr&gt; | Dose &lt;chr&gt; | mean &lt;dbl&gt; | sd &lt;dbl&gt; |\n",
       "|---|---|---|---|---|---|---|---|---|---|\n",
       "| 1 | Fe2 | high |  5.936667 | 2.806778 | | | Fe3 | high |  3.698889 | 2.030870 |\n",
       "| 3 | Fe2 | low  | 12.639444 | 6.082089 | | | Fe3 | low  | 11.750000 | 7.028150 |\n",
       "| 5 | Fe2 | mid  |  9.632222 | 6.691215 | | | Fe3 | mid  |  8.203889 | 5.447386 |\n",
       "\n"
      ],
      "text/plain": [
       "  FeIon Dose mean      sd       | FeIon Dose mean      sd      \n",
       "1 Fe2   high  5.936667 2.806778 | Fe3   high  3.698889 2.030870\n",
       "3 Fe2   low  12.639444 6.082089 | Fe3   low  11.750000 7.028150\n",
       "5 Fe2   mid   9.632222 6.691215 | Fe3   mid   8.203889 5.447386"
      ]
     },
     "metadata": {},
     "output_type": "display_data"
    }
   ],
   "source": [
    "(function() {\n",
    "    `|` <- rep(\"|\", 3);  # 这里为了显示效果取了一个 `|` 变量名，为避免后续麻烦，使用了函数包裹立即执行来隔离环境\n",
    "\n",
    "    cbind(\n",
    "        grouped_means_sds[grouped_means_sds$FeIon==\"Fe2\",], \n",
    "        `|`,\n",
    "        grouped_means_sds[grouped_means_sds$FeIon==\"Fe3\",]\n",
    "    )\n",
    "})()"
   ]
  },
  {
   "cell_type": "markdown",
   "id": "saved-persian",
   "metadata": {},
   "source": [
    "按剂量低、中、高并排比较："
   ]
  },
  {
   "cell_type": "code",
   "execution_count": 5,
   "id": "critical-substitute",
   "metadata": {},
   "outputs": [
    {
     "data": {
      "text/html": [
       "<table class=\"dataframe\">\n",
       "<caption>A data.frame: 2 × 14</caption>\n",
       "<thead>\n",
       "\t<tr><th></th><th scope=col>FeIon</th><th scope=col>Dose</th><th scope=col>mean</th><th scope=col>sd</th><th scope=col>|</th><th scope=col>FeIon</th><th scope=col>Dose</th><th scope=col>mean</th><th scope=col>sd</th><th scope=col>|</th><th scope=col>FeIon</th><th scope=col>Dose</th><th scope=col>mean</th><th scope=col>sd</th></tr>\n",
       "\t<tr><th></th><th scope=col>&lt;chr&gt;</th><th scope=col>&lt;chr&gt;</th><th scope=col>&lt;dbl&gt;</th><th scope=col>&lt;dbl&gt;</th><th scope=col>&lt;chr&gt;</th><th scope=col>&lt;chr&gt;</th><th scope=col>&lt;chr&gt;</th><th scope=col>&lt;dbl&gt;</th><th scope=col>&lt;dbl&gt;</th><th scope=col>&lt;chr&gt;</th><th scope=col>&lt;chr&gt;</th><th scope=col>&lt;chr&gt;</th><th scope=col>&lt;dbl&gt;</th><th scope=col>&lt;dbl&gt;</th></tr>\n",
       "</thead>\n",
       "<tbody>\n",
       "\t<tr><th scope=row>3</th><td>Fe2</td><td>low</td><td>12.63944</td><td>6.082089</td><td>|</td><td>Fe2</td><td>mid</td><td>9.632222</td><td>6.691215</td><td>|</td><td>Fe2</td><td>high</td><td>5.936667</td><td>2.806778</td></tr>\n",
       "\t<tr><th scope=row>4</th><td>Fe3</td><td>low</td><td>11.75000</td><td>7.028150</td><td>|</td><td>Fe3</td><td>mid</td><td>8.203889</td><td>5.447386</td><td>|</td><td>Fe3</td><td>high</td><td>3.698889</td><td>2.030870</td></tr>\n",
       "</tbody>\n",
       "</table>\n"
      ],
      "text/latex": [
       "A data.frame: 2 × 14\n",
       "\\begin{tabular}{r|llllllllllllll}\n",
       "  & FeIon & Dose & mean & sd & \\textbar{} & FeIon & Dose & mean & sd & \\textbar{} & FeIon & Dose & mean & sd\\\\\n",
       "  & <chr> & <chr> & <dbl> & <dbl> & <chr> & <chr> & <chr> & <dbl> & <dbl> & <chr> & <chr> & <chr> & <dbl> & <dbl>\\\\\n",
       "\\hline\n",
       "\t3 & Fe2 & low & 12.63944 & 6.082089 & \\textbar{} & Fe2 & mid & 9.632222 & 6.691215 & \\textbar{} & Fe2 & high & 5.936667 & 2.806778\\\\\n",
       "\t4 & Fe3 & low & 11.75000 & 7.028150 & \\textbar{} & Fe3 & mid & 8.203889 & 5.447386 & \\textbar{} & Fe3 & high & 3.698889 & 2.030870\\\\\n",
       "\\end{tabular}\n"
      ],
      "text/markdown": [
       "\n",
       "A data.frame: 2 × 14\n",
       "\n",
       "| <!--/--> | FeIon &lt;chr&gt; | Dose &lt;chr&gt; | mean &lt;dbl&gt; | sd &lt;dbl&gt; | | &lt;chr&gt; | FeIon &lt;chr&gt; | Dose &lt;chr&gt; | mean &lt;dbl&gt; | sd &lt;dbl&gt; | | &lt;chr&gt; | FeIon &lt;chr&gt; | Dose &lt;chr&gt; | mean &lt;dbl&gt; | sd &lt;dbl&gt; |\n",
       "|---|---|---|---|---|---|---|---|---|---|---|---|---|---|---|\n",
       "| 3 | Fe2 | low | 12.63944 | 6.082089 | | | Fe2 | mid | 9.632222 | 6.691215 | | | Fe2 | high | 5.936667 | 2.806778 |\n",
       "| 4 | Fe3 | low | 11.75000 | 7.028150 | | | Fe3 | mid | 8.203889 | 5.447386 | | | Fe3 | high | 3.698889 | 2.030870 |\n",
       "\n"
      ],
      "text/plain": [
       "  FeIon Dose mean     sd       | FeIon Dose mean     sd       | FeIon Dose\n",
       "3 Fe2   low  12.63944 6.082089 | Fe2   mid  9.632222 6.691215 | Fe2   high\n",
       "4 Fe3   low  11.75000 7.028150 | Fe3   mid  8.203889 5.447386 | Fe3   high\n",
       "  mean     sd      \n",
       "3 5.936667 2.806778\n",
       "4 3.698889 2.030870"
      ]
     },
     "metadata": {},
     "output_type": "display_data"
    }
   ],
   "source": [
    "(function() {\n",
    "    `|` <- rep(\"|\", 2);  # sep char: 这里为了显示效果取了一个 `|` 变量名，为避免后续麻烦，使用了函数包裹立即执行来隔离环境\n",
    "\n",
    "    cbind(\n",
    "        grouped_means_sds[grouped_means_sds$Dose==\"low\",], \n",
    "        `|`,\n",
    "        grouped_means_sds[grouped_means_sds$Dose==\"mid\",],\n",
    "        `|`,\n",
    "        grouped_means_sds[grouped_means_sds$Dose==\"high\",]\n",
    "    )\n",
    "})()"
   ]
  },
  {
   "cell_type": "markdown",
   "id": "revised-thumb",
   "metadata": {},
   "source": [
    "可以画出箱线图来比较："
   ]
  },
  {
   "cell_type": "code",
   "execution_count": 6,
   "id": "presidential-sheep",
   "metadata": {},
   "outputs": [
    {
     "data": {
      "image/png": "[encoded data removed]",
      "text/plain": [
       "plot without title"
      ]
     },
     "metadata": {
      "image/png": {
       "height": 420,
       "width": 420
      }
     },
     "output_type": "display_data"
    }
   ],
   "source": [
    "par(mfrow=c(2,2))\n",
    "\n",
    "boxplot(`mean` ~ `FeIon`, data=grouped_means_sds)\n",
    "boxplot(`sd` ~ `FeIon`, data=grouped_means_sds)\n",
    "boxplot(`mean` ~ `Dose`, data=grouped_means_sds)\n",
    "boxplot(`sd` ~ `Dose`, data=grouped_means_sds)"
   ]
  },
  {
   "cell_type": "markdown",
   "id": "loaded-recognition",
   "metadata": {},
   "source": [
    "从比较结果来看，高剂量组标准差明显异于其他两组，认为假定误差的等方差性不太合理。\n",
    "所以不能直接进行方差分析。"
   ]
  },
  {
   "cell_type": "markdown",
   "id": "extreme-delta",
   "metadata": {},
   "source": [
    "### (2)\n",
    "\n",
    "![题（2）](https://tva1.sinaimg.cn/large/008i3skNly1gr7gc6aor7j61mu04iq4i02.jpg)"
   ]
  },
  {
   "cell_type": "markdown",
   "id": "sized-steel",
   "metadata": {},
   "source": [
    "自然对数变换，把变换后的数据列叫做 `lnRetention`："
   ]
  },
  {
   "cell_type": "code",
   "execution_count": 7,
   "id": "crude-virtue",
   "metadata": {},
   "outputs": [],
   "source": [
    "lnRetention <- log(Retention)\n",
    "data <- cbind(data, lnRetention)"
   ]
  },
  {
   "cell_type": "markdown",
   "id": "physical-participation",
   "metadata": {},
   "source": [
    "计算变换后的分组均值、标准差："
   ]
  },
  {
   "cell_type": "code",
   "execution_count": 8,
   "id": "nutritional-format",
   "metadata": {},
   "outputs": [
    {
     "data": {
      "text/html": [
       "<table class=\"dataframe\">\n",
       "<caption>A data.frame: 6 × 4</caption>\n",
       "<thead>\n",
       "\t<tr><th scope=col>FeIon</th><th scope=col>Dose</th><th scope=col>mean</th><th scope=col>sd</th></tr>\n",
       "\t<tr><th scope=col>&lt;chr&gt;</th><th scope=col>&lt;chr&gt;</th><th scope=col>&lt;dbl&gt;</th><th scope=col>&lt;dbl&gt;</th></tr>\n",
       "</thead>\n",
       "<tbody>\n",
       "\t<tr><td>Fe2</td><td>high</td><td>1.680129</td><td>0.4645464</td></tr>\n",
       "\t<tr><td>Fe3</td><td>high</td><td>1.160924</td><td>0.5854773</td></tr>\n",
       "\t<tr><td>Fe2</td><td>low </td><td>2.403389</td><td>0.5693701</td></tr>\n",
       "\t<tr><td>Fe3</td><td>low </td><td>2.279981</td><td>0.6563113</td></tr>\n",
       "\t<tr><td>Fe2</td><td>mid </td><td>2.090045</td><td>0.5736511</td></tr>\n",
       "\t<tr><td>Fe3</td><td>mid </td><td>1.901225</td><td>0.6585116</td></tr>\n",
       "</tbody>\n",
       "</table>\n"
      ],
      "text/latex": [
       "A data.frame: 6 × 4\n",
       "\\begin{tabular}{llll}\n",
       " FeIon & Dose & mean & sd\\\\\n",
       " <chr> & <chr> & <dbl> & <dbl>\\\\\n",
       "\\hline\n",
       "\t Fe2 & high & 1.680129 & 0.4645464\\\\\n",
       "\t Fe3 & high & 1.160924 & 0.5854773\\\\\n",
       "\t Fe2 & low  & 2.403389 & 0.5693701\\\\\n",
       "\t Fe3 & low  & 2.279981 & 0.6563113\\\\\n",
       "\t Fe2 & mid  & 2.090045 & 0.5736511\\\\\n",
       "\t Fe3 & mid  & 1.901225 & 0.6585116\\\\\n",
       "\\end{tabular}\n"
      ],
      "text/markdown": [
       "\n",
       "A data.frame: 6 × 4\n",
       "\n",
       "| FeIon &lt;chr&gt; | Dose &lt;chr&gt; | mean &lt;dbl&gt; | sd &lt;dbl&gt; |\n",
       "|---|---|---|---|\n",
       "| Fe2 | high | 1.680129 | 0.4645464 |\n",
       "| Fe3 | high | 1.160924 | 0.5854773 |\n",
       "| Fe2 | low  | 2.403389 | 0.5693701 |\n",
       "| Fe3 | low  | 2.279981 | 0.6563113 |\n",
       "| Fe2 | mid  | 2.090045 | 0.5736511 |\n",
       "| Fe3 | mid  | 1.901225 | 0.6585116 |\n",
       "\n"
      ],
      "text/plain": [
       "  FeIon Dose mean     sd       \n",
       "1 Fe2   high 1.680129 0.4645464\n",
       "2 Fe3   high 1.160924 0.5854773\n",
       "3 Fe2   low  2.403389 0.5693701\n",
       "4 Fe3   low  2.279981 0.6563113\n",
       "5 Fe2   mid  2.090045 0.5736511\n",
       "6 Fe3   mid  1.901225 0.6585116"
      ]
     },
     "metadata": {},
     "output_type": "display_data"
    }
   ],
   "source": [
    "grouped_ln_means <- aggregate(lnRetention, by=list(FeIon, Dose), FUN=mean)\n",
    "grouped_ln_sds   <- aggregate(lnRetention, by=list(FeIon, Dose), FUN=sd)\n",
    "\n",
    "# 下面几行代码将结果整合到一个表格，方便查看：\n",
    "grouped_ln_means_sds <- cbind(grouped_ln_means, grouped_ln_sds[\"x\"])\n",
    "names(grouped_ln_means_sds) <- c(\"FeIon\", \"Dose\", \"mean\", \"sd\")\n",
    "grouped_ln_means_sds"
   ]
  },
  {
   "cell_type": "markdown",
   "id": "industrial-dietary",
   "metadata": {},
   "source": [
    "作图比较："
   ]
  },
  {
   "cell_type": "code",
   "execution_count": 9,
   "id": "weighted-pregnancy",
   "metadata": {},
   "outputs": [
    {
     "data": {
      "image/png": "[encoded data removed]",
      "text/plain": [
       "plot without title"
      ]
     },
     "metadata": {
      "image/png": {
       "height": 420,
       "width": 420
      }
     },
     "output_type": "display_data"
    }
   ],
   "source": [
    "par(mfrow=c(2,2))\n",
    "\n",
    "boxplot(`mean` ~ `FeIon`, data=grouped_ln_means_sds)\n",
    "boxplot(`sd` ~ `FeIon`,   data=grouped_ln_means_sds)\n",
    "boxplot(`mean` ~ `Dose`,  data=grouped_ln_means_sds)\n",
    "boxplot(`sd` ~ `Dose`,    data=grouped_ln_means_sds)"
   ]
  },
  {
   "cell_type": "markdown",
   "id": "continent-agency",
   "metadata": {},
   "source": [
    "可以看到，现在个组标准差趋于一致，各族间标准差差异不大。\n",
    "可以利用变换之后的数据进行方差分析了。"
   ]
  },
  {
   "cell_type": "markdown",
   "id": "quantitative-parker",
   "metadata": {},
   "source": [
    "### (3)\n",
    "\n",
    "![题（3）](https://tva1.sinaimg.cn/large/008i3skNly1gr7grannygj31le050q51.jpg)"
   ]
  },
  {
   "cell_type": "code",
   "execution_count": 10,
   "id": "vietnamese-course",
   "metadata": {},
   "outputs": [
    {
     "data": {
      "text/plain": [
       "             Df Sum Sq Mean Sq F value   Pr(>F)    \n",
       "FeIon         1   2.07   2.074   5.993   0.0161 *  \n",
       "Dose          2  15.59   7.794  22.524 7.91e-09 ***\n",
       "FeIon:Dose    2   0.81   0.405   1.171   0.3143    \n",
       "Residuals   102  35.30   0.346                     \n",
       "---\n",
       "Signif. codes:  0 ‘***’ 0.001 ‘**’ 0.01 ‘*’ 0.05 ‘.’ 0.1 ‘ ’ 1"
      ]
     },
     "metadata": {},
     "output_type": "display_data"
    }
   ],
   "source": [
    "lnRetention.aov <- aov(lnRetention ~ FeIon + Dose + FeIon:Dose, data=data)\n",
    "summary(lnRetention.aov)"
   ]
  },
  {
   "cell_type": "markdown",
   "id": "proprietary-privacy",
   "metadata": {},
   "source": [
    "从结果中可以看出，在显著水平 $\\alpha=0.05$ 下，\n",
    "铁离子种类因素（$\\textrm{Fe}^{2+}$、$\\textrm{Fe}^{3+}$）和\n",
    "剂量因素（剂量低、中、高）对存留量的影响均显著（检验 p 值都小于 $0.05$）。\n",
    "即说明两种铁离子存留量是有显著差异的，不同剂量水平下存留量也是有显著差异的。\n",
    "\n",
    "同时，可以看到在该水平下，交叉因子 (`FeIon:Dose`项）对存留量影响不显著（$p=0.3143>0.05$），认为两种铁离子存留量在不同剂量水平下可认为是相同的。"
   ]
  },
  {
   "cell_type": "markdown",
   "id": "temporal-vegetation",
   "metadata": {},
   "source": [
    "### (4)\n",
    "\n",
    "![题（4）](https://tva1.sinaimg.cn/large/008i3skNly1gr7haazrvej31li050acr.jpg)"
   ]
  },
  {
   "cell_type": "markdown",
   "id": "concrete-white",
   "metadata": {},
   "source": [
    "先求各因素在不同水平下的均值以及估计区间，可以复用 3.5 中封装的 mean_confin 函数："
   ]
  },
  {
   "cell_type": "code",
   "execution_count": 11,
   "id": "returning-suicide",
   "metadata": {},
   "outputs": [],
   "source": [
    "mean_confin <- function(x, ...) {    # mean and confidence interval of x by t.test\n",
    "    t.res <- t.test(x, ...)\n",
    "    mean_val <- t.res$estimate[[\"mean of x\"]]\n",
    "    mean_conf.in <- t.res$conf.in\n",
    "    \n",
    "    res <- c(mean_val, mean_conf.in)\n",
    "    names(res) <- c(\"mean\", \"conf.left\", \"conf.right\")\n",
    "    \n",
    "    res  # ret\n",
    "}"
   ]
  },
  {
   "cell_type": "markdown",
   "id": "imported-david",
   "metadata": {},
   "source": [
    "按离子："
   ]
  },
  {
   "cell_type": "code",
   "execution_count": 12,
   "id": "unlimited-constitution",
   "metadata": {},
   "outputs": [
    {
     "data": {
      "text/html": [
       "<table class=\"dataframe\">\n",
       "<caption>A matrix: 2 × 3 of type dbl</caption>\n",
       "<thead>\n",
       "\t<tr><th></th><th scope=col>mean</th><th scope=col>conf.left</th><th scope=col>conf.right</th></tr>\n",
       "</thead>\n",
       "<tbody>\n",
       "\t<tr><th scope=row>Fe2</th><td>2.057854</td><td>1.892251</td><td>2.223458</td></tr>\n",
       "\t<tr><th scope=row>Fe3</th><td>1.780710</td><td>1.568011</td><td>1.993409</td></tr>\n",
       "</tbody>\n",
       "</table>\n"
      ],
      "text/latex": [
       "A matrix: 2 × 3 of type dbl\n",
       "\\begin{tabular}{r|lll}\n",
       "  & mean & conf.left & conf.right\\\\\n",
       "\\hline\n",
       "\tFe2 & 2.057854 & 1.892251 & 2.223458\\\\\n",
       "\tFe3 & 1.780710 & 1.568011 & 1.993409\\\\\n",
       "\\end{tabular}\n"
      ],
      "text/markdown": [
       "\n",
       "A matrix: 2 × 3 of type dbl\n",
       "\n",
       "| <!--/--> | mean | conf.left | conf.right |\n",
       "|---|---|---|---|\n",
       "| Fe2 | 2.057854 | 1.892251 | 2.223458 |\n",
       "| Fe3 | 1.780710 | 1.568011 | 1.993409 |\n",
       "\n"
      ],
      "text/plain": [
       "    mean     conf.left conf.right\n",
       "Fe2 2.057854 1.892251  2.223458  \n",
       "Fe3 1.780710 1.568011  1.993409  "
      ]
     },
     "metadata": {},
     "output_type": "display_data"
    }
   ],
   "source": [
    "(function() {\n",
    "    Fe2 <- mean_confin(data[FeIon==\"Fe2\",]$lnRetention)\n",
    "    Fe3 <- mean_confin(data[FeIon==\"Fe3\",]$lnRetention)\n",
    "    rbind(Fe2, Fe3)\n",
    "})()"
   ]
  },
  {
   "cell_type": "markdown",
   "id": "expensive-rogers",
   "metadata": {},
   "source": [
    "按剂量："
   ]
  },
  {
   "cell_type": "code",
   "execution_count": 13,
   "id": "institutional-madagascar",
   "metadata": {},
   "outputs": [
    {
     "data": {
      "text/html": [
       "<table class=\"dataframe\">\n",
       "<caption>A matrix: 3 × 3 of type dbl</caption>\n",
       "<thead>\n",
       "\t<tr><th></th><th scope=col>mean</th><th scope=col>conf.left</th><th scope=col>conf.right</th></tr>\n",
       "</thead>\n",
       "<tbody>\n",
       "\t<tr><th scope=row>Low</th><td>2.341685</td><td>2.135709</td><td>2.547661</td></tr>\n",
       "\t<tr><th scope=row>Mid</th><td>1.995635</td><td>1.787163</td><td>2.204107</td></tr>\n",
       "\t<tr><th scope=row>High</th><td>1.420526</td><td>1.223052</td><td>1.618001</td></tr>\n",
       "</tbody>\n",
       "</table>\n"
      ],
      "text/latex": [
       "A matrix: 3 × 3 of type dbl\n",
       "\\begin{tabular}{r|lll}\n",
       "  & mean & conf.left & conf.right\\\\\n",
       "\\hline\n",
       "\tLow & 2.341685 & 2.135709 & 2.547661\\\\\n",
       "\tMid & 1.995635 & 1.787163 & 2.204107\\\\\n",
       "\tHigh & 1.420526 & 1.223052 & 1.618001\\\\\n",
       "\\end{tabular}\n"
      ],
      "text/markdown": [
       "\n",
       "A matrix: 3 × 3 of type dbl\n",
       "\n",
       "| <!--/--> | mean | conf.left | conf.right |\n",
       "|---|---|---|---|\n",
       "| Low | 2.341685 | 2.135709 | 2.547661 |\n",
       "| Mid | 1.995635 | 1.787163 | 2.204107 |\n",
       "| High | 1.420526 | 1.223052 | 1.618001 |\n",
       "\n"
      ],
      "text/plain": [
       "     mean     conf.left conf.right\n",
       "Low  2.341685 2.135709  2.547661  \n",
       "Mid  1.995635 1.787163  2.204107  \n",
       "High 1.420526 1.223052  1.618001  "
      ]
     },
     "metadata": {},
     "output_type": "display_data"
    }
   ],
   "source": [
    "(function() {\n",
    "    Low  <- mean_confin(data[Dose==\"low\",]$lnRetention)\n",
    "    Mid  <- mean_confin(data[Dose==\"mid\",]$lnRetention)\n",
    "    High <- mean_confin(data[Dose==\"high\",]$lnRetention)\n",
    "    rbind(Low, Mid, High)\n",
    "})()"
   ]
  },
  {
   "cell_type": "markdown",
   "id": "attractive-bread",
   "metadata": {},
   "source": [
    "利用 DescTools 包，求 Bonferroni 同时置信区间："
   ]
  },
  {
   "cell_type": "code",
   "execution_count": 14,
   "id": "answering-cleaners",
   "metadata": {},
   "outputs": [
    {
     "data": {
      "text/plain": [
       "\n",
       "  Posthoc multiple comparisons of means : Bonferroni \n",
       "    95% family-wise confidence level\n",
       "\n",
       "$FeIon\n",
       "              diff     lwr.ci      upr.ci   pval    \n",
       "Fe3-Fe2 -0.2771441 -0.5016931 -0.05259515 0.0161 *  \n",
       "\n",
       "$Dose\n",
       "               diff     lwr.ci       upr.ci    pval    \n",
       "low-high  0.9211588  0.5836659  1.258651627 4.6e-09 ***\n",
       "mid-high  0.5751084  0.2376156  0.912601307 0.00021 ***\n",
       "mid-low  -0.3460503 -0.6835432 -0.008557451 0.04251 *  \n",
       "\n",
       "$`FeIon:Dose`\n",
       "                        diff      lwr.ci     upr.ci    pval    \n",
       "Fe3:high-Fe2:high -0.5192055 -1.10861287 0.07020194  0.1408    \n",
       "Fe2:low-Fe2:high   0.7232596  0.13385220 1.31266701  0.0055 ** \n",
       "Fe3:low-Fe2:high   0.5998524  0.01044505 1.18925985  0.0425 *  \n",
       "Fe2:mid-Fe2:high   0.4099156 -0.17949182 0.99932299  0.5859    \n",
       "Fe3:mid-Fe2:high   0.2210958 -0.36831157 0.81050323  1.0000    \n",
       "Fe2:low-Fe3:high   1.2424651  0.65305767 1.83187247 9.7e-08 ***\n",
       "Fe3:low-Fe3:high   1.1190579  0.52965051 1.70846531 1.7e-06 ***\n",
       "Fe2:mid-Fe3:high   0.9291210  0.33971365 1.51852845  0.0001 ***\n",
       "Fe3:mid-Fe3:high   0.7403013  0.15089389 1.32970869  0.0040 ** \n",
       "Fe3:low-Fe2:low   -0.1234072 -0.71281456 0.46600024  1.0000    \n",
       "Fe2:mid-Fe2:low   -0.3133440 -0.90275142 0.27606338  1.0000    \n",
       "Fe3:mid-Fe2:low   -0.5021638 -1.09157118 0.08724362  0.1785    \n",
       "Fe2:mid-Fe3:low   -0.1899369 -0.77934426 0.39947054  1.0000    \n",
       "Fe3:mid-Fe3:low   -0.3787566 -0.96816402 0.21065078  0.8427    \n",
       "Fe3:mid-Fe2:mid   -0.1888198 -0.77822716 0.40058764  1.0000    \n",
       "\n",
       "---\n",
       "Signif. codes:  0 '***' 0.001 '**' 0.01 '*' 0.05 '.' 0.1 ' ' 1\n"
      ]
     },
     "metadata": {},
     "output_type": "display_data"
    }
   ],
   "source": [
    "# install.packages(\"DescTools\")\n",
    "library(DescTools)\n",
    "PostHocTest(lnRetention.aov, method = \"bonferroni\")"
   ]
  }
 ],
 "metadata": {
  "kernelspec": {
   "display_name": "R",
   "language": "R",
   "name": "ir"
  },
  "language_info": {
   "codemirror_mode": "r",
   "file_extension": ".r",
   "mimetype": "text/x-r-source",
   "name": "R",
   "pygments_lexer": "r",
   "version": "4.0.4"
  }
 },
 "nbformat": 4,
 "nbformat_minor": 5
}
